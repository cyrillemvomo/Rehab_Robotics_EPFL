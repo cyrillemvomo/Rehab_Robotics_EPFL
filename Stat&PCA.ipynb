{
 "cells": [
  {
   "cell_type": "code",
   "execution_count": 3497,
   "metadata": {},
   "outputs": [],
   "source": [
    "import pandas as pd\n",
    "pd.options.plotting.backend = \"plotly\"\n",
    "import numpy as np\n",
    "import plotly.express as px\n",
    "import plotly.graph_objects as go\n",
    "from plotly.subplots import make_subplots\n",
    "import scipy\n",
    "from scipy.fftpack import fft, fftfreq, fftshift, ifft\n",
    "from scipy import signal\n",
    "from scipy.signal import butter, lfilter, filtfilt\n",
    "from optcutfreq import optcutfreq\n",
    "import math \n",
    "from IPython.display import display, Math, Latex\n",
    "import matplotlib.pyplot as plt\n",
    "from matplotlib.pyplot import figure\n",
    "from scipy.signal import find_peaks\n",
    "from detecta import detect_peaks\n",
    "import math\n",
    "from detecta import detect_onset\n",
    "from tnorma import tnorma\n",
    "from scipy.interpolate import CubicSpline\n",
    "from scipy.signal import argrelextrema\n",
    "import random\n",
    "from scipy.integrate import cumtrapz\n",
    "from scipy import integrate\n",
    "from scipy.signal import detrend\n",
    "from scipy.interpolate import interp1d, PchipInterpolator\n",
    "import matplotlib.pyplot as plt\n",
    "import seaborn as sns\n",
    "from sklearn.decomposition import PCA\n",
    "from sklearn.feature_selection import mutual_info_regression\n",
    "from factor_analyzer import FactorAnalyzer\n",
    "from sklearn.preprocessing import StandardScaler\n",
    "from scipy.stats import spearmanr\n",
    "\n"
   ]
  },
  {
   "cell_type": "markdown",
   "metadata": {},
   "source": [
    "**Preprocessing**"
   ]
  },
  {
   "cell_type": "code",
   "execution_count": 3498,
   "metadata": {},
   "outputs": [],
   "source": [
    "def getNA(df):\n",
    "    '''\n",
    "        return index of rows with na in df\n",
    "    '''\n",
    "    rows_with_na = df[df.isna().any(axis=1)].index\n",
    "\n",
    "    return list(rows_with_na)"
   ]
  },
  {
   "cell_type": "code",
   "execution_count": 3499,
   "metadata": {},
   "outputs": [
    {
     "name": "stdout",
     "output_type": "stream",
     "text": [
      "19 participants finally included\n"
     ]
    }
   ],
   "source": [
    "#no exo\n",
    "no_exo = pd.read_csv('/Users/cyrilleetude/Downloads/e_walk_data_analysis/Data_analysis/Results.csv')\n",
    "no_exo = no_exo.drop(['Unnamed: 0'], axis = 1)\n",
    "no_exo = no_exo.drop([6], axis = 0)\n",
    "no_exo = no_exo.reset_index(drop=True)\n",
    "    # Save info\n",
    "info = no_exo[['ID',\t'Age',\t'Height (m)',\t'Weight (kg)',\t'BMI (kg/m2)']]\n",
    "#SRC\n",
    "SRC = pd.read_csv('/Users/cyrilleetude/Downloads/e_walk_data_analysis/Data_analysis/Results2.csv')\n",
    "SRC = SRC.drop(['Unnamed: 0'], axis = 1)\n",
    "SRC = pd.concat([info, SRC], axis=1)\n",
    "# HPT\n",
    "HPT = pd.read_csv('/Users/cyrilleetude/Downloads/e_walk_data_analysis/Data_analysis/Results3.csv')\n",
    "HPT = HPT.drop(['Unnamed: 0'], axis = 1)\n",
    "HPT = pd.concat([info, HPT], axis=1)\n",
    "# MR\n",
    "MR = pd.read_excel('/Users/cyrilleetude/Downloads/e_walk_data_analysis/Energetics_Full_Data.xlsx', usecols=['Subjects', 'Condition', 'Net MR [W/kg]'])\n",
    "MR_no_exo = MR.loc[(MR['Condition']=='CTR_0%')].reset_index(drop = True)[['Net MR [W/kg]']]\n",
    "MR_SRC = MR.loc[(MR['Condition']=='SRC_0%')].reset_index(drop = True)[['Net MR [W/kg]']]\n",
    "MR_HPT = MR.loc[(MR['Condition']=='HPT_0%')].reset_index(drop = True)[['Net MR [W/kg]']]\n",
    "# MR= MR.loc[(MR['Condition']=='CTR_0%')| (MR['Condition']=='SRC_0%')| (MR['Condition']=='HPT_0%')].reset_index(drop = True)\n",
    "\n",
    "# Perceived Effort \n",
    "Borg = pd.read_excel('/Users/cyrilleetude/Downloads/e_walk_data_analysis/Borg.xlsx', usecols=['Subject', 'NO_flat', 'SRC_flat', 'HPT_flat'])\n",
    "\n",
    "#Clean \n",
    "to_drop = list(set(getNA(no_exo)+ getNA(SRC) + getNA(HPT) + getNA(MR_no_exo) + getNA(MR_HPT) + getNA(MR_SRC) + getNA(Borg)))\n",
    "no_exo, SRC, HPT, MR_no_exo, MR_SRC, MR_HPT, Borg = no_exo.drop(to_drop, axis = 0).reset_index(drop = True), SRC.drop(to_drop, axis = 0).reset_index(drop = True), HPT.drop(to_drop, axis = 0).reset_index(drop = True), MR_no_exo.drop(to_drop, axis = 0).reset_index(drop = True), MR_SRC.drop(to_drop, axis = 0).reset_index(drop = True), MR_HPT.drop(to_drop, axis = 0).reset_index(drop = True), Borg.drop(to_drop, axis = 0).reset_index(drop = True)\n",
    "# Resp with best = (SRC)\n",
    "Best = SRC\n",
    "\n",
    "\n",
    "# GET RESP \n",
    "\n",
    "\n",
    "print(f'{len(SRC)} participants finally included')\n",
    "\n",
    "MR_change = pd.DataFrame(MR_no_exo['Net MR [W/kg]'].values - MR_SRC['Net MR [W/kg]'].values, columns = ['red'])\n",
    "\n",
    "\n",
    "Non_resp_id = np.where(MR_no_exo['Net MR [W/kg]'].values - MR_SRC['Net MR [W/kg]'].values <np.mean(MR_no_exo['Net MR [W/kg]'].values - MR_SRC['Net MR [W/kg]'].values))[0]\n",
    "MR_Non_resp = MR_change.loc[list(Non_resp_id)]\n",
    "\n",
    "resp_id = np.where(MR_no_exo['Net MR [W/kg]'].values - MR_SRC['Net MR [W/kg]'].values > np.mean(MR_no_exo['Net MR [W/kg]'].values - MR_SRC['Net MR [W/kg]'].values))[0]\n",
    "MR_resp = MR_change.loc[list(resp_id)]\n",
    "\n",
    "#DF to Save\n",
    "Baseline_df = pd.concat([no_exo, MR_no_exo], axis=1) #baseline for PCA (1)\n",
    "Perceived_df = pd.concat([SRC, Borg], axis=1) # Perceived for correlation (4)\n",
    "SRC, HPT = SRC, HPT # SRC et HPT (2)\n",
    "resp, non_resp = SRC.loc[list(resp_id)], SRC.loc[list(Non_resp_id)] #(3)\n",
    "resp_noexo, non_resp_noexo = no_exo.loc[list(resp_id)], no_exo.loc[list(Non_resp_id)] #(3)\n",
    "respborg, non_respborg = Borg.loc[list(resp_id)], Borg.loc[list(Non_resp_id)] #(3)\n",
    "respMRSRC, non_respMRSRC = MR_SRC[['Net MR [W/kg]']].loc[list(resp_id)], MR_SRC[['Net MR [W/kg]']].loc[list(Non_resp_id)]"
   ]
  },
  {
   "cell_type": "code",
   "execution_count": 3500,
   "metadata": {},
   "outputs": [
    {
     "data": {
      "text/html": [
       "<div>\n",
       "<style scoped>\n",
       "    .dataframe tbody tr th:only-of-type {\n",
       "        vertical-align: middle;\n",
       "    }\n",
       "\n",
       "    .dataframe tbody tr th {\n",
       "        vertical-align: top;\n",
       "    }\n",
       "\n",
       "    .dataframe thead th {\n",
       "        text-align: right;\n",
       "    }\n",
       "</style>\n",
       "<table border=\"1\" class=\"dataframe\">\n",
       "  <thead>\n",
       "    <tr style=\"text-align: right;\">\n",
       "      <th></th>\n",
       "      <th>ID</th>\n",
       "      <th>Age</th>\n",
       "      <th>Height (m)</th>\n",
       "      <th>Weight (kg)</th>\n",
       "      <th>BMI (kg/m2)</th>\n",
       "      <th>mean_step_time (s)SRC</th>\n",
       "      <th>mean_stride_time (s)SRC</th>\n",
       "      <th>cadence (step/min)SRC</th>\n",
       "      <th>mean_swing_time (s)SRC</th>\n",
       "      <th>mean_stance_time (s)SRC</th>\n",
       "      <th>...</th>\n",
       "      <th>mean_GC_rms_acc_AP (mm/s2)SRC</th>\n",
       "      <th>cov_rms_acc_ML (%)SRC</th>\n",
       "      <th>cov_rms_acc_AP (%)SRC</th>\n",
       "      <th>linear_momentum_ML (kg.m/s)SRC</th>\n",
       "      <th>linear_momentum_AP (kg.m/s)SRC</th>\n",
       "      <th>est_Vert_vel_redir (rad)SRC</th>\n",
       "      <th>est_mean_mech_work_pushoff (J/kg)SRC</th>\n",
       "      <th>est_inst_power_pushoff (W)SRC</th>\n",
       "      <th>est_cov_mech_work_pushoff (%)SRC</th>\n",
       "      <th>est_cov_inst_power_pushoff (%)SRC</th>\n",
       "    </tr>\n",
       "  </thead>\n",
       "  <tbody>\n",
       "    <tr>\n",
       "      <th>0</th>\n",
       "      <td>1</td>\n",
       "      <td>21</td>\n",
       "      <td>1.77</td>\n",
       "      <td>77.0</td>\n",
       "      <td>24.577867</td>\n",
       "      <td>0.606452</td>\n",
       "      <td>1.212816</td>\n",
       "      <td>99</td>\n",
       "      <td>0.434751</td>\n",
       "      <td>0.777895</td>\n",
       "      <td>...</td>\n",
       "      <td>817.306375</td>\n",
       "      <td>12.630689</td>\n",
       "      <td>3.846838</td>\n",
       "      <td>6.639640</td>\n",
       "      <td>5.080788</td>\n",
       "      <td>0.021346</td>\n",
       "      <td>44.276301</td>\n",
       "      <td>40.174009</td>\n",
       "      <td>15.175357</td>\n",
       "      <td>5.020653</td>\n",
       "    </tr>\n",
       "    <tr>\n",
       "      <th>1</th>\n",
       "      <td>2</td>\n",
       "      <td>22</td>\n",
       "      <td>1.75</td>\n",
       "      <td>68.0</td>\n",
       "      <td>22.204082</td>\n",
       "      <td>0.626762</td>\n",
       "      <td>1.253400</td>\n",
       "      <td>96</td>\n",
       "      <td>0.460493</td>\n",
       "      <td>0.792868</td>\n",
       "      <td>...</td>\n",
       "      <td>940.300428</td>\n",
       "      <td>19.615811</td>\n",
       "      <td>3.125972</td>\n",
       "      <td>5.252284</td>\n",
       "      <td>5.397460</td>\n",
       "      <td>0.026652</td>\n",
       "      <td>7.744360</td>\n",
       "      <td>40.154242</td>\n",
       "      <td>52.059146</td>\n",
       "      <td>5.116444</td>\n",
       "    </tr>\n",
       "    <tr>\n",
       "      <th>2</th>\n",
       "      <td>3</td>\n",
       "      <td>21</td>\n",
       "      <td>1.92</td>\n",
       "      <td>70.0</td>\n",
       "      <td>18.988715</td>\n",
       "      <td>0.576736</td>\n",
       "      <td>1.153444</td>\n",
       "      <td>104</td>\n",
       "      <td>0.406364</td>\n",
       "      <td>0.747073</td>\n",
       "      <td>...</td>\n",
       "      <td>741.582247</td>\n",
       "      <td>11.489341</td>\n",
       "      <td>4.410015</td>\n",
       "      <td>4.379101</td>\n",
       "      <td>4.095917</td>\n",
       "      <td>0.017406</td>\n",
       "      <td>44.286836</td>\n",
       "      <td>33.790119</td>\n",
       "      <td>9.729668</td>\n",
       "      <td>4.925594</td>\n",
       "    </tr>\n",
       "    <tr>\n",
       "      <th>3</th>\n",
       "      <td>4</td>\n",
       "      <td>24</td>\n",
       "      <td>1.72</td>\n",
       "      <td>63.0</td>\n",
       "      <td>21.295295</td>\n",
       "      <td>0.601915</td>\n",
       "      <td>1.203909</td>\n",
       "      <td>100</td>\n",
       "      <td>0.426426</td>\n",
       "      <td>0.777482</td>\n",
       "      <td>...</td>\n",
       "      <td>840.866919</td>\n",
       "      <td>9.036264</td>\n",
       "      <td>3.995260</td>\n",
       "      <td>3.552584</td>\n",
       "      <td>4.173861</td>\n",
       "      <td>0.010230</td>\n",
       "      <td>35.787143</td>\n",
       "      <td>34.995076</td>\n",
       "      <td>5.849535</td>\n",
       "      <td>6.170333</td>\n",
       "    </tr>\n",
       "    <tr>\n",
       "      <th>7</th>\n",
       "      <td>9</td>\n",
       "      <td>28</td>\n",
       "      <td>1.89</td>\n",
       "      <td>83.0</td>\n",
       "      <td>23.235632</td>\n",
       "      <td>0.617750</td>\n",
       "      <td>1.235475</td>\n",
       "      <td>97</td>\n",
       "      <td>0.455342</td>\n",
       "      <td>0.780201</td>\n",
       "      <td>...</td>\n",
       "      <td>785.159667</td>\n",
       "      <td>10.444686</td>\n",
       "      <td>3.734075</td>\n",
       "      <td>7.815274</td>\n",
       "      <td>5.329535</td>\n",
       "      <td>0.011728</td>\n",
       "      <td>36.537732</td>\n",
       "      <td>44.453324</td>\n",
       "      <td>13.509317</td>\n",
       "      <td>5.710927</td>\n",
       "    </tr>\n",
       "    <tr>\n",
       "      <th>9</th>\n",
       "      <td>11</td>\n",
       "      <td>25</td>\n",
       "      <td>1.81</td>\n",
       "      <td>77.0</td>\n",
       "      <td>23.503556</td>\n",
       "      <td>0.631359</td>\n",
       "      <td>1.262684</td>\n",
       "      <td>95</td>\n",
       "      <td>0.464452</td>\n",
       "      <td>0.798258</td>\n",
       "      <td>...</td>\n",
       "      <td>913.712823</td>\n",
       "      <td>9.022721</td>\n",
       "      <td>4.201492</td>\n",
       "      <td>6.984649</td>\n",
       "      <td>5.938653</td>\n",
       "      <td>0.011789</td>\n",
       "      <td>9.755115</td>\n",
       "      <td>47.523617</td>\n",
       "      <td>41.401303</td>\n",
       "      <td>6.499914</td>\n",
       "    </tr>\n",
       "    <tr>\n",
       "      <th>10</th>\n",
       "      <td>12</td>\n",
       "      <td>59</td>\n",
       "      <td>1.77</td>\n",
       "      <td>77.0</td>\n",
       "      <td>24.577867</td>\n",
       "      <td>0.591262</td>\n",
       "      <td>1.182580</td>\n",
       "      <td>101</td>\n",
       "      <td>0.434179</td>\n",
       "      <td>0.748381</td>\n",
       "      <td>...</td>\n",
       "      <td>818.065812</td>\n",
       "      <td>6.397960</td>\n",
       "      <td>3.640271</td>\n",
       "      <td>7.217133</td>\n",
       "      <td>4.929675</td>\n",
       "      <td>0.025483</td>\n",
       "      <td>30.755179</td>\n",
       "      <td>40.662525</td>\n",
       "      <td>16.245449</td>\n",
       "      <td>5.281022</td>\n",
       "    </tr>\n",
       "    <tr>\n",
       "      <th>12</th>\n",
       "      <td>14</td>\n",
       "      <td>27</td>\n",
       "      <td>1.77</td>\n",
       "      <td>71.5</td>\n",
       "      <td>22.822305</td>\n",
       "      <td>0.591304</td>\n",
       "      <td>1.182625</td>\n",
       "      <td>102</td>\n",
       "      <td>0.416322</td>\n",
       "      <td>0.766229</td>\n",
       "      <td>...</td>\n",
       "      <td>846.170066</td>\n",
       "      <td>10.785512</td>\n",
       "      <td>3.293254</td>\n",
       "      <td>3.835804</td>\n",
       "      <td>4.947529</td>\n",
       "      <td>0.009385</td>\n",
       "      <td>28.507236</td>\n",
       "      <td>41.038506</td>\n",
       "      <td>12.846504</td>\n",
       "      <td>4.090295</td>\n",
       "    </tr>\n",
       "    <tr>\n",
       "      <th>14</th>\n",
       "      <td>16</td>\n",
       "      <td>28</td>\n",
       "      <td>1.67</td>\n",
       "      <td>59.5</td>\n",
       "      <td>21.334576</td>\n",
       "      <td>0.575034</td>\n",
       "      <td>1.150038</td>\n",
       "      <td>104</td>\n",
       "      <td>0.411450</td>\n",
       "      <td>0.738669</td>\n",
       "      <td>...</td>\n",
       "      <td>840.871346</td>\n",
       "      <td>16.868033</td>\n",
       "      <td>3.038902</td>\n",
       "      <td>4.043805</td>\n",
       "      <td>3.795121</td>\n",
       "      <td>0.014102</td>\n",
       "      <td>11.928939</td>\n",
       "      <td>34.348006</td>\n",
       "      <td>50.594719</td>\n",
       "      <td>3.580044</td>\n",
       "    </tr>\n",
       "    <tr>\n",
       "      <th>17</th>\n",
       "      <td>21</td>\n",
       "      <td>44</td>\n",
       "      <td>1.80</td>\n",
       "      <td>72.5</td>\n",
       "      <td>22.376543</td>\n",
       "      <td>0.587498</td>\n",
       "      <td>1.174870</td>\n",
       "      <td>102</td>\n",
       "      <td>0.426628</td>\n",
       "      <td>0.748373</td>\n",
       "      <td>...</td>\n",
       "      <td>795.116473</td>\n",
       "      <td>16.431177</td>\n",
       "      <td>4.364449</td>\n",
       "      <td>4.163874</td>\n",
       "      <td>4.637897</td>\n",
       "      <td>0.022401</td>\n",
       "      <td>14.651311</td>\n",
       "      <td>39.159258</td>\n",
       "      <td>35.096746</td>\n",
       "      <td>7.926293</td>\n",
       "    </tr>\n",
       "    <tr>\n",
       "      <th>18</th>\n",
       "      <td>23</td>\n",
       "      <td>26</td>\n",
       "      <td>1.69</td>\n",
       "      <td>57.5</td>\n",
       "      <td>20.132348</td>\n",
       "      <td>0.548645</td>\n",
       "      <td>1.097284</td>\n",
       "      <td>109</td>\n",
       "      <td>0.388486</td>\n",
       "      <td>0.708779</td>\n",
       "      <td>...</td>\n",
       "      <td>734.203281</td>\n",
       "      <td>17.189809</td>\n",
       "      <td>3.342273</td>\n",
       "      <td>3.193057</td>\n",
       "      <td>3.137701</td>\n",
       "      <td>0.013052</td>\n",
       "      <td>45.592950</td>\n",
       "      <td>26.891352</td>\n",
       "      <td>6.467229</td>\n",
       "      <td>3.987971</td>\n",
       "    </tr>\n",
       "  </tbody>\n",
       "</table>\n",
       "<p>11 rows × 43 columns</p>\n",
       "</div>"
      ],
      "text/plain": [
       "    ID  Age  Height (m)  Weight (kg)  BMI (kg/m2)  mean_step_time (s)SRC  \\\n",
       "0    1   21        1.77         77.0    24.577867               0.606452   \n",
       "1    2   22        1.75         68.0    22.204082               0.626762   \n",
       "2    3   21        1.92         70.0    18.988715               0.576736   \n",
       "3    4   24        1.72         63.0    21.295295               0.601915   \n",
       "7    9   28        1.89         83.0    23.235632               0.617750   \n",
       "9   11   25        1.81         77.0    23.503556               0.631359   \n",
       "10  12   59        1.77         77.0    24.577867               0.591262   \n",
       "12  14   27        1.77         71.5    22.822305               0.591304   \n",
       "14  16   28        1.67         59.5    21.334576               0.575034   \n",
       "17  21   44        1.80         72.5    22.376543               0.587498   \n",
       "18  23   26        1.69         57.5    20.132348               0.548645   \n",
       "\n",
       "    mean_stride_time (s)SRC  cadence (step/min)SRC  mean_swing_time (s)SRC  \\\n",
       "0                  1.212816                     99                0.434751   \n",
       "1                  1.253400                     96                0.460493   \n",
       "2                  1.153444                    104                0.406364   \n",
       "3                  1.203909                    100                0.426426   \n",
       "7                  1.235475                     97                0.455342   \n",
       "9                  1.262684                     95                0.464452   \n",
       "10                 1.182580                    101                0.434179   \n",
       "12                 1.182625                    102                0.416322   \n",
       "14                 1.150038                    104                0.411450   \n",
       "17                 1.174870                    102                0.426628   \n",
       "18                 1.097284                    109                0.388486   \n",
       "\n",
       "    mean_stance_time (s)SRC  ...  mean_GC_rms_acc_AP (mm/s2)SRC  \\\n",
       "0                  0.777895  ...                     817.306375   \n",
       "1                  0.792868  ...                     940.300428   \n",
       "2                  0.747073  ...                     741.582247   \n",
       "3                  0.777482  ...                     840.866919   \n",
       "7                  0.780201  ...                     785.159667   \n",
       "9                  0.798258  ...                     913.712823   \n",
       "10                 0.748381  ...                     818.065812   \n",
       "12                 0.766229  ...                     846.170066   \n",
       "14                 0.738669  ...                     840.871346   \n",
       "17                 0.748373  ...                     795.116473   \n",
       "18                 0.708779  ...                     734.203281   \n",
       "\n",
       "    cov_rms_acc_ML (%)SRC  cov_rms_acc_AP (%)SRC  \\\n",
       "0               12.630689               3.846838   \n",
       "1               19.615811               3.125972   \n",
       "2               11.489341               4.410015   \n",
       "3                9.036264               3.995260   \n",
       "7               10.444686               3.734075   \n",
       "9                9.022721               4.201492   \n",
       "10               6.397960               3.640271   \n",
       "12              10.785512               3.293254   \n",
       "14              16.868033               3.038902   \n",
       "17              16.431177               4.364449   \n",
       "18              17.189809               3.342273   \n",
       "\n",
       "    linear_momentum_ML (kg.m/s)SRC  linear_momentum_AP (kg.m/s)SRC  \\\n",
       "0                         6.639640                        5.080788   \n",
       "1                         5.252284                        5.397460   \n",
       "2                         4.379101                        4.095917   \n",
       "3                         3.552584                        4.173861   \n",
       "7                         7.815274                        5.329535   \n",
       "9                         6.984649                        5.938653   \n",
       "10                        7.217133                        4.929675   \n",
       "12                        3.835804                        4.947529   \n",
       "14                        4.043805                        3.795121   \n",
       "17                        4.163874                        4.637897   \n",
       "18                        3.193057                        3.137701   \n",
       "\n",
       "    est_Vert_vel_redir (rad)SRC  est_mean_mech_work_pushoff (J/kg)SRC  \\\n",
       "0                      0.021346                             44.276301   \n",
       "1                      0.026652                              7.744360   \n",
       "2                      0.017406                             44.286836   \n",
       "3                      0.010230                             35.787143   \n",
       "7                      0.011728                             36.537732   \n",
       "9                      0.011789                              9.755115   \n",
       "10                     0.025483                             30.755179   \n",
       "12                     0.009385                             28.507236   \n",
       "14                     0.014102                             11.928939   \n",
       "17                     0.022401                             14.651311   \n",
       "18                     0.013052                             45.592950   \n",
       "\n",
       "    est_inst_power_pushoff (W)SRC  est_cov_mech_work_pushoff (%)SRC  \\\n",
       "0                       40.174009                         15.175357   \n",
       "1                       40.154242                         52.059146   \n",
       "2                       33.790119                          9.729668   \n",
       "3                       34.995076                          5.849535   \n",
       "7                       44.453324                         13.509317   \n",
       "9                       47.523617                         41.401303   \n",
       "10                      40.662525                         16.245449   \n",
       "12                      41.038506                         12.846504   \n",
       "14                      34.348006                         50.594719   \n",
       "17                      39.159258                         35.096746   \n",
       "18                      26.891352                          6.467229   \n",
       "\n",
       "    est_cov_inst_power_pushoff (%)SRC  \n",
       "0                            5.020653  \n",
       "1                            5.116444  \n",
       "2                            4.925594  \n",
       "3                            6.170333  \n",
       "7                            5.710927  \n",
       "9                            6.499914  \n",
       "10                           5.281022  \n",
       "12                           4.090295  \n",
       "14                           3.580044  \n",
       "17                           7.926293  \n",
       "18                           3.987971  \n",
       "\n",
       "[11 rows x 43 columns]"
      ]
     },
     "execution_count": 3500,
     "metadata": {},
     "output_type": "execute_result"
    }
   ],
   "source": [
    "resp"
   ]
  },
  {
   "cell_type": "code",
   "execution_count": 3501,
   "metadata": {},
   "outputs": [
    {
     "data": {
      "text/html": [
       "<div>\n",
       "<style scoped>\n",
       "    .dataframe tbody tr th:only-of-type {\n",
       "        vertical-align: middle;\n",
       "    }\n",
       "\n",
       "    .dataframe tbody tr th {\n",
       "        vertical-align: top;\n",
       "    }\n",
       "\n",
       "    .dataframe thead th {\n",
       "        text-align: right;\n",
       "    }\n",
       "</style>\n",
       "<table border=\"1\" class=\"dataframe\">\n",
       "  <thead>\n",
       "    <tr style=\"text-align: right;\">\n",
       "      <th></th>\n",
       "      <th>ID</th>\n",
       "      <th>Age</th>\n",
       "      <th>Height (m)</th>\n",
       "      <th>Weight (kg)</th>\n",
       "      <th>BMI (kg/m2)</th>\n",
       "      <th>mean_step_time (s)No_Exo</th>\n",
       "      <th>mean_stride_time (s)No_Exo</th>\n",
       "      <th>cadence (step/min)No_Exo</th>\n",
       "      <th>mean_swing_time (s)No_Exo</th>\n",
       "      <th>mean_stance_time (s)No_Exo</th>\n",
       "      <th>...</th>\n",
       "      <th>mean_GC_rms_acc_AP (mm/s2)No_Exo</th>\n",
       "      <th>cov_rms_acc_ML (%)No_Exo</th>\n",
       "      <th>cov_rms_acc_AP (%)No_Exo</th>\n",
       "      <th>linear_momentum_ML (kg.m/s)No_Exo</th>\n",
       "      <th>linear_momentum_AP (kg.m/s)No_Exo</th>\n",
       "      <th>est_Vert_vel_redir (rad)No_Exo</th>\n",
       "      <th>est_mean_mech_work_pushoff (J/kg)No_Exo</th>\n",
       "      <th>est_inst_power_pushoff (W)No_Exo</th>\n",
       "      <th>est_cov_mech_work_pushoff (%)No_Exo</th>\n",
       "      <th>est_cov_inst_power_pushoff (%)No_Exo</th>\n",
       "    </tr>\n",
       "  </thead>\n",
       "  <tbody>\n",
       "    <tr>\n",
       "      <th>0</th>\n",
       "      <td>1</td>\n",
       "      <td>21</td>\n",
       "      <td>1.77</td>\n",
       "      <td>77.0</td>\n",
       "      <td>24.577867</td>\n",
       "      <td>0.594273</td>\n",
       "      <td>1.188560</td>\n",
       "      <td>101</td>\n",
       "      <td>0.422187</td>\n",
       "      <td>0.766397</td>\n",
       "      <td>...</td>\n",
       "      <td>785.875405</td>\n",
       "      <td>12.048174</td>\n",
       "      <td>3.920663</td>\n",
       "      <td>5.495082</td>\n",
       "      <td>4.903971</td>\n",
       "      <td>0.017013</td>\n",
       "      <td>40.762103</td>\n",
       "      <td>35.349868</td>\n",
       "      <td>13.098379</td>\n",
       "      <td>6.468719</td>\n",
       "    </tr>\n",
       "    <tr>\n",
       "      <th>1</th>\n",
       "      <td>2</td>\n",
       "      <td>22</td>\n",
       "      <td>1.75</td>\n",
       "      <td>68.0</td>\n",
       "      <td>22.204082</td>\n",
       "      <td>0.602688</td>\n",
       "      <td>1.205413</td>\n",
       "      <td>100</td>\n",
       "      <td>0.437788</td>\n",
       "      <td>0.767631</td>\n",
       "      <td>...</td>\n",
       "      <td>886.901629</td>\n",
       "      <td>16.436217</td>\n",
       "      <td>3.072319</td>\n",
       "      <td>4.323935</td>\n",
       "      <td>4.854290</td>\n",
       "      <td>0.019661</td>\n",
       "      <td>8.389796</td>\n",
       "      <td>38.634943</td>\n",
       "      <td>59.362560</td>\n",
       "      <td>3.230572</td>\n",
       "    </tr>\n",
       "    <tr>\n",
       "      <th>2</th>\n",
       "      <td>3</td>\n",
       "      <td>21</td>\n",
       "      <td>1.92</td>\n",
       "      <td>70.0</td>\n",
       "      <td>18.988715</td>\n",
       "      <td>0.552267</td>\n",
       "      <td>1.104468</td>\n",
       "      <td>108</td>\n",
       "      <td>0.392968</td>\n",
       "      <td>0.711454</td>\n",
       "      <td>...</td>\n",
       "      <td>673.617327</td>\n",
       "      <td>8.875483</td>\n",
       "      <td>3.657682</td>\n",
       "      <td>3.833874</td>\n",
       "      <td>3.480319</td>\n",
       "      <td>0.015618</td>\n",
       "      <td>33.013715</td>\n",
       "      <td>29.342462</td>\n",
       "      <td>13.221398</td>\n",
       "      <td>6.020458</td>\n",
       "    </tr>\n",
       "    <tr>\n",
       "      <th>3</th>\n",
       "      <td>4</td>\n",
       "      <td>24</td>\n",
       "      <td>1.72</td>\n",
       "      <td>63.0</td>\n",
       "      <td>21.295295</td>\n",
       "      <td>0.595097</td>\n",
       "      <td>1.190226</td>\n",
       "      <td>101</td>\n",
       "      <td>0.432266</td>\n",
       "      <td>0.757926</td>\n",
       "      <td>...</td>\n",
       "      <td>805.447544</td>\n",
       "      <td>8.131469</td>\n",
       "      <td>2.885782</td>\n",
       "      <td>2.283199</td>\n",
       "      <td>3.901399</td>\n",
       "      <td>0.010778</td>\n",
       "      <td>53.313141</td>\n",
       "      <td>31.866769</td>\n",
       "      <td>5.846666</td>\n",
       "      <td>4.686949</td>\n",
       "    </tr>\n",
       "    <tr>\n",
       "      <th>7</th>\n",
       "      <td>9</td>\n",
       "      <td>28</td>\n",
       "      <td>1.89</td>\n",
       "      <td>83.0</td>\n",
       "      <td>23.235632</td>\n",
       "      <td>0.592956</td>\n",
       "      <td>1.185854</td>\n",
       "      <td>101</td>\n",
       "      <td>0.432291</td>\n",
       "      <td>0.753549</td>\n",
       "      <td>...</td>\n",
       "      <td>712.766311</td>\n",
       "      <td>9.644278</td>\n",
       "      <td>3.856213</td>\n",
       "      <td>6.709390</td>\n",
       "      <td>4.595492</td>\n",
       "      <td>0.007705</td>\n",
       "      <td>28.662663</td>\n",
       "      <td>38.492205</td>\n",
       "      <td>10.206967</td>\n",
       "      <td>4.037836</td>\n",
       "    </tr>\n",
       "    <tr>\n",
       "      <th>9</th>\n",
       "      <td>11</td>\n",
       "      <td>25</td>\n",
       "      <td>1.81</td>\n",
       "      <td>77.0</td>\n",
       "      <td>23.503556</td>\n",
       "      <td>0.619499</td>\n",
       "      <td>1.239013</td>\n",
       "      <td>97</td>\n",
       "      <td>0.449189</td>\n",
       "      <td>0.789833</td>\n",
       "      <td>...</td>\n",
       "      <td>844.042368</td>\n",
       "      <td>11.085533</td>\n",
       "      <td>3.556351</td>\n",
       "      <td>4.592785</td>\n",
       "      <td>5.386542</td>\n",
       "      <td>0.008624</td>\n",
       "      <td>36.900547</td>\n",
       "      <td>41.093667</td>\n",
       "      <td>9.288757</td>\n",
       "      <td>5.780604</td>\n",
       "    </tr>\n",
       "    <tr>\n",
       "      <th>10</th>\n",
       "      <td>12</td>\n",
       "      <td>59</td>\n",
       "      <td>1.77</td>\n",
       "      <td>77.0</td>\n",
       "      <td>24.577867</td>\n",
       "      <td>0.575671</td>\n",
       "      <td>1.151496</td>\n",
       "      <td>104</td>\n",
       "      <td>0.413967</td>\n",
       "      <td>0.737431</td>\n",
       "      <td>...</td>\n",
       "      <td>782.276895</td>\n",
       "      <td>6.936429</td>\n",
       "      <td>3.532778</td>\n",
       "      <td>5.087984</td>\n",
       "      <td>4.533729</td>\n",
       "      <td>0.017592</td>\n",
       "      <td>5.409660</td>\n",
       "      <td>36.995841</td>\n",
       "      <td>20.509841</td>\n",
       "      <td>3.541281</td>\n",
       "    </tr>\n",
       "    <tr>\n",
       "      <th>12</th>\n",
       "      <td>14</td>\n",
       "      <td>27</td>\n",
       "      <td>1.77</td>\n",
       "      <td>71.5</td>\n",
       "      <td>22.822305</td>\n",
       "      <td>0.577408</td>\n",
       "      <td>1.154805</td>\n",
       "      <td>104</td>\n",
       "      <td>0.405426</td>\n",
       "      <td>0.749365</td>\n",
       "      <td>...</td>\n",
       "      <td>810.438067</td>\n",
       "      <td>13.502470</td>\n",
       "      <td>3.268759</td>\n",
       "      <td>3.043993</td>\n",
       "      <td>4.517127</td>\n",
       "      <td>0.010047</td>\n",
       "      <td>20.731821</td>\n",
       "      <td>36.436846</td>\n",
       "      <td>6.430961</td>\n",
       "      <td>3.414281</td>\n",
       "    </tr>\n",
       "    <tr>\n",
       "      <th>14</th>\n",
       "      <td>16</td>\n",
       "      <td>28</td>\n",
       "      <td>1.67</td>\n",
       "      <td>59.5</td>\n",
       "      <td>21.334576</td>\n",
       "      <td>0.569618</td>\n",
       "      <td>1.139322</td>\n",
       "      <td>105</td>\n",
       "      <td>0.400453</td>\n",
       "      <td>0.738818</td>\n",
       "      <td>...</td>\n",
       "      <td>845.799054</td>\n",
       "      <td>16.386040</td>\n",
       "      <td>4.398292</td>\n",
       "      <td>3.181925</td>\n",
       "      <td>3.724518</td>\n",
       "      <td>0.016680</td>\n",
       "      <td>20.400573</td>\n",
       "      <td>31.856283</td>\n",
       "      <td>28.125803</td>\n",
       "      <td>3.363000</td>\n",
       "    </tr>\n",
       "    <tr>\n",
       "      <th>17</th>\n",
       "      <td>21</td>\n",
       "      <td>44</td>\n",
       "      <td>1.80</td>\n",
       "      <td>72.5</td>\n",
       "      <td>22.376543</td>\n",
       "      <td>0.585377</td>\n",
       "      <td>1.170973</td>\n",
       "      <td>103</td>\n",
       "      <td>0.421034</td>\n",
       "      <td>0.749925</td>\n",
       "      <td>...</td>\n",
       "      <td>754.432165</td>\n",
       "      <td>15.900305</td>\n",
       "      <td>3.679350</td>\n",
       "      <td>3.044100</td>\n",
       "      <td>4.458297</td>\n",
       "      <td>0.018900</td>\n",
       "      <td>10.534173</td>\n",
       "      <td>34.191635</td>\n",
       "      <td>71.688235</td>\n",
       "      <td>5.242549</td>\n",
       "    </tr>\n",
       "    <tr>\n",
       "      <th>18</th>\n",
       "      <td>23</td>\n",
       "      <td>26</td>\n",
       "      <td>1.69</td>\n",
       "      <td>57.5</td>\n",
       "      <td>20.132348</td>\n",
       "      <td>0.535609</td>\n",
       "      <td>1.071208</td>\n",
       "      <td>112</td>\n",
       "      <td>0.385957</td>\n",
       "      <td>0.685238</td>\n",
       "      <td>...</td>\n",
       "      <td>674.279669</td>\n",
       "      <td>21.277166</td>\n",
       "      <td>4.855552</td>\n",
       "      <td>1.893822</td>\n",
       "      <td>2.749191</td>\n",
       "      <td>0.012690</td>\n",
       "      <td>23.359449</td>\n",
       "      <td>21.140756</td>\n",
       "      <td>7.773550</td>\n",
       "      <td>7.119304</td>\n",
       "    </tr>\n",
       "  </tbody>\n",
       "</table>\n",
       "<p>11 rows × 43 columns</p>\n",
       "</div>"
      ],
      "text/plain": [
       "    ID  Age  Height (m)  Weight (kg)  BMI (kg/m2)  mean_step_time (s)No_Exo  \\\n",
       "0    1   21        1.77         77.0    24.577867                  0.594273   \n",
       "1    2   22        1.75         68.0    22.204082                  0.602688   \n",
       "2    3   21        1.92         70.0    18.988715                  0.552267   \n",
       "3    4   24        1.72         63.0    21.295295                  0.595097   \n",
       "7    9   28        1.89         83.0    23.235632                  0.592956   \n",
       "9   11   25        1.81         77.0    23.503556                  0.619499   \n",
       "10  12   59        1.77         77.0    24.577867                  0.575671   \n",
       "12  14   27        1.77         71.5    22.822305                  0.577408   \n",
       "14  16   28        1.67         59.5    21.334576                  0.569618   \n",
       "17  21   44        1.80         72.5    22.376543                  0.585377   \n",
       "18  23   26        1.69         57.5    20.132348                  0.535609   \n",
       "\n",
       "    mean_stride_time (s)No_Exo  cadence (step/min)No_Exo  \\\n",
       "0                     1.188560                       101   \n",
       "1                     1.205413                       100   \n",
       "2                     1.104468                       108   \n",
       "3                     1.190226                       101   \n",
       "7                     1.185854                       101   \n",
       "9                     1.239013                        97   \n",
       "10                    1.151496                       104   \n",
       "12                    1.154805                       104   \n",
       "14                    1.139322                       105   \n",
       "17                    1.170973                       103   \n",
       "18                    1.071208                       112   \n",
       "\n",
       "    mean_swing_time (s)No_Exo  mean_stance_time (s)No_Exo  ...  \\\n",
       "0                    0.422187                    0.766397  ...   \n",
       "1                    0.437788                    0.767631  ...   \n",
       "2                    0.392968                    0.711454  ...   \n",
       "3                    0.432266                    0.757926  ...   \n",
       "7                    0.432291                    0.753549  ...   \n",
       "9                    0.449189                    0.789833  ...   \n",
       "10                   0.413967                    0.737431  ...   \n",
       "12                   0.405426                    0.749365  ...   \n",
       "14                   0.400453                    0.738818  ...   \n",
       "17                   0.421034                    0.749925  ...   \n",
       "18                   0.385957                    0.685238  ...   \n",
       "\n",
       "    mean_GC_rms_acc_AP (mm/s2)No_Exo  cov_rms_acc_ML (%)No_Exo  \\\n",
       "0                         785.875405                 12.048174   \n",
       "1                         886.901629                 16.436217   \n",
       "2                         673.617327                  8.875483   \n",
       "3                         805.447544                  8.131469   \n",
       "7                         712.766311                  9.644278   \n",
       "9                         844.042368                 11.085533   \n",
       "10                        782.276895                  6.936429   \n",
       "12                        810.438067                 13.502470   \n",
       "14                        845.799054                 16.386040   \n",
       "17                        754.432165                 15.900305   \n",
       "18                        674.279669                 21.277166   \n",
       "\n",
       "    cov_rms_acc_AP (%)No_Exo  linear_momentum_ML (kg.m/s)No_Exo  \\\n",
       "0                   3.920663                           5.495082   \n",
       "1                   3.072319                           4.323935   \n",
       "2                   3.657682                           3.833874   \n",
       "3                   2.885782                           2.283199   \n",
       "7                   3.856213                           6.709390   \n",
       "9                   3.556351                           4.592785   \n",
       "10                  3.532778                           5.087984   \n",
       "12                  3.268759                           3.043993   \n",
       "14                  4.398292                           3.181925   \n",
       "17                  3.679350                           3.044100   \n",
       "18                  4.855552                           1.893822   \n",
       "\n",
       "    linear_momentum_AP (kg.m/s)No_Exo  est_Vert_vel_redir (rad)No_Exo  \\\n",
       "0                            4.903971                        0.017013   \n",
       "1                            4.854290                        0.019661   \n",
       "2                            3.480319                        0.015618   \n",
       "3                            3.901399                        0.010778   \n",
       "7                            4.595492                        0.007705   \n",
       "9                            5.386542                        0.008624   \n",
       "10                           4.533729                        0.017592   \n",
       "12                           4.517127                        0.010047   \n",
       "14                           3.724518                        0.016680   \n",
       "17                           4.458297                        0.018900   \n",
       "18                           2.749191                        0.012690   \n",
       "\n",
       "    est_mean_mech_work_pushoff (J/kg)No_Exo  est_inst_power_pushoff (W)No_Exo  \\\n",
       "0                                 40.762103                         35.349868   \n",
       "1                                  8.389796                         38.634943   \n",
       "2                                 33.013715                         29.342462   \n",
       "3                                 53.313141                         31.866769   \n",
       "7                                 28.662663                         38.492205   \n",
       "9                                 36.900547                         41.093667   \n",
       "10                                 5.409660                         36.995841   \n",
       "12                                20.731821                         36.436846   \n",
       "14                                20.400573                         31.856283   \n",
       "17                                10.534173                         34.191635   \n",
       "18                                23.359449                         21.140756   \n",
       "\n",
       "    est_cov_mech_work_pushoff (%)No_Exo  est_cov_inst_power_pushoff (%)No_Exo  \n",
       "0                             13.098379                              6.468719  \n",
       "1                             59.362560                              3.230572  \n",
       "2                             13.221398                              6.020458  \n",
       "3                              5.846666                              4.686949  \n",
       "7                             10.206967                              4.037836  \n",
       "9                              9.288757                              5.780604  \n",
       "10                            20.509841                              3.541281  \n",
       "12                             6.430961                              3.414281  \n",
       "14                            28.125803                              3.363000  \n",
       "17                            71.688235                              5.242549  \n",
       "18                             7.773550                              7.119304  \n",
       "\n",
       "[11 rows x 43 columns]"
      ]
     },
     "execution_count": 3501,
     "metadata": {},
     "output_type": "execute_result"
    }
   ],
   "source": [
    "resp_noexo"
   ]
  },
  {
   "cell_type": "code",
   "execution_count": 3502,
   "metadata": {},
   "outputs": [
    {
     "data": {
      "text/plain": [
       "Index(['ID', 'Age', 'Height (m)', 'Weight (kg)', 'BMI (kg/m2)',\n",
       "       'mean_step_time (s)SRC', 'mean_stride_time (s)SRC',\n",
       "       'cadence (step/min)SRC', 'mean_swing_time (s)SRC',\n",
       "       'mean_stance_time (s)SRC', 'mean_ds_time (s)SRC', 'mean_ss_time (s)SRC',\n",
       "       'cov_step_time (%)SRC', 'cov_stride_time (%)SRC',\n",
       "       'cov_swing_time (%)SRC', 'cov_stance_time (%)SRC',\n",
       "       'swing_time_perctg (%)SRC', 'stance_time_perctg (%)SRC',\n",
       "       'ds_time_perctg (%)SRC', 'ss_time_perctg (%)SRC',\n",
       "       'mean_step_width (mm)SRC', 'mean_step_length (mm)SRC',\n",
       "       'mean_stride_length (mm)SRC', 'cov_step_width (%)SRC',\n",
       "       'cov_step_length (%)SRC', 'cov_stride_length (%)SRC',\n",
       "       'mean_GC_range_ML (mm)SRC', 'mean_GC_range_AP (mm)SRC',\n",
       "       'cov_range_ML (%)SRC', 'cov_range_AP (%)SRC', 'mean_vel_ML (mm/s)SRC',\n",
       "       'mean_vel_AP (mm/s)SRC', 'mean_GC_rms_acc_ML (mm/s2)SRC',\n",
       "       'mean_GC_rms_acc_AP (mm/s2)SRC', 'cov_rms_acc_ML (%)SRC',\n",
       "       'cov_rms_acc_AP (%)SRC', 'linear_momentum_ML (kg.m/s)SRC',\n",
       "       'linear_momentum_AP (kg.m/s)SRC', 'est_Vert_vel_redir (rad)SRC',\n",
       "       'est_mean_mech_work_pushoff (J/kg)SRC', 'est_inst_power_pushoff (W)SRC',\n",
       "       'est_cov_mech_work_pushoff (%)SRC',\n",
       "       'est_cov_inst_power_pushoff (%)SRC'],\n",
       "      dtype='object')"
      ]
     },
     "execution_count": 3502,
     "metadata": {},
     "output_type": "execute_result"
    }
   ],
   "source": [
    "SRC.columns"
   ]
  },
  {
   "cell_type": "code",
   "execution_count": 3503,
   "metadata": {},
   "outputs": [],
   "source": [
    "# import pandas as pd\n",
    "\n",
    "data = {\n",
    "    'Parameter Name': [\n",
    "        'mean_step_time (s)', 'mean_stride_time (s)', 'step frequency (step/min)',\n",
    "        'mean_swing_time (s)', 'mean_stance_time (s)', 'mean_ds_time (s)',\n",
    "        'mean_ss_time (s)', 'cov_step_time (%)', 'cov_stride_time (%)',\n",
    "        'cov_swing_time (%)', 'cov_stance_time (%)', 'swing_time_perctg (%)',\n",
    "        'stance_time_perctg (%)', 'ds_time_perctg (%)', 'ss_time_perctg (%)',\n",
    "        'mean_step_width (mm)', 'mean_step_length (mm)',\n",
    "        'mean_stride_length (mm)', 'cov_step_width (%)', 'cov_step_length (%)',\n",
    "        'cov_stride_length (%)', 'mean_GC_COM_range_ML (mm)',\n",
    "        'mean_GC_COM_range_AP (mm)', 'cov_range_ML_COM (%)', 'cov_range_AP_COM (%)',\n",
    "        'mean_vel_COM_ML (mm/s)', 'mean_vel_COM_AP (mm/s)',\n",
    "        'mean_GC_rms_acc_ML_COM (mm/s2)', 'mean_GC_rms_acc_AP_COM (mm/s2)',\n",
    "        'cov_rms_acc_ML_COM (%)', 'cov_rms_acc_AP_COM (%)',\n",
    "        'linear_momentum_ML_COM (kg.m/s)', 'linear_momentum_AP_COM (kg.m/s)',\n",
    "        'est_Vert_vel_redir_COM_angle (rad)', 'est_mean_mech_work_pushoff (J/kg)',\n",
    "        'est_inst_power_pushoff (W)', 'est_cov_mech_work_pushoff (%)',\n",
    "        'est_cov_inst_power_pushoff (%)'\n",
    "    ],\n",
    "    'Definition': [\n",
    "        'The average time taken for one complete step, from initial contact of one foot to the next initial contact of the opposite foot.',\n",
    "        'The average time taken for one complete stride, from initial contact of one foot to the next initial contact of the same foot.',\n",
    "        'The number of steps taken per minute.',\n",
    "        'The average time during which the foot is off the ground (swing phase) during one gait cycle.',\n",
    "        'The average time during which the foot is in contact with the ground (stance phase) during one gait cycle.',\n",
    "        'The average time taken for the double stance phase, when both feet are in contact with the ground during one gait cycle.',\n",
    "        'The average time taken for the single stance phase, when only one foot is in contact with the ground during one gait cycle.',\n",
    "        'The coefficient of variation of step time, representing the variability in the duration of steps.',\n",
    "        'The coefficient of variation of stride time, representing the variability in the duration of strides.',\n",
    "        'The coefficient of variation of swing time, representing the variability in the duration of the swing phase.',\n",
    "        'The coefficient of variation of stance time, representing the variability in the duration of the stance phase.',\n",
    "        'The percentage of the gait cycle spent in the swing phase.',\n",
    "        'The percentage of the gait cycle spent in the stance phase.',\n",
    "        'The percentage of the gait cycle spent in the double stance phase.',\n",
    "        'The percentage of the gait cycle spent in the single stance phase.',\n",
    "        'The average mediolateral distance between the foot positions at initial contact during one gait cycle.',\n",
    "        'The average anteroposterior distance covered by a step, from initial contact to the next initial contact of the same foot.',\n",
    "        'The average anteroposterior distance covered by a stride, from initial contact of one foot to the next initial contact of the opposite foot.',\n",
    "        'The coefficient of variation of step width, representing the variability in the mediolateral distance between the foot positions at initial contact.',\n",
    "        'The coefficient of variation of step length, representing the variability in the anteroposterior distance covered by a step.',\n",
    "        'The coefficient of variation of stride length, representing the variability in the anteroposterior distance covered by a stride.',\n",
    "        'The average mediolateral range of displacement of the center of mass during one gait cycle.',\n",
    "        'The average anteroposterior range of displacement of the center of mass during one gait cycle.',\n",
    "        'The coefficient of variation of mediolateral displacement of the center of mass during the gait cycle.',\n",
    "        'The coefficient of variation of anteroposterior displacement of the center of mass during the gait cycle.',\n",
    "        'The average mediolateral velocity of the center of mass during one gait cycle.',\n",
    "        'The average anteroposterior velocity of the center of mass during one gait cycle.',\n",
    "        'The average root mean square acceleration in the mediolateral direction of the center of mass during one gait cycle.',\n",
    "        'The average root mean square acceleration in the anteroposterior direction of the center of mass during one gait cycle.',\n",
    "        'The coefficient of variation of the root mean square acceleration in the mediolateral direction of the center of mass during the gait cycle.',\n",
    "        'The coefficient of variation of the root mean square acceleration in the anteroposterior direction of the center of mass during the gait cycle.',\n",
    "        'The linear momentum in the mediolateral direction of the center of mass during one gait cycle.',\n",
    "        'The linear momentum in the anteroposterior direction of the center of mass during one gait cycle.',\n",
    "        'The estimated angle of redirection of the vertical velocity vector of the center of mass during one gait cycle.',\n",
    "        'The estimated mean mechanical work per unit mass exerted during push-off phase in one gait cycle.',\n",
    "        'The estimated instantaneous power exerted during push-off phase in one gait cycle.',\n",
    "        'The coefficient of variation of the estimated mean mechanical work per unit mass exerted during push-off phase.',\n",
    "        'The coefficient of variation of the estimated instantaneous power exerted during push-off phase.'\n",
    "    ]\n",
    "}\n",
    "\n",
    "df = pd.DataFrame(data)\n",
    "df.to_excel('/Users/cyrilleetude/Downloads/e_walk_data_analysis/Data_analysis/defparam.xlsx', index=False)\n"
   ]
  },
  {
   "cell_type": "code",
   "execution_count": 3504,
   "metadata": {},
   "outputs": [],
   "source": [
    "import pandas as pd\n",
    "\n",
    "# Define the parameter names and their corresponding full names\n",
    "parameters = [\n",
    "    ('mean_step_time', 'Mean Step Time'),\n",
    "    ('mean_stride_time', 'Mean Stride Time'),\n",
    "    ('step_frequency', 'Step Frequency'),\n",
    "    ('mean_swing_time', 'Mean Swing Time'),\n",
    "    ('mean_stance_time', 'Mean Stance Time'),\n",
    "    ('mean_ds_time', 'Mean Double Stance Time'),\n",
    "    ('mean_ss_time', 'Mean Single Stance Time'),\n",
    "    ('cov_step_time', 'Coefficient of Variation of Step Time'),\n",
    "    ('cov_stride_time', 'Coefficient of Variation of Stride Time'),\n",
    "    ('cov_swing_time', 'Coefficient of Variation of Swing Time'),\n",
    "    ('cov_stance_time', 'Coefficient of Variation of Stance Time'),\n",
    "    ('swing_time_perctg', 'Swing Time Percentage'),\n",
    "    ('stance_time_perctg', 'Stance Time Percentage'),\n",
    "    ('ds_time_perctg', 'Double Stance Time Percentage'),\n",
    "    ('ss_time_perctg', 'Single Stance Time Percentage'),\n",
    "    ('mean_step_width', 'Mean Step Width'),\n",
    "    ('mean_step_length', 'Mean Step Length'),\n",
    "    ('mean_stride_length', 'Mean Stride Length'),\n",
    "    ('cov_step_width', 'Coefficient of Variation of Step Width'),\n",
    "    ('cov_step_length', 'Coefficient of Variation of Step Length'),\n",
    "    ('cov_stride_length', 'Coefficient of Variation of Stride Length'),\n",
    "    ('mean_GC_COM_range_ML', 'Mean Mediolateral Range of Displacement of the Center of Mass during Gait Cycle'),\n",
    "    ('mean_GC_COM_range_AP', 'Mean Anteroposterior Range of Displacement of the Center of Mass during Gait Cycle'),\n",
    "    ('cov_range_ML_COM', 'Coefficient of Variation of Mediolateral Displacement of the Center of Mass during Gait Cycle'),\n",
    "    ('cov_range_AP_COM', 'Coefficient of Variation of Anteroposterior Displacement of the Center of Mass during Gait Cycle'),\n",
    "    ('mean_vel_COM_ML', 'Mean Mediolateral Velocity of the Center of Mass during Gait Cycle'),\n",
    "    ('mean_vel_COM_AP', 'Mean Anteroposterior Velocity of the Center of Mass during Gait Cycle'),\n",
    "    ('mean_GC_rms_acc_ML_COM', 'Mean Root Mean Square Acceleration in Mediolateral Direction of the Center of Mass during Gait Cycle'),\n",
    "    ('mean_GC_rms_acc_AP_COM', 'Mean Root Mean Square Acceleration in Anteroposterior Direction of the Center of Mass during Gait Cycle'),\n",
    "    ('cov_rms_acc_ML_COM', 'Coefficient of Variation of Root Mean Square Acceleration in Mediolateral Direction of the Center of Mass during Gait Cycle'),\n",
    "    ('cov_rms_acc_AP_COM', 'Coefficient of Variation of Root Mean Square Acceleration in Anteroposterior Direction of the Center of Mass during Gait Cycle'),\n",
    "    ('linear_momentum_ML_COM', 'Mediolateral Linear Momentum of the Center of Mass during Gait Cycle'),\n",
    "    ('linear_momentum_AP_COM', 'Anteroposterior Linear Momentum of the Center of Mass during Gait Cycle'),\n",
    "    ('est_Vert_vel_redir_COM_angle', 'Estimated Angle of Redirection of Vertical Velocity Vector of the Center of Mass during Gait Cycle'),\n",
    "    ('est_mean_mech_work_pushoff', 'Estimated Mean Mechanical Work per Unit Mass Exerted during Push-off Phase in Gait Cycle'),\n",
    "    ('est_inst_power_pushoff', 'Estimated Instantaneous Power Exerted during Push-off Phase in Gait Cycle'),\n",
    "    ('est_cov_mech_work_pushoff', 'Coefficient of Variation of Estimated Mean Mechanical Work per Unit Mass Exerted during Push-off Phase'),\n",
    "    ('est_cov_inst_power_pushoff', 'Coefficient of Variation of Estimated Instantaneous Power Exerted during Push-off Phase')\n",
    "]\n",
    "\n",
    "# Create a DataFrame with the parameter names and full names\n",
    "df = pd.DataFrame(parameters, columns=['Parameter', 'Full Name'])\n",
    "df = df[['Full Name']]\n",
    "# Display the DataFrame\n",
    "df.to_excel('/Users/cyrilleetude/Downloads/e_walk_data_analysis/Data_analysis/Full_Name.xlsx', index=False)\n"
   ]
  },
  {
   "cell_type": "markdown",
   "metadata": {},
   "source": [
    "**Stat Part 1**"
   ]
  },
  {
   "cell_type": "code",
   "execution_count": 3505,
   "metadata": {},
   "outputs": [
    {
     "data": {
      "text/plain": [
       "('significance ?', True)"
      ]
     },
     "execution_count": 3505,
     "metadata": {},
     "output_type": "execute_result"
    }
   ],
   "source": [
    "# MAn withney resp versus non resp\n",
    "from scipy import stats\n",
    "u_statistic, p_value = stats.mannwhitneyu(MR_resp.red, MR_Non_resp.red)\n",
    "'significance ?' , p_value < 0.05"
   ]
  },
  {
   "cell_type": "code",
   "execution_count": 3506,
   "metadata": {},
   "outputs": [
    {
     "name": "stdout",
     "output_type": "stream",
     "text": [
      "The variances are not equal.\n"
     ]
    }
   ],
   "source": [
    "import numpy as np\n",
    "from scipy.stats import f_oneway\n",
    "\n",
    "# Example arrays\n",
    "array1 = np.array([1, 2, 3, 4, 5])\n",
    "array2 = np.array([2, 4, 6, 8, 10, 12, 14, 16])\n",
    "\n",
    "# Perform F-test\n",
    "_, p_value = f_oneway(MR_resp.red, MR_Non_resp.red)\n",
    "\n",
    "# Set significance level\n",
    "alpha = 0.05\n",
    "\n",
    "# Compare p-value with significance level\n",
    "if p_value > alpha:\n",
    "    print(\"The variances are equal.\")\n",
    "else:\n",
    "    print(\"The variances are not equal.\")\n"
   ]
  },
  {
   "cell_type": "code",
   "execution_count": 3507,
   "metadata": {},
   "outputs": [
    {
     "data": {
      "text/plain": [
       "3.72727137825942e-05"
      ]
     },
     "execution_count": 3507,
     "metadata": {},
     "output_type": "execute_result"
    }
   ],
   "source": [
    "p_value"
   ]
  },
  {
   "cell_type": "code",
   "execution_count": 3508,
   "metadata": {},
   "outputs": [
    {
     "name": "stdout",
     "output_type": "stream",
     "text": [
      "Baseline Shapiro-Wilk p-value: 0.9997049570083618\n",
      "Follow-up Shapiro-Wilk p-value: 0.6025470495223999\n",
      "significance True True\n",
      "Paired t-test:\n",
      "p-value: 0.004821636904519003\n"
     ]
    },
    {
     "data": {
      "text/plain": [
       "('significance', True)"
      ]
     },
     "execution_count": 3508,
     "metadata": {},
     "output_type": "execute_result"
    }
   ],
   "source": [
    "# Paired T test SRC\n",
    "    # Shapiro wilk \n",
    "import scipy.stats as stats\n",
    "\n",
    "# Baseline measurements\n",
    "baseline = MR_no_exo['Net MR [W/kg]'].values\n",
    "\n",
    "# Follow-up measurements\n",
    "follow_up = MR_SRC['Net MR [W/kg]'].values\n",
    "\n",
    "# Perform Shapiro-Wilk test on baseline measurements\n",
    "_, baseline_p_value = stats.shapiro(baseline)\n",
    "print(\"Baseline Shapiro-Wilk p-value:\", baseline_p_value)\n",
    "\n",
    "# Perform Shapiro-Wilk test on follow-up measurements\n",
    "_, follow_up_p_value = stats.shapiro(follow_up)\n",
    "print(\"Follow-up Shapiro-Wilk p-value:\", follow_up_p_value)\n",
    "print('significance', follow_up_p_value>0.05, baseline_p_value>0.05)\n",
    "\n",
    "    # paired t \n",
    "import scipy.stats as stats\n",
    "\n",
    "# Perform paired t-test\n",
    "t_statistic, p_value = stats.ttest_rel(baseline, follow_up)\n",
    "\n",
    "# Print the results\n",
    "print(\"Paired t-test:\")\n",
    "print(\"p-value:\", p_value)\n",
    "'significance', p_value<0.05"
   ]
  },
  {
   "cell_type": "code",
   "execution_count": 3509,
   "metadata": {},
   "outputs": [
    {
     "name": "stdout",
     "output_type": "stream",
     "text": [
      "Baseline Shapiro-Wilk p-value: 0.9997049570083618\n",
      "Follow-up Shapiro-Wilk p-value: 0.29229259490966797\n",
      "significance True True\n",
      "Paired t-test:\n",
      "p-value: 0.4299142657061783\n"
     ]
    },
    {
     "data": {
      "text/plain": [
       "('significance', False)"
      ]
     },
     "execution_count": 3509,
     "metadata": {},
     "output_type": "execute_result"
    }
   ],
   "source": [
    "# Paired T test HPT\n",
    "    # Shapiro wilk \n",
    "import scipy.stats as stats\n",
    "\n",
    "# Baseline measurements\n",
    "baseline = MR_no_exo['Net MR [W/kg]'].values\n",
    "\n",
    "# Follow-up measurements\n",
    "follow_up = MR_HPT['Net MR [W/kg]'].values\n",
    "\n",
    "# Perform Shapiro-Wilk test on baseline measurements\n",
    "_, baseline_p_value = stats.shapiro(baseline)\n",
    "print(\"Baseline Shapiro-Wilk p-value:\", baseline_p_value)\n",
    "\n",
    "# Perform Shapiro-Wilk test on follow-up measurements\n",
    "_, follow_up_p_value = stats.shapiro(follow_up)\n",
    "print(\"Follow-up Shapiro-Wilk p-value:\", follow_up_p_value)\n",
    "print('significance', follow_up_p_value>0.05, baseline_p_value>0.05)\n",
    "\n",
    "    # paired t \n",
    "import scipy.stats as stats\n",
    "\n",
    "# Perform paired t-test\n",
    "t_statistic, p_value = stats.ttest_rel(baseline, follow_up)\n",
    "\n",
    "# Print the results\n",
    "print(\"Paired t-test:\")\n",
    "print(\"p-value:\", p_value)\n",
    "'significance', p_value<0.05"
   ]
  },
  {
   "cell_type": "markdown",
   "metadata": {},
   "source": [
    "**PCA**"
   ]
  },
  {
   "cell_type": "code",
   "execution_count": 3510,
   "metadata": {},
   "outputs": [],
   "source": [
    "features = list(Baseline_df.columns)[5:]\n",
    "\n",
    "X = Baseline_df[features]\n",
    "\n",
    "# normalizing features into z scores\n",
    "X_norm = (X - X.mean(axis=0))/X.std(axis=0)"
   ]
  },
  {
   "cell_type": "code",
   "execution_count": 3511,
   "metadata": {},
   "outputs": [
    {
     "data": {
      "text/html": [
       "<div>\n",
       "<style scoped>\n",
       "    .dataframe tbody tr th:only-of-type {\n",
       "        vertical-align: middle;\n",
       "    }\n",
       "\n",
       "    .dataframe tbody tr th {\n",
       "        vertical-align: top;\n",
       "    }\n",
       "\n",
       "    .dataframe thead th {\n",
       "        text-align: right;\n",
       "    }\n",
       "</style>\n",
       "<table border=\"1\" class=\"dataframe\">\n",
       "  <thead>\n",
       "    <tr style=\"text-align: right;\">\n",
       "      <th></th>\n",
       "      <th>Rythm</th>\n",
       "      <th>Efficiency</th>\n",
       "      <th>Body Weight Support</th>\n",
       "      <th>Dynamic Stability</th>\n",
       "    </tr>\n",
       "  </thead>\n",
       "  <tbody>\n",
       "    <tr>\n",
       "      <th>mean_step_time (s)No_Exo</th>\n",
       "      <td>0.897</td>\n",
       "      <td>NaN</td>\n",
       "      <td>NaN</td>\n",
       "      <td>NaN</td>\n",
       "    </tr>\n",
       "    <tr>\n",
       "      <th>mean_stride_time (s)No_Exo</th>\n",
       "      <td>0.897</td>\n",
       "      <td>NaN</td>\n",
       "      <td>NaN</td>\n",
       "      <td>NaN</td>\n",
       "    </tr>\n",
       "    <tr>\n",
       "      <th>cadence (step/min)No_Exo</th>\n",
       "      <td>-0.881</td>\n",
       "      <td>NaN</td>\n",
       "      <td>NaN</td>\n",
       "      <td>NaN</td>\n",
       "    </tr>\n",
       "    <tr>\n",
       "      <th>mean_swing_time (s)No_Exo</th>\n",
       "      <td>0.827</td>\n",
       "      <td>NaN</td>\n",
       "      <td>NaN</td>\n",
       "      <td>NaN</td>\n",
       "    </tr>\n",
       "    <tr>\n",
       "      <th>mean_stance_time (s)No_Exo</th>\n",
       "      <td>0.837</td>\n",
       "      <td>NaN</td>\n",
       "      <td>NaN</td>\n",
       "      <td>NaN</td>\n",
       "    </tr>\n",
       "    <tr>\n",
       "      <th>mean_ds_time (s)No_Exo</th>\n",
       "      <td>NaN</td>\n",
       "      <td>NaN</td>\n",
       "      <td>-0.802</td>\n",
       "      <td>NaN</td>\n",
       "    </tr>\n",
       "    <tr>\n",
       "      <th>cov_step_time (%)No_Exo</th>\n",
       "      <td>NaN</td>\n",
       "      <td>0.941</td>\n",
       "      <td>NaN</td>\n",
       "      <td>NaN</td>\n",
       "    </tr>\n",
       "    <tr>\n",
       "      <th>cov_stride_time (%)No_Exo</th>\n",
       "      <td>NaN</td>\n",
       "      <td>0.978</td>\n",
       "      <td>NaN</td>\n",
       "      <td>NaN</td>\n",
       "    </tr>\n",
       "    <tr>\n",
       "      <th>cov_swing_time (%)No_Exo</th>\n",
       "      <td>NaN</td>\n",
       "      <td>0.905</td>\n",
       "      <td>NaN</td>\n",
       "      <td>NaN</td>\n",
       "    </tr>\n",
       "    <tr>\n",
       "      <th>cov_stance_time (%)No_Exo</th>\n",
       "      <td>NaN</td>\n",
       "      <td>0.908</td>\n",
       "      <td>NaN</td>\n",
       "      <td>NaN</td>\n",
       "    </tr>\n",
       "    <tr>\n",
       "      <th>swing_time_perctg (%)No_Exo</th>\n",
       "      <td>NaN</td>\n",
       "      <td>NaN</td>\n",
       "      <td>0.978</td>\n",
       "      <td>NaN</td>\n",
       "    </tr>\n",
       "    <tr>\n",
       "      <th>stance_time_perctg (%)No_Exo</th>\n",
       "      <td>NaN</td>\n",
       "      <td>NaN</td>\n",
       "      <td>-0.978</td>\n",
       "      <td>NaN</td>\n",
       "    </tr>\n",
       "    <tr>\n",
       "      <th>ds_time_perctg (%)No_Exo</th>\n",
       "      <td>NaN</td>\n",
       "      <td>NaN</td>\n",
       "      <td>-0.978</td>\n",
       "      <td>NaN</td>\n",
       "    </tr>\n",
       "    <tr>\n",
       "      <th>ss_time_perctg (%)No_Exo</th>\n",
       "      <td>NaN</td>\n",
       "      <td>NaN</td>\n",
       "      <td>0.978</td>\n",
       "      <td>NaN</td>\n",
       "    </tr>\n",
       "    <tr>\n",
       "      <th>mean_step_width (mm)No_Exo</th>\n",
       "      <td>NaN</td>\n",
       "      <td>NaN</td>\n",
       "      <td>NaN</td>\n",
       "      <td>0.908</td>\n",
       "    </tr>\n",
       "    <tr>\n",
       "      <th>mean_step_length (mm)No_Exo</th>\n",
       "      <td>0.824</td>\n",
       "      <td>NaN</td>\n",
       "      <td>NaN</td>\n",
       "      <td>NaN</td>\n",
       "    </tr>\n",
       "    <tr>\n",
       "      <th>mean_stride_length (mm)No_Exo</th>\n",
       "      <td>0.824</td>\n",
       "      <td>NaN</td>\n",
       "      <td>NaN</td>\n",
       "      <td>NaN</td>\n",
       "    </tr>\n",
       "    <tr>\n",
       "      <th>cov_step_length (%)No_Exo</th>\n",
       "      <td>NaN</td>\n",
       "      <td>0.941</td>\n",
       "      <td>NaN</td>\n",
       "      <td>NaN</td>\n",
       "    </tr>\n",
       "    <tr>\n",
       "      <th>cov_stride_length (%)No_Exo</th>\n",
       "      <td>NaN</td>\n",
       "      <td>0.978</td>\n",
       "      <td>NaN</td>\n",
       "      <td>NaN</td>\n",
       "    </tr>\n",
       "    <tr>\n",
       "      <th>mean_GC_range_ML (mm)No_Exo</th>\n",
       "      <td>NaN</td>\n",
       "      <td>NaN</td>\n",
       "      <td>NaN</td>\n",
       "      <td>0.850</td>\n",
       "    </tr>\n",
       "    <tr>\n",
       "      <th>mean_vel_ML (mm/s)No_Exo</th>\n",
       "      <td>NaN</td>\n",
       "      <td>NaN</td>\n",
       "      <td>NaN</td>\n",
       "      <td>0.924</td>\n",
       "    </tr>\n",
       "    <tr>\n",
       "      <th>mean_GC_rms_acc_ML (mm/s2)No_Exo</th>\n",
       "      <td>NaN</td>\n",
       "      <td>NaN</td>\n",
       "      <td>NaN</td>\n",
       "      <td>0.915</td>\n",
       "    </tr>\n",
       "    <tr>\n",
       "      <th>linear_momentum_ML (kg.m/s)No_Exo</th>\n",
       "      <td>NaN</td>\n",
       "      <td>NaN</td>\n",
       "      <td>NaN</td>\n",
       "      <td>0.941</td>\n",
       "    </tr>\n",
       "  </tbody>\n",
       "</table>\n",
       "</div>"
      ],
      "text/plain": [
       "                                   Rythm  Efficiency  Body Weight Support  \\\n",
       "mean_step_time (s)No_Exo           0.897         NaN                  NaN   \n",
       "mean_stride_time (s)No_Exo         0.897         NaN                  NaN   \n",
       "cadence (step/min)No_Exo          -0.881         NaN                  NaN   \n",
       "mean_swing_time (s)No_Exo          0.827         NaN                  NaN   \n",
       "mean_stance_time (s)No_Exo         0.837         NaN                  NaN   \n",
       "mean_ds_time (s)No_Exo               NaN         NaN               -0.802   \n",
       "cov_step_time (%)No_Exo              NaN       0.941                  NaN   \n",
       "cov_stride_time (%)No_Exo            NaN       0.978                  NaN   \n",
       "cov_swing_time (%)No_Exo             NaN       0.905                  NaN   \n",
       "cov_stance_time (%)No_Exo            NaN       0.908                  NaN   \n",
       "swing_time_perctg (%)No_Exo          NaN         NaN                0.978   \n",
       "stance_time_perctg (%)No_Exo         NaN         NaN               -0.978   \n",
       "ds_time_perctg (%)No_Exo             NaN         NaN               -0.978   \n",
       "ss_time_perctg (%)No_Exo             NaN         NaN                0.978   \n",
       "mean_step_width (mm)No_Exo           NaN         NaN                  NaN   \n",
       "mean_step_length (mm)No_Exo        0.824         NaN                  NaN   \n",
       "mean_stride_length (mm)No_Exo      0.824         NaN                  NaN   \n",
       "cov_step_length (%)No_Exo            NaN       0.941                  NaN   \n",
       "cov_stride_length (%)No_Exo          NaN       0.978                  NaN   \n",
       "mean_GC_range_ML (mm)No_Exo          NaN         NaN                  NaN   \n",
       "mean_vel_ML (mm/s)No_Exo             NaN         NaN                  NaN   \n",
       "mean_GC_rms_acc_ML (mm/s2)No_Exo     NaN         NaN                  NaN   \n",
       "linear_momentum_ML (kg.m/s)No_Exo    NaN         NaN                  NaN   \n",
       "\n",
       "                                   Dynamic Stability  \n",
       "mean_step_time (s)No_Exo                         NaN  \n",
       "mean_stride_time (s)No_Exo                       NaN  \n",
       "cadence (step/min)No_Exo                         NaN  \n",
       "mean_swing_time (s)No_Exo                        NaN  \n",
       "mean_stance_time (s)No_Exo                       NaN  \n",
       "mean_ds_time (s)No_Exo                           NaN  \n",
       "cov_step_time (%)No_Exo                          NaN  \n",
       "cov_stride_time (%)No_Exo                        NaN  \n",
       "cov_swing_time (%)No_Exo                         NaN  \n",
       "cov_stance_time (%)No_Exo                        NaN  \n",
       "swing_time_perctg (%)No_Exo                      NaN  \n",
       "stance_time_perctg (%)No_Exo                     NaN  \n",
       "ds_time_perctg (%)No_Exo                         NaN  \n",
       "ss_time_perctg (%)No_Exo                         NaN  \n",
       "mean_step_width (mm)No_Exo                     0.908  \n",
       "mean_step_length (mm)No_Exo                      NaN  \n",
       "mean_stride_length (mm)No_Exo                    NaN  \n",
       "cov_step_length (%)No_Exo                        NaN  \n",
       "cov_stride_length (%)No_Exo                      NaN  \n",
       "mean_GC_range_ML (mm)No_Exo                    0.850  \n",
       "mean_vel_ML (mm/s)No_Exo                       0.924  \n",
       "mean_GC_rms_acc_ML (mm/s2)No_Exo               0.915  \n",
       "linear_momentum_ML (kg.m/s)No_Exo              0.941  "
      ]
     },
     "metadata": {},
     "output_type": "display_data"
    },
    {
     "data": {
      "text/plain": [
       "23"
      ]
     },
     "execution_count": 3511,
     "metadata": {},
     "output_type": "execute_result"
    }
   ],
   "source": [
    "# fit factor analyzer with principal components and varimax rotation\n",
    "fa = FactorAnalyzer(rotation=\"varimax\", n_factors=4, method='principal')\n",
    "fa.fit(X_norm)\n",
    "\n",
    "# get the rotated factor pattern\n",
    "loadings2 = pd.DataFrame(np.round(fa.loadings_, 3), index=X_norm.columns, columns=[f\"Factor{i+1}\" for i in range(4)])\n",
    "rotated_factor_pattern = loadings2[abs(loadings2) >= 0.80].dropna(how='all')\n",
    "\n",
    "# display the results\n",
    "rotated_factor_pattern = rotated_factor_pattern.drop(['mean_ss_time (s)No_Exo', 'mean_GC_range_AP (mm)No_Exo',\n",
    " 'mean_vel_AP (mm/s)No_Exo', 'mean_GC_rms_acc_AP (mm/s2)No_Exo', 'cov_step_width (%)No_Exo'], axis=0)\n",
    "rotated_factor_pattern.columns = ['Rythm', 'Efficiency', 'Body Weight Support', 'Dynamic Stability']\n",
    "display(rotated_factor_pattern)\n",
    "len(rotated_factor_pattern)\n",
    "# df.to_excel(file_path, index=False)\n"
   ]
  },
  {
   "cell_type": "code",
   "execution_count": 3512,
   "metadata": {},
   "outputs": [
    {
     "data": {
      "text/html": [
       "<div>\n",
       "<style scoped>\n",
       "    .dataframe tbody tr th:only-of-type {\n",
       "        vertical-align: middle;\n",
       "    }\n",
       "\n",
       "    .dataframe tbody tr th {\n",
       "        vertical-align: top;\n",
       "    }\n",
       "\n",
       "    .dataframe thead th {\n",
       "        text-align: right;\n",
       "    }\n",
       "</style>\n",
       "<table border=\"1\" class=\"dataframe\">\n",
       "  <thead>\n",
       "    <tr style=\"text-align: right;\">\n",
       "      <th></th>\n",
       "      <th>Rythm</th>\n",
       "      <th>Efficiency</th>\n",
       "      <th>Body Weight Support</th>\n",
       "      <th>Dynamic Stability</th>\n",
       "    </tr>\n",
       "  </thead>\n",
       "  <tbody>\n",
       "    <tr>\n",
       "      <th>mean_step_time (s)No_Exo</th>\n",
       "      <td>0.897</td>\n",
       "      <td>NaN</td>\n",
       "      <td>NaN</td>\n",
       "      <td>NaN</td>\n",
       "    </tr>\n",
       "    <tr>\n",
       "      <th>mean_stride_time (s)No_Exo</th>\n",
       "      <td>0.897</td>\n",
       "      <td>NaN</td>\n",
       "      <td>NaN</td>\n",
       "      <td>NaN</td>\n",
       "    </tr>\n",
       "    <tr>\n",
       "      <th>cadence (step/min)No_Exo</th>\n",
       "      <td>-0.881</td>\n",
       "      <td>NaN</td>\n",
       "      <td>NaN</td>\n",
       "      <td>NaN</td>\n",
       "    </tr>\n",
       "    <tr>\n",
       "      <th>mean_swing_time (s)No_Exo</th>\n",
       "      <td>0.827</td>\n",
       "      <td>NaN</td>\n",
       "      <td>NaN</td>\n",
       "      <td>NaN</td>\n",
       "    </tr>\n",
       "    <tr>\n",
       "      <th>mean_stance_time (s)No_Exo</th>\n",
       "      <td>0.837</td>\n",
       "      <td>NaN</td>\n",
       "      <td>NaN</td>\n",
       "      <td>NaN</td>\n",
       "    </tr>\n",
       "    <tr>\n",
       "      <th>mean_ds_time (s)No_Exo</th>\n",
       "      <td>NaN</td>\n",
       "      <td>NaN</td>\n",
       "      <td>-0.802</td>\n",
       "      <td>NaN</td>\n",
       "    </tr>\n",
       "    <tr>\n",
       "      <th>cov_step_time (%)No_Exo</th>\n",
       "      <td>NaN</td>\n",
       "      <td>0.941</td>\n",
       "      <td>NaN</td>\n",
       "      <td>NaN</td>\n",
       "    </tr>\n",
       "    <tr>\n",
       "      <th>cov_stride_time (%)No_Exo</th>\n",
       "      <td>NaN</td>\n",
       "      <td>0.978</td>\n",
       "      <td>NaN</td>\n",
       "      <td>NaN</td>\n",
       "    </tr>\n",
       "    <tr>\n",
       "      <th>cov_swing_time (%)No_Exo</th>\n",
       "      <td>NaN</td>\n",
       "      <td>0.905</td>\n",
       "      <td>NaN</td>\n",
       "      <td>NaN</td>\n",
       "    </tr>\n",
       "    <tr>\n",
       "      <th>cov_stance_time (%)No_Exo</th>\n",
       "      <td>NaN</td>\n",
       "      <td>0.908</td>\n",
       "      <td>NaN</td>\n",
       "      <td>NaN</td>\n",
       "    </tr>\n",
       "    <tr>\n",
       "      <th>swing_time_perctg (%)No_Exo</th>\n",
       "      <td>NaN</td>\n",
       "      <td>NaN</td>\n",
       "      <td>0.978</td>\n",
       "      <td>NaN</td>\n",
       "    </tr>\n",
       "    <tr>\n",
       "      <th>stance_time_perctg (%)No_Exo</th>\n",
       "      <td>NaN</td>\n",
       "      <td>NaN</td>\n",
       "      <td>-0.978</td>\n",
       "      <td>NaN</td>\n",
       "    </tr>\n",
       "    <tr>\n",
       "      <th>ds_time_perctg (%)No_Exo</th>\n",
       "      <td>NaN</td>\n",
       "      <td>NaN</td>\n",
       "      <td>-0.978</td>\n",
       "      <td>NaN</td>\n",
       "    </tr>\n",
       "    <tr>\n",
       "      <th>ss_time_perctg (%)No_Exo</th>\n",
       "      <td>NaN</td>\n",
       "      <td>NaN</td>\n",
       "      <td>0.978</td>\n",
       "      <td>NaN</td>\n",
       "    </tr>\n",
       "    <tr>\n",
       "      <th>mean_step_width (mm)No_Exo</th>\n",
       "      <td>NaN</td>\n",
       "      <td>NaN</td>\n",
       "      <td>NaN</td>\n",
       "      <td>0.908</td>\n",
       "    </tr>\n",
       "    <tr>\n",
       "      <th>mean_step_length (mm)No_Exo</th>\n",
       "      <td>0.824</td>\n",
       "      <td>NaN</td>\n",
       "      <td>NaN</td>\n",
       "      <td>NaN</td>\n",
       "    </tr>\n",
       "    <tr>\n",
       "      <th>mean_stride_length (mm)No_Exo</th>\n",
       "      <td>0.824</td>\n",
       "      <td>NaN</td>\n",
       "      <td>NaN</td>\n",
       "      <td>NaN</td>\n",
       "    </tr>\n",
       "    <tr>\n",
       "      <th>cov_step_length (%)No_Exo</th>\n",
       "      <td>NaN</td>\n",
       "      <td>0.941</td>\n",
       "      <td>NaN</td>\n",
       "      <td>NaN</td>\n",
       "    </tr>\n",
       "    <tr>\n",
       "      <th>cov_stride_length (%)No_Exo</th>\n",
       "      <td>NaN</td>\n",
       "      <td>0.978</td>\n",
       "      <td>NaN</td>\n",
       "      <td>NaN</td>\n",
       "    </tr>\n",
       "    <tr>\n",
       "      <th>mean_GC_range_ML (mm)No_Exo</th>\n",
       "      <td>NaN</td>\n",
       "      <td>NaN</td>\n",
       "      <td>NaN</td>\n",
       "      <td>0.850</td>\n",
       "    </tr>\n",
       "    <tr>\n",
       "      <th>mean_vel_ML (mm/s)No_Exo</th>\n",
       "      <td>NaN</td>\n",
       "      <td>NaN</td>\n",
       "      <td>NaN</td>\n",
       "      <td>0.924</td>\n",
       "    </tr>\n",
       "    <tr>\n",
       "      <th>mean_GC_rms_acc_ML (mm/s2)No_Exo</th>\n",
       "      <td>NaN</td>\n",
       "      <td>NaN</td>\n",
       "      <td>NaN</td>\n",
       "      <td>0.915</td>\n",
       "    </tr>\n",
       "    <tr>\n",
       "      <th>linear_momentum_ML (kg.m/s)No_Exo</th>\n",
       "      <td>NaN</td>\n",
       "      <td>NaN</td>\n",
       "      <td>NaN</td>\n",
       "      <td>0.941</td>\n",
       "    </tr>\n",
       "  </tbody>\n",
       "</table>\n",
       "</div>"
      ],
      "text/plain": [
       "                                   Rythm  Efficiency  Body Weight Support  \\\n",
       "mean_step_time (s)No_Exo           0.897         NaN                  NaN   \n",
       "mean_stride_time (s)No_Exo         0.897         NaN                  NaN   \n",
       "cadence (step/min)No_Exo          -0.881         NaN                  NaN   \n",
       "mean_swing_time (s)No_Exo          0.827         NaN                  NaN   \n",
       "mean_stance_time (s)No_Exo         0.837         NaN                  NaN   \n",
       "mean_ds_time (s)No_Exo               NaN         NaN               -0.802   \n",
       "cov_step_time (%)No_Exo              NaN       0.941                  NaN   \n",
       "cov_stride_time (%)No_Exo            NaN       0.978                  NaN   \n",
       "cov_swing_time (%)No_Exo             NaN       0.905                  NaN   \n",
       "cov_stance_time (%)No_Exo            NaN       0.908                  NaN   \n",
       "swing_time_perctg (%)No_Exo          NaN         NaN                0.978   \n",
       "stance_time_perctg (%)No_Exo         NaN         NaN               -0.978   \n",
       "ds_time_perctg (%)No_Exo             NaN         NaN               -0.978   \n",
       "ss_time_perctg (%)No_Exo             NaN         NaN                0.978   \n",
       "mean_step_width (mm)No_Exo           NaN         NaN                  NaN   \n",
       "mean_step_length (mm)No_Exo        0.824         NaN                  NaN   \n",
       "mean_stride_length (mm)No_Exo      0.824         NaN                  NaN   \n",
       "cov_step_length (%)No_Exo            NaN       0.941                  NaN   \n",
       "cov_stride_length (%)No_Exo          NaN       0.978                  NaN   \n",
       "mean_GC_range_ML (mm)No_Exo          NaN         NaN                  NaN   \n",
       "mean_vel_ML (mm/s)No_Exo             NaN         NaN                  NaN   \n",
       "mean_GC_rms_acc_ML (mm/s2)No_Exo     NaN         NaN                  NaN   \n",
       "linear_momentum_ML (kg.m/s)No_Exo    NaN         NaN                  NaN   \n",
       "\n",
       "                                   Dynamic Stability  \n",
       "mean_step_time (s)No_Exo                         NaN  \n",
       "mean_stride_time (s)No_Exo                       NaN  \n",
       "cadence (step/min)No_Exo                         NaN  \n",
       "mean_swing_time (s)No_Exo                        NaN  \n",
       "mean_stance_time (s)No_Exo                       NaN  \n",
       "mean_ds_time (s)No_Exo                           NaN  \n",
       "cov_step_time (%)No_Exo                          NaN  \n",
       "cov_stride_time (%)No_Exo                        NaN  \n",
       "cov_swing_time (%)No_Exo                         NaN  \n",
       "cov_stance_time (%)No_Exo                        NaN  \n",
       "swing_time_perctg (%)No_Exo                      NaN  \n",
       "stance_time_perctg (%)No_Exo                     NaN  \n",
       "ds_time_perctg (%)No_Exo                         NaN  \n",
       "ss_time_perctg (%)No_Exo                         NaN  \n",
       "mean_step_width (mm)No_Exo                     0.908  \n",
       "mean_step_length (mm)No_Exo                      NaN  \n",
       "mean_stride_length (mm)No_Exo                    NaN  \n",
       "cov_step_length (%)No_Exo                        NaN  \n",
       "cov_stride_length (%)No_Exo                      NaN  \n",
       "mean_GC_range_ML (mm)No_Exo                    0.850  \n",
       "mean_vel_ML (mm/s)No_Exo                       0.924  \n",
       "mean_GC_rms_acc_ML (mm/s2)No_Exo               0.915  \n",
       "linear_momentum_ML (kg.m/s)No_Exo              0.941  "
      ]
     },
     "execution_count": 3512,
     "metadata": {},
     "output_type": "execute_result"
    }
   ],
   "source": [
    "rotated_factor_pattern.loc[['mean_step_time (s)No_Exo', 'mean_stride_time (s)No_Exo',\n",
    "       'cadence (step/min)No_Exo', 'mean_swing_time (s)No_Exo',\n",
    "       'mean_stance_time (s)No_Exo', 'mean_ds_time (s)No_Exo',\n",
    "       'cov_step_time (%)No_Exo', 'cov_stride_time (%)No_Exo',\n",
    "       'cov_swing_time (%)No_Exo', 'cov_stance_time (%)No_Exo',\n",
    "       'swing_time_perctg (%)No_Exo', 'stance_time_perctg (%)No_Exo',\n",
    "       'ds_time_perctg (%)No_Exo', 'ss_time_perctg (%)No_Exo',\n",
    "       'mean_step_width (mm)No_Exo', 'mean_step_length (mm)No_Exo',\n",
    "       'mean_stride_length (mm)No_Exo', 'cov_step_length (%)No_Exo',\n",
    "       'cov_stride_length (%)No_Exo', 'mean_GC_range_ML (mm)No_Exo',\n",
    "       'mean_vel_ML (mm/s)No_Exo', 'mean_GC_rms_acc_ML (mm/s2)No_Exo',\n",
    "       'linear_momentum_ML (kg.m/s)No_Exo']]\n",
    "       # .to_excel('/Users/cyrilleetude/Downloads/e_walk_data_analysis/Data_analysis/PCA_DF.xlsx', index=False)"
   ]
  },
  {
   "cell_type": "code",
   "execution_count": 3513,
   "metadata": {},
   "outputs": [
    {
     "data": {
      "text/html": [
       "<div>\n",
       "<style scoped>\n",
       "    .dataframe tbody tr th:only-of-type {\n",
       "        vertical-align: middle;\n",
       "    }\n",
       "\n",
       "    .dataframe tbody tr th {\n",
       "        vertical-align: top;\n",
       "    }\n",
       "\n",
       "    .dataframe thead th {\n",
       "        text-align: right;\n",
       "    }\n",
       "</style>\n",
       "<table border=\"1\" class=\"dataframe\">\n",
       "  <thead>\n",
       "    <tr style=\"text-align: right;\">\n",
       "      <th></th>\n",
       "      <th>Factor</th>\n",
       "      <th>Explained Variance %</th>\n",
       "      <th>Cumulative Variance</th>\n",
       "    </tr>\n",
       "  </thead>\n",
       "  <tbody>\n",
       "    <tr>\n",
       "      <th>0</th>\n",
       "      <td>Rythm</td>\n",
       "      <td>25.83</td>\n",
       "      <td>25.83</td>\n",
       "    </tr>\n",
       "    <tr>\n",
       "      <th>1</th>\n",
       "      <td>Efficiency</td>\n",
       "      <td>17.93</td>\n",
       "      <td>43.76</td>\n",
       "    </tr>\n",
       "    <tr>\n",
       "      <th>2</th>\n",
       "      <td>Body Weight Support</td>\n",
       "      <td>15.04</td>\n",
       "      <td>58.80</td>\n",
       "    </tr>\n",
       "    <tr>\n",
       "      <th>3</th>\n",
       "      <td>Dynamic Stability</td>\n",
       "      <td>19.97</td>\n",
       "      <td>78.77</td>\n",
       "    </tr>\n",
       "  </tbody>\n",
       "</table>\n",
       "</div>"
      ],
      "text/plain": [
       "                Factor  Explained Variance %  Cumulative Variance\n",
       "0                Rythm                 25.83                25.83\n",
       "1           Efficiency                 17.93                43.76\n",
       "2  Body Weight Support                 15.04                58.80\n",
       "3    Dynamic Stability                 19.97                78.77"
      ]
     },
     "metadata": {},
     "output_type": "display_data"
    }
   ],
   "source": [
    "# Calculate explained variance of each factor\n",
    "explained_variance = fa.get_factor_variance()\n",
    "explained_variance_df = pd.DataFrame(\n",
    "    {\n",
    "        'Factor': list(rotated_factor_pattern.columns),\n",
    "        # 'Explained Variance': explained_variance[0],\n",
    "        'Explained Variance %': np.round(explained_variance[1]*100, 2),\n",
    "        'Cumulative Variance': np.round(explained_variance[2]*100, 2)\n",
    "    }\n",
    ")\n",
    "display(explained_variance_df)"
   ]
  },
  {
   "cell_type": "markdown",
   "metadata": {},
   "source": [
    "anthropo"
   ]
  },
  {
   "cell_type": "code",
   "execution_count": 3514,
   "metadata": {},
   "outputs": [
    {
     "data": {
      "text/html": [
       "<div>\n",
       "<style scoped>\n",
       "    .dataframe tbody tr th:only-of-type {\n",
       "        vertical-align: middle;\n",
       "    }\n",
       "\n",
       "    .dataframe tbody tr th {\n",
       "        vertical-align: top;\n",
       "    }\n",
       "\n",
       "    .dataframe thead th {\n",
       "        text-align: right;\n",
       "    }\n",
       "</style>\n",
       "<table border=\"1\" class=\"dataframe\">\n",
       "  <thead>\n",
       "    <tr style=\"text-align: right;\">\n",
       "      <th></th>\n",
       "      <th>ID</th>\n",
       "      <th>Age</th>\n",
       "      <th>Height (m)</th>\n",
       "      <th>Weight (kg)</th>\n",
       "      <th>BMI (kg/m2)</th>\n",
       "    </tr>\n",
       "  </thead>\n",
       "  <tbody>\n",
       "    <tr>\n",
       "      <th>0</th>\n",
       "      <td>1</td>\n",
       "      <td>21</td>\n",
       "      <td>1.77</td>\n",
       "      <td>77.0</td>\n",
       "      <td>24.577867</td>\n",
       "    </tr>\n",
       "    <tr>\n",
       "      <th>1</th>\n",
       "      <td>2</td>\n",
       "      <td>22</td>\n",
       "      <td>1.75</td>\n",
       "      <td>68.0</td>\n",
       "      <td>22.204082</td>\n",
       "    </tr>\n",
       "    <tr>\n",
       "      <th>2</th>\n",
       "      <td>3</td>\n",
       "      <td>21</td>\n",
       "      <td>1.92</td>\n",
       "      <td>70.0</td>\n",
       "      <td>18.988715</td>\n",
       "    </tr>\n",
       "    <tr>\n",
       "      <th>3</th>\n",
       "      <td>4</td>\n",
       "      <td>24</td>\n",
       "      <td>1.72</td>\n",
       "      <td>63.0</td>\n",
       "      <td>21.295295</td>\n",
       "    </tr>\n",
       "    <tr>\n",
       "      <th>7</th>\n",
       "      <td>9</td>\n",
       "      <td>28</td>\n",
       "      <td>1.89</td>\n",
       "      <td>83.0</td>\n",
       "      <td>23.235632</td>\n",
       "    </tr>\n",
       "    <tr>\n",
       "      <th>9</th>\n",
       "      <td>11</td>\n",
       "      <td>25</td>\n",
       "      <td>1.81</td>\n",
       "      <td>77.0</td>\n",
       "      <td>23.503556</td>\n",
       "    </tr>\n",
       "    <tr>\n",
       "      <th>10</th>\n",
       "      <td>12</td>\n",
       "      <td>59</td>\n",
       "      <td>1.77</td>\n",
       "      <td>77.0</td>\n",
       "      <td>24.577867</td>\n",
       "    </tr>\n",
       "    <tr>\n",
       "      <th>12</th>\n",
       "      <td>14</td>\n",
       "      <td>27</td>\n",
       "      <td>1.77</td>\n",
       "      <td>71.5</td>\n",
       "      <td>22.822305</td>\n",
       "    </tr>\n",
       "    <tr>\n",
       "      <th>14</th>\n",
       "      <td>16</td>\n",
       "      <td>28</td>\n",
       "      <td>1.67</td>\n",
       "      <td>59.5</td>\n",
       "      <td>21.334576</td>\n",
       "    </tr>\n",
       "    <tr>\n",
       "      <th>17</th>\n",
       "      <td>21</td>\n",
       "      <td>44</td>\n",
       "      <td>1.80</td>\n",
       "      <td>72.5</td>\n",
       "      <td>22.376543</td>\n",
       "    </tr>\n",
       "    <tr>\n",
       "      <th>18</th>\n",
       "      <td>23</td>\n",
       "      <td>26</td>\n",
       "      <td>1.69</td>\n",
       "      <td>57.5</td>\n",
       "      <td>20.132348</td>\n",
       "    </tr>\n",
       "  </tbody>\n",
       "</table>\n",
       "</div>"
      ],
      "text/plain": [
       "    ID  Age  Height (m)  Weight (kg)  BMI (kg/m2)\n",
       "0    1   21        1.77         77.0    24.577867\n",
       "1    2   22        1.75         68.0    22.204082\n",
       "2    3   21        1.92         70.0    18.988715\n",
       "3    4   24        1.72         63.0    21.295295\n",
       "7    9   28        1.89         83.0    23.235632\n",
       "9   11   25        1.81         77.0    23.503556\n",
       "10  12   59        1.77         77.0    24.577867\n",
       "12  14   27        1.77         71.5    22.822305\n",
       "14  16   28        1.67         59.5    21.334576\n",
       "17  21   44        1.80         72.5    22.376543\n",
       "18  23   26        1.69         57.5    20.132348"
      ]
     },
     "execution_count": 3514,
     "metadata": {},
     "output_type": "execute_result"
    }
   ],
   "source": [
    "resp[['ID', 'Age', 'Height (m)', 'Weight (kg)', 'BMI (kg/m2)']]"
   ]
  },
  {
   "cell_type": "code",
   "execution_count": 3515,
   "metadata": {},
   "outputs": [
    {
     "data": {
      "text/plain": [
       "(11, 8)"
      ]
     },
     "execution_count": 3515,
     "metadata": {},
     "output_type": "execute_result"
    }
   ],
   "source": [
    "len(resp), len(non_resp)"
   ]
  },
  {
   "cell_type": "code",
   "execution_count": 3516,
   "metadata": {},
   "outputs": [
    {
     "data": {
      "text/html": [
       "<div>\n",
       "<style scoped>\n",
       "    .dataframe tbody tr th:only-of-type {\n",
       "        vertical-align: middle;\n",
       "    }\n",
       "\n",
       "    .dataframe tbody tr th {\n",
       "        vertical-align: top;\n",
       "    }\n",
       "\n",
       "    .dataframe thead th {\n",
       "        text-align: right;\n",
       "    }\n",
       "</style>\n",
       "<table border=\"1\" class=\"dataframe\">\n",
       "  <thead>\n",
       "    <tr style=\"text-align: right;\">\n",
       "      <th></th>\n",
       "      <th>Variable</th>\n",
       "      <th>non-resp</th>\n",
       "      <th>resp</th>\n",
       "      <th>p-value</th>\n",
       "    </tr>\n",
       "  </thead>\n",
       "  <tbody>\n",
       "    <tr>\n",
       "      <th>0</th>\n",
       "      <td>Age</td>\n",
       "      <td>23.5 (6.0)</td>\n",
       "      <td>26.0 (5.0)</td>\n",
       "      <td>0.40</td>\n",
       "    </tr>\n",
       "    <tr>\n",
       "      <th>1</th>\n",
       "      <td>Height (m)</td>\n",
       "      <td>1.84 (0.07)</td>\n",
       "      <td>1.77 (0.07)</td>\n",
       "      <td>0.10</td>\n",
       "    </tr>\n",
       "    <tr>\n",
       "      <th>2</th>\n",
       "      <td>Weight (kg)</td>\n",
       "      <td>77.5 (6.38)</td>\n",
       "      <td>71.5 (11.5)</td>\n",
       "      <td>0.09</td>\n",
       "    </tr>\n",
       "    <tr>\n",
       "      <th>3</th>\n",
       "      <td>BMI (kg/m2)</td>\n",
       "      <td>22.53 (2.71)</td>\n",
       "      <td>22.38 (2.05)</td>\n",
       "      <td>0.54</td>\n",
       "    </tr>\n",
       "  </tbody>\n",
       "</table>\n",
       "</div>"
      ],
      "text/plain": [
       "      Variable      non-resp          resp  p-value\n",
       "0          Age    23.5 (6.0)    26.0 (5.0)     0.40\n",
       "1   Height (m)   1.84 (0.07)   1.77 (0.07)     0.10\n",
       "2  Weight (kg)   77.5 (6.38)   71.5 (11.5)     0.09\n",
       "3  BMI (kg/m2)  22.53 (2.71)  22.38 (2.05)     0.54"
      ]
     },
     "execution_count": 3516,
     "metadata": {},
     "output_type": "execute_result"
    }
   ],
   "source": [
    "# import pandas as pd\n",
    "from scipy import stats\n",
    "\n",
    "# Create sample dataframes\n",
    "df1 = non_resp[['Age', 'Height (m)', 'Weight (kg)', 'BMI (kg/m2)']]\n",
    "\n",
    "df2 = resp[['Age', 'Height (m)', 'Weight (kg)', 'BMI (kg/m2)']]\n",
    "\n",
    "# Create an empty dataframe to store the results\n",
    "final_df = pd.DataFrame(columns=['Variable', 'non-resp', 'resp', 'p-value'])\n",
    "\n",
    "# Iterate over each column\n",
    "for column in df1.columns:\n",
    "    # Calculate mean and standard deviation for resp\n",
    "    mean_group1 = df1[column].median()\n",
    "    std_group1 = df1[column].quantile(0.75) - df1[column].quantile(0.25)\n",
    "\n",
    "    # Calculate mean and standard deviation for non-resp\n",
    "    mean_group2 = df2[column].median()\n",
    "    std_group2 = df2[column].quantile(0.75) - df2[column].quantile(0.25)\n",
    "\n",
    "    # Perform Mann-Whitney U test and get p-value\n",
    "    p_value = stats.mannwhitneyu(df1[column], df2[column])[1]\n",
    "\n",
    "    # Append the results to the final dataframe\n",
    "    final_df = final_df.append({'Variable': column,\n",
    "                                'non-resp': f\"{round(mean_group1, 2)} ({round(std_group1, 2)})\",\n",
    "                                'resp': f\"{round(mean_group2, 2)} ({round(std_group2, 2)})\",\n",
    "                                'p-value': round(p_value, 2)}, ignore_index=True)\n",
    "\n",
    "final_df\n",
    "# .to_excel('/Users/cyrilleetude/Downloads/e_walk_data_analysis/Data_analysis/AnthropoRespdf.xlsx', index=False)"
   ]
  },
  {
   "cell_type": "code",
   "execution_count": 3517,
   "metadata": {},
   "outputs": [
    {
     "data": {
      "text/html": [
       "<div>\n",
       "<style scoped>\n",
       "    .dataframe tbody tr th:only-of-type {\n",
       "        vertical-align: middle;\n",
       "    }\n",
       "\n",
       "    .dataframe tbody tr th {\n",
       "        vertical-align: top;\n",
       "    }\n",
       "\n",
       "    .dataframe thead th {\n",
       "        text-align: right;\n",
       "    }\n",
       "</style>\n",
       "<table border=\"1\" class=\"dataframe\">\n",
       "  <thead>\n",
       "    <tr style=\"text-align: right;\">\n",
       "      <th></th>\n",
       "      <th>Variable</th>\n",
       "      <th>Value</th>\n",
       "    </tr>\n",
       "  </thead>\n",
       "  <tbody>\n",
       "    <tr>\n",
       "      <th>0</th>\n",
       "      <td>Age</td>\n",
       "      <td>27.89 (9.72)</td>\n",
       "    </tr>\n",
       "    <tr>\n",
       "      <th>1</th>\n",
       "      <td>Height (m)</td>\n",
       "      <td>1.8 (0.08)</td>\n",
       "    </tr>\n",
       "    <tr>\n",
       "      <th>2</th>\n",
       "      <td>Weight (kg)</td>\n",
       "      <td>73.39 (7.97)</td>\n",
       "    </tr>\n",
       "    <tr>\n",
       "      <th>3</th>\n",
       "      <td>BMI (kg/m2)</td>\n",
       "      <td>22.59 (1.76)</td>\n",
       "    </tr>\n",
       "  </tbody>\n",
       "</table>\n",
       "</div>"
      ],
      "text/plain": [
       "      Variable         Value\n",
       "0          Age  27.89 (9.72)\n",
       "1   Height (m)    1.8 (0.08)\n",
       "2  Weight (kg)  73.39 (7.97)\n",
       "3  BMI (kg/m2)  22.59 (1.76)"
      ]
     },
     "execution_count": 3517,
     "metadata": {},
     "output_type": "execute_result"
    }
   ],
   "source": [
    "# import pandas as pd\n",
    "from scipy import stats\n",
    "\n",
    "# Create sample dataframes\n",
    "df1 = SRC[['Age', 'Height (m)', 'Weight (kg)', 'BMI (kg/m2)']]\n",
    "\n",
    "\n",
    "# Create an empty dataframe to store the results\n",
    "final_df = pd.DataFrame(columns=['Variable', 'Value'])\n",
    "\n",
    "# Iterate over each column\n",
    "for column in df1.columns:\n",
    "    # Calculate mean and standard deviation for resp\n",
    "    mean_group1 = df1[column].mean()\n",
    "    std_group1 = df1[column].std()\n",
    "\n",
    "    # Append the results to the final dataframe\n",
    "    final_df = final_df.append({'Variable': column,\n",
    "                                'Value': f\"{round(mean_group1, 2)} ({round(std_group1, 2)})\"}, ignore_index=True)\n",
    "\n",
    "final_df\n"
   ]
  },
  {
   "cell_type": "markdown",
   "metadata": {},
   "source": [
    "**SRC vs HPT**"
   ]
  },
  {
   "cell_type": "code",
   "execution_count": 3518,
   "metadata": {},
   "outputs": [
    {
     "data": {
      "text/plain": [
       "['mean_step_time (s)No_Exo',\n",
       " 'mean_stride_time (s)No_Exo',\n",
       " 'cadence (step/min)No_Exo',\n",
       " 'mean_swing_time (s)No_Exo',\n",
       " 'mean_stance_time (s)No_Exo',\n",
       " 'mean_ds_time (s)No_Exo',\n",
       " 'cov_step_time (%)No_Exo',\n",
       " 'cov_stride_time (%)No_Exo',\n",
       " 'cov_swing_time (%)No_Exo',\n",
       " 'cov_stance_time (%)No_Exo',\n",
       " 'swing_time_perctg (%)No_Exo',\n",
       " 'stance_time_perctg (%)No_Exo',\n",
       " 'ds_time_perctg (%)No_Exo',\n",
       " 'ss_time_perctg (%)No_Exo',\n",
       " 'mean_step_width (mm)No_Exo',\n",
       " 'mean_step_length (mm)No_Exo',\n",
       " 'mean_stride_length (mm)No_Exo',\n",
       " 'cov_step_length (%)No_Exo',\n",
       " 'cov_stride_length (%)No_Exo',\n",
       " 'mean_GC_range_ML (mm)No_Exo',\n",
       " 'mean_vel_ML (mm/s)No_Exo',\n",
       " 'mean_GC_rms_acc_ML (mm/s2)No_Exo',\n",
       " 'linear_momentum_ML (kg.m/s)No_Exo']"
      ]
     },
     "execution_count": 3518,
     "metadata": {},
     "output_type": "execute_result"
    }
   ],
   "source": [
    "list(rotated_factor_pattern.index)"
   ]
  },
  {
   "cell_type": "code",
   "execution_count": 3519,
   "metadata": {},
   "outputs": [],
   "source": [
    "saved_columns = ['ID',\n",
    " 'Age',\n",
    " 'Height (m)',\n",
    " 'Weight (kg)',\n",
    " 'BMI (kg/m2)',\n",
    " 'mean_step_time (s)',\n",
    " 'mean_stride_time (s)',\n",
    " 'cadence (step/min)',\n",
    " 'mean_swing_time (s)',\n",
    " 'mean_stance_time (s)',\n",
    " 'mean_ds_time (s)',\n",
    " 'mean_ss_time (s)',\n",
    " 'cov_step_time (%)',\n",
    " 'cov_stride_time (%)',\n",
    " 'cov_swing_time (%)',\n",
    " 'cov_stance_time (%)',\n",
    " 'swing_time_perctg (%)',\n",
    " 'stance_time_perctg (%)',\n",
    " 'ds_time_perctg (%)',\n",
    " 'ss_time_perctg (%)',\n",
    " 'mean_step_width (mm)',\n",
    " 'mean_step_length (mm)',\n",
    " 'mean_stride_length (mm)',\n",
    " 'cov_step_width (%)',\n",
    " 'cov_step_length (%)',\n",
    " 'cov_stride_length (%)',\n",
    " 'mean_GC_range_ML (mm)',\n",
    " 'mean_GC_range_AP (mm)',\n",
    " 'cov_range_ML (%)',\n",
    " 'cov_range_AP (%)',\n",
    " 'mean_vel_ML (mm/s)',\n",
    " 'mean_vel_AP (mm/s)',\n",
    " 'mean_GC_rms_acc_ML (mm/s2)',\n",
    " 'mean_GC_rms_acc_AP (mm/s2)',\n",
    " 'cov_rms_acc_ML (%)',\n",
    " 'cov_rms_acc_AP (%)',\n",
    " 'linear_momentum_ML (kg.m/s)',\n",
    " 'linear_momentum_AP (kg.m/s)',\n",
    " 'est_Vert_vel_redir (rad)',\n",
    " 'est_mean_mech_work_pushoff (J/kg)',\n",
    " 'est_inst_power_pushoff (W)',\n",
    " 'est_cov_mech_work_pushoff (%)',\n",
    " 'est_cov_inst_power_pushoff (%)']\n",
    "columns_of_interest = ['mean_step_time (s)',\n",
    " 'mean_stride_time (s)',\n",
    " 'cadence (step/min)',\n",
    " 'mean_swing_time (s)',\n",
    " 'mean_stance_time (s)',\n",
    " 'mean_ds_time (s)',\n",
    " 'cov_step_time (%)',\n",
    " 'cov_stride_time (%)',\n",
    " 'cov_swing_time (%)',\n",
    " 'cov_stance_time (%)',\n",
    " 'swing_time_perctg (%)',\n",
    " 'stance_time_perctg (%)',\n",
    " 'ds_time_perctg (%)',\n",
    " 'ss_time_perctg (%)',\n",
    " 'mean_step_width (mm)',\n",
    " 'mean_step_length (mm)',\n",
    " 'mean_stride_length (mm)',\n",
    " 'cov_step_length (%)',\n",
    " 'cov_stride_length (%)',\n",
    " 'mean_GC_range_ML (mm)',\n",
    " 'mean_vel_ML (mm/s)',\n",
    " 'mean_GC_rms_acc_ML (mm/s2)',\n",
    " 'linear_momentum_ML (kg.m/s)']"
   ]
  },
  {
   "cell_type": "code",
   "execution_count": 3520,
   "metadata": {},
   "outputs": [
    {
     "name": "stdout",
     "output_type": "stream",
     "text": [
      "['mean_ss_time (s)', 'mean_vel_AP (mm/s)', 'est_cov_mech_work_pushoff (%)', 'cov_step_width (%)', 'Weight (kg)', 'Height (m)', 'cov_range_AP (%)', 'ID', 'cov_rms_acc_ML (%)', 'est_inst_power_pushoff (W)', 'mean_GC_range_AP (mm)', 'linear_momentum_AP (kg.m/s)', 'est_Vert_vel_redir (rad)', 'mean_GC_rms_acc_AP (mm/s2)', 'est_mean_mech_work_pushoff (J/kg)', 'Age', 'cov_rms_acc_AP (%)', 'BMI (kg/m2)', 'cov_range_ML (%)', 'est_cov_inst_power_pushoff (%)']\n"
     ]
    }
   ],
   "source": [
    "list1 = columns_of_interest#[\"apple\", \"banana\", \"orange\", \"grape\"]\n",
    "list2 = saved_columns#[\"banana\", \"grape\", \"kiwi\", \"pear\"]\n",
    "\n",
    "# Convert lists to sets\n",
    "set1 = set(list1)\n",
    "set2 = set(list2)\n",
    "\n",
    "# Find the strings that are not present in both lists\n",
    "not_in_list1 = set2 - set1\n",
    "not_in_list2 = set1 - set2\n",
    "\n",
    "# Convert the sets back to lists\n",
    "result = list(not_in_list1.union(not_in_list2))\n",
    "\n",
    "print(result)\n"
   ]
  },
  {
   "cell_type": "code",
   "execution_count": 3521,
   "metadata": {},
   "outputs": [],
   "source": [
    "# SRCstat = SRC #\n",
    "# SRCstat.columns = saved_columns\n",
    "# HPTstat = HPT\n",
    "# HPTstat.columns = saved_columns\n",
    "# no_exostat = no_exo\n",
    "# no_exostat.columns = saved_columns\n",
    "# no_exostat = no_exostat[columns_of_interest]\n",
    "# SRCstat = SRCstat[columns_of_interest]\n",
    "# HPTstat = HPTstat[columns_of_interest]\n",
    "# # import pandas as pd\n",
    "# from scipy import stats\n",
    "# # Create sample dataframes\n",
    "# df1 = SRCstat\n",
    "\n",
    "# df2 = HPTstat\n",
    "\n",
    "# # Create an empty dataframe to store the results\n",
    "# final_df = pd.DataFrame(columns=['Variable', 'SRC', 'HPT', 'p-value'])\n",
    "\n",
    "# # Iterate over each column\n",
    "# for column in df1.columns:\n",
    "#     # Calculate mean and standard deviation for resp\n",
    "#     mean_group1 = df1[column].mean()\n",
    "#     std_group1 = df1[column].std()\n",
    "\n",
    "#     # Calculate mean and standard deviation for non-resp\n",
    "#     mean_group2 = df2[column].mean()\n",
    "#     std_group2 = df2[column].std()\n",
    "\n",
    "#     # Perform Mann-Whitney U test and get p-value\n",
    "#     p_value = round(stats.ttest_rel(df1[column], df2[column])[1], 3)\n",
    "\n",
    "#     # Append the results to the final dataframe\n",
    "#     final_df = final_df.append({'Variable': column,\n",
    "#                                 'SRC': f\"{mean_group1} ({std_group1})\",\n",
    "#                                 'HPT': f\"{mean_group2} ({std_group2})\",\n",
    "#                                 'p-value': p_value}, ignore_index=True)\n",
    "\n",
    "# final_df.loc[final_df['p-value'] <0.06]"
   ]
  },
  {
   "cell_type": "code",
   "execution_count": 3522,
   "metadata": {},
   "outputs": [
    {
     "data": {
      "text/html": [
       "<div>\n",
       "<style scoped>\n",
       "    .dataframe tbody tr th:only-of-type {\n",
       "        vertical-align: middle;\n",
       "    }\n",
       "\n",
       "    .dataframe tbody tr th {\n",
       "        vertical-align: top;\n",
       "    }\n",
       "\n",
       "    .dataframe thead th {\n",
       "        text-align: right;\n",
       "    }\n",
       "</style>\n",
       "<table border=\"1\" class=\"dataframe\">\n",
       "  <thead>\n",
       "    <tr style=\"text-align: right;\">\n",
       "      <th></th>\n",
       "      <th>Variable</th>\n",
       "      <th>no_exo</th>\n",
       "      <th>SRC</th>\n",
       "      <th>HPT</th>\n",
       "      <th>p-value</th>\n",
       "    </tr>\n",
       "  </thead>\n",
       "  <tbody>\n",
       "    <tr>\n",
       "      <th>0</th>\n",
       "      <td>Step Time (s)</td>\n",
       "      <td>0.59 (0.03)</td>\n",
       "      <td>0.60 (0.04)</td>\n",
       "      <td>0.59 (0.03)</td>\n",
       "      <td>0.00</td>\n",
       "    </tr>\n",
       "    <tr>\n",
       "      <th>1</th>\n",
       "      <td>Stride Time (s)</td>\n",
       "      <td>1.18 (0.05)</td>\n",
       "      <td>1.20 (0.08)</td>\n",
       "      <td>1.19 (0.06)</td>\n",
       "      <td>0.00</td>\n",
       "    </tr>\n",
       "    <tr>\n",
       "      <th>2</th>\n",
       "      <td>Step Frequency (step/min)</td>\n",
       "      <td>101.00 (4.00)</td>\n",
       "      <td>100.00 (6.50)</td>\n",
       "      <td>101.00 (5.00)</td>\n",
       "      <td>0.00</td>\n",
       "    </tr>\n",
       "    <tr>\n",
       "      <th>3</th>\n",
       "      <td>Swing Time (s)</td>\n",
       "      <td>0.42 (0.03)</td>\n",
       "      <td>0.43 (0.03)</td>\n",
       "      <td>0.42 (0.03)</td>\n",
       "      <td>0.00</td>\n",
       "    </tr>\n",
       "    <tr>\n",
       "      <th>4</th>\n",
       "      <td>Stance Time (s)</td>\n",
       "      <td>0.76 (0.02)</td>\n",
       "      <td>0.77 (0.05)</td>\n",
       "      <td>0.76 (0.04)</td>\n",
       "      <td>0.00</td>\n",
       "    </tr>\n",
       "    <tr>\n",
       "      <th>15</th>\n",
       "      <td>Step Length (mm)</td>\n",
       "      <td>362.47 (28.75)</td>\n",
       "      <td>371.19 (23.40)</td>\n",
       "      <td>365.79 (27.90)</td>\n",
       "      <td>0.00</td>\n",
       "    </tr>\n",
       "    <tr>\n",
       "      <th>16</th>\n",
       "      <td>Stride Length (mm)</td>\n",
       "      <td>724.92 (57.52)</td>\n",
       "      <td>742.39 (46.82)</td>\n",
       "      <td>731.56 (55.66)</td>\n",
       "      <td>0.00</td>\n",
       "    </tr>\n",
       "    <tr>\n",
       "      <th>6</th>\n",
       "      <td>Step Time Variability (%)</td>\n",
       "      <td>3.03 (0.88)</td>\n",
       "      <td>3.04 (0.90)</td>\n",
       "      <td>3.03 (0.69)</td>\n",
       "      <td>0.33</td>\n",
       "    </tr>\n",
       "    <tr>\n",
       "      <th>7</th>\n",
       "      <td>Stride Time Variability (%)</td>\n",
       "      <td>1.84 (0.45)</td>\n",
       "      <td>1.89 (0.68)</td>\n",
       "      <td>1.89 (0.52)</td>\n",
       "      <td>0.23</td>\n",
       "    </tr>\n",
       "    <tr>\n",
       "      <th>8</th>\n",
       "      <td>Swing Time Variability (%)</td>\n",
       "      <td>4.45 (1.04)</td>\n",
       "      <td>4.65 (0.75)</td>\n",
       "      <td>4.53 (0.49)</td>\n",
       "      <td>0.69</td>\n",
       "    </tr>\n",
       "    <tr>\n",
       "      <th>9</th>\n",
       "      <td>Stance Time Variability (%)</td>\n",
       "      <td>2.86 (0.60)</td>\n",
       "      <td>2.70 (0.75)</td>\n",
       "      <td>2.73 (0.47)</td>\n",
       "      <td>0.14</td>\n",
       "    </tr>\n",
       "    <tr>\n",
       "      <th>17</th>\n",
       "      <td>Step Length Variability (%)</td>\n",
       "      <td>3.03 (0.88)</td>\n",
       "      <td>3.04 (0.90)</td>\n",
       "      <td>3.03 (0.69)</td>\n",
       "      <td>0.33</td>\n",
       "    </tr>\n",
       "    <tr>\n",
       "      <th>18</th>\n",
       "      <td>Stride Length Variability (%)</td>\n",
       "      <td>1.84 (0.45)</td>\n",
       "      <td>1.89 (0.68)</td>\n",
       "      <td>1.89 (0.52)</td>\n",
       "      <td>0.23</td>\n",
       "    </tr>\n",
       "    <tr>\n",
       "      <th>5</th>\n",
       "      <td>Double Stance Time (s)</td>\n",
       "      <td>0.17 (0.01)</td>\n",
       "      <td>0.17 (0.01)</td>\n",
       "      <td>0.17 (0.01)</td>\n",
       "      <td>0.37</td>\n",
       "    </tr>\n",
       "    <tr>\n",
       "      <th>10</th>\n",
       "      <td>Swing Time Percentage (GC %)</td>\n",
       "      <td>35.68 (0.96)</td>\n",
       "      <td>35.78 (1.27)</td>\n",
       "      <td>35.66 (1.04)</td>\n",
       "      <td>0.02</td>\n",
       "    </tr>\n",
       "    <tr>\n",
       "      <th>11</th>\n",
       "      <td>Stance Time Percentage (GC %)</td>\n",
       "      <td>64.32 (0.95)</td>\n",
       "      <td>64.23 (1.27)</td>\n",
       "      <td>64.34 (1.05)</td>\n",
       "      <td>0.02</td>\n",
       "    </tr>\n",
       "    <tr>\n",
       "      <th>12</th>\n",
       "      <td>Double Stance Time Percentage (GC %)</td>\n",
       "      <td>14.32 (0.96)</td>\n",
       "      <td>14.23 (1.27)</td>\n",
       "      <td>14.34 (1.00)</td>\n",
       "      <td>0.01</td>\n",
       "    </tr>\n",
       "    <tr>\n",
       "      <th>13</th>\n",
       "      <td>Single Stance Time Percentage (GC %)</td>\n",
       "      <td>35.68 (0.96)</td>\n",
       "      <td>35.78 (1.27)</td>\n",
       "      <td>35.66 (1.00)</td>\n",
       "      <td>0.01</td>\n",
       "    </tr>\n",
       "    <tr>\n",
       "      <th>14</th>\n",
       "      <td>Step Width (mm)</td>\n",
       "      <td>60.84 (23.24)</td>\n",
       "      <td>83.60 (24.18)</td>\n",
       "      <td>86.17 (23.71)</td>\n",
       "      <td>0.00</td>\n",
       "    </tr>\n",
       "    <tr>\n",
       "      <th>19</th>\n",
       "      <td>COM ML GC Range (mm)</td>\n",
       "      <td>34.90 (11.63)</td>\n",
       "      <td>45.35 (15.45)</td>\n",
       "      <td>45.43 (13.63)</td>\n",
       "      <td>0.00</td>\n",
       "    </tr>\n",
       "    <tr>\n",
       "      <th>20</th>\n",
       "      <td>COM ML Velocity (mm/s)</td>\n",
       "      <td>54.77 (20.74)</td>\n",
       "      <td>72.28 (24.11)</td>\n",
       "      <td>74.30 (22.57)</td>\n",
       "      <td>0.00</td>\n",
       "    </tr>\n",
       "    <tr>\n",
       "      <th>21</th>\n",
       "      <td>COM ML GC RMS Acc (mm/s2)</td>\n",
       "      <td>378.44 (115.92)</td>\n",
       "      <td>457.44 (160.32)</td>\n",
       "      <td>476.19 (127.07)</td>\n",
       "      <td>0.00</td>\n",
       "    </tr>\n",
       "    <tr>\n",
       "      <th>22</th>\n",
       "      <td>COM ML Linear Momentum (kg.m/s)</td>\n",
       "      <td>4.24 (1.88)</td>\n",
       "      <td>5.25 (2.48)</td>\n",
       "      <td>5.14 (2.06)</td>\n",
       "      <td>0.00</td>\n",
       "    </tr>\n",
       "  </tbody>\n",
       "</table>\n",
       "</div>"
      ],
      "text/plain": [
       "                                Variable           no_exo              SRC  \\\n",
       "0                          Step Time (s)      0.59 (0.03)      0.60 (0.04)   \n",
       "1                        Stride Time (s)      1.18 (0.05)      1.20 (0.08)   \n",
       "2              Step Frequency (step/min)    101.00 (4.00)    100.00 (6.50)   \n",
       "3                         Swing Time (s)      0.42 (0.03)      0.43 (0.03)   \n",
       "4                        Stance Time (s)      0.76 (0.02)      0.77 (0.05)   \n",
       "15                      Step Length (mm)   362.47 (28.75)   371.19 (23.40)   \n",
       "16                    Stride Length (mm)   724.92 (57.52)   742.39 (46.82)   \n",
       "6              Step Time Variability (%)      3.03 (0.88)      3.04 (0.90)   \n",
       "7            Stride Time Variability (%)      1.84 (0.45)      1.89 (0.68)   \n",
       "8             Swing Time Variability (%)      4.45 (1.04)      4.65 (0.75)   \n",
       "9            Stance Time Variability (%)      2.86 (0.60)      2.70 (0.75)   \n",
       "17           Step Length Variability (%)      3.03 (0.88)      3.04 (0.90)   \n",
       "18         Stride Length Variability (%)      1.84 (0.45)      1.89 (0.68)   \n",
       "5                 Double Stance Time (s)      0.17 (0.01)      0.17 (0.01)   \n",
       "10          Swing Time Percentage (GC %)     35.68 (0.96)     35.78 (1.27)   \n",
       "11         Stance Time Percentage (GC %)     64.32 (0.95)     64.23 (1.27)   \n",
       "12  Double Stance Time Percentage (GC %)     14.32 (0.96)     14.23 (1.27)   \n",
       "13  Single Stance Time Percentage (GC %)     35.68 (0.96)     35.78 (1.27)   \n",
       "14                       Step Width (mm)    60.84 (23.24)    83.60 (24.18)   \n",
       "19                  COM ML GC Range (mm)    34.90 (11.63)    45.35 (15.45)   \n",
       "20                COM ML Velocity (mm/s)    54.77 (20.74)    72.28 (24.11)   \n",
       "21             COM ML GC RMS Acc (mm/s2)  378.44 (115.92)  457.44 (160.32)   \n",
       "22       COM ML Linear Momentum (kg.m/s)      4.24 (1.88)      5.25 (2.48)   \n",
       "\n",
       "                HPT  p-value  \n",
       "0       0.59 (0.03)     0.00  \n",
       "1       1.19 (0.06)     0.00  \n",
       "2     101.00 (5.00)     0.00  \n",
       "3       0.42 (0.03)     0.00  \n",
       "4       0.76 (0.04)     0.00  \n",
       "15   365.79 (27.90)     0.00  \n",
       "16   731.56 (55.66)     0.00  \n",
       "6       3.03 (0.69)     0.33  \n",
       "7       1.89 (0.52)     0.23  \n",
       "8       4.53 (0.49)     0.69  \n",
       "9       2.73 (0.47)     0.14  \n",
       "17      3.03 (0.69)     0.33  \n",
       "18      1.89 (0.52)     0.23  \n",
       "5       0.17 (0.01)     0.37  \n",
       "10     35.66 (1.04)     0.02  \n",
       "11     64.34 (1.05)     0.02  \n",
       "12     14.34 (1.00)     0.01  \n",
       "13     35.66 (1.00)     0.01  \n",
       "14    86.17 (23.71)     0.00  \n",
       "19    45.43 (13.63)     0.00  \n",
       "20    74.30 (22.57)     0.00  \n",
       "21  476.19 (127.07)     0.00  \n",
       "22      5.14 (2.06)     0.00  "
      ]
     },
     "execution_count": 3522,
     "metadata": {},
     "output_type": "execute_result"
    }
   ],
   "source": [
    "import pandas as pd\n",
    "from scipy.stats import friedmanchisquare\n",
    "SRCstat = SRC #\n",
    "SRCstat.columns = saved_columns\n",
    "HPTstat = HPT\n",
    "HPTstat.columns = saved_columns\n",
    "no_exostat = no_exo\n",
    "no_exostat.columns = saved_columns\n",
    "no_exostat = no_exostat[columns_of_interest]\n",
    "SRCstat = SRCstat[columns_of_interest]\n",
    "HPTstat = HPTstat[columns_of_interest]\n",
    "# Create sample dataframes\n",
    "df1 = SRCstat\n",
    "df2 = HPTstat\n",
    "df3 = no_exostat\n",
    "\n",
    "# Create an empty dataframe to store the results\n",
    "final_df = pd.DataFrame(columns=['Variable', 'no_exo', 'SRC', 'HPT', 'p-value'])\n",
    "\n",
    "# Iterate over each column\n",
    "for column in df1.columns:\n",
    "    # Calculate mean and standard deviation for each dataframe\n",
    "    mean_group1 = df1[column].median()\n",
    "    std_group1 = df1[column].quantile(0.75) - df1[column].quantile(0.25)\n",
    "\n",
    "    mean_group2 = df2[column].median()\n",
    "    std_group2 = df2[column].quantile(0.75) - df2[column].quantile(0.25)\n",
    "\n",
    "    mean_group3 = df3[column].median()\n",
    "    std_group3 = df3[column].quantile(0.75) - df3[column].quantile(0.25)\n",
    "\n",
    "    # Perform the Friedman test and get p-value\n",
    "    p_value = round(friedmanchisquare(df1[column], df2[column], df3[column]).pvalue, 2)\n",
    "\n",
    "    # Append the results to the final dataframe\n",
    "    final_df = final_df.append({'Variable': column,\n",
    "                                'no_exo': f\"{mean_group3:.2f} ({std_group3:.2f})\",\n",
    "                                'SRC': f\"{mean_group1:.2f} ({std_group1:.2f})\",\n",
    "                                'HPT': f\"{mean_group2:.2f} ({std_group2:.2f})\",\n",
    "                                'p-value': p_value}, ignore_index=True)\n",
    "\n",
    "ordered = ['mean_step_time (s)',\n",
    " 'mean_stride_time (s)',\n",
    " 'cadence (step/min)',\n",
    " 'mean_swing_time (s)',\n",
    " 'mean_stance_time (s)',\n",
    " 'mean_step_length (mm)',\n",
    " 'mean_stride_length (mm)',\n",
    " 'cov_step_time (%)',\n",
    " 'cov_stride_time (%)',\n",
    " 'cov_swing_time (%)',\n",
    " 'cov_stance_time (%)',\n",
    " 'cov_step_length (%)',\n",
    " 'cov_stride_length (%)',\n",
    " 'mean_ds_time (s)',\n",
    " 'swing_time_perctg (%)',\n",
    " 'stance_time_perctg (%)',\n",
    " 'ds_time_perctg (%)',\n",
    " 'ss_time_perctg (%)',\n",
    " 'mean_step_width (mm)',\n",
    " 'mean_GC_range_ML (mm)',\n",
    " 'mean_vel_ML (mm/s)',\n",
    " 'mean_GC_rms_acc_ML (mm/s2)',\n",
    " 'linear_momentum_ML (kg.m/s)']\n",
    "final_df = final_df.sort_values(by='Variable', key=lambda x: x.map(dict(zip(ordered, range(len(ordered))))))\n",
    "\n",
    "final_df['Variable'] = ['Step Time (s)',\n",
    " 'Stride Time (s)',\n",
    " 'Step Frequency (step/min)',\n",
    " 'Swing Time (s)',\n",
    " 'Stance Time (s)',\n",
    " 'Step Length (mm)',\n",
    " 'Stride Length (mm)',\n",
    " 'Step Time Variability (%)',\n",
    " 'Stride Time Variability (%)',\n",
    " 'Swing Time Variability (%)',\n",
    " 'Stance Time Variability (%)',\n",
    " 'Step Length Variability (%)',\n",
    " 'Stride Length Variability (%)',\n",
    " 'Double Stance Time (s)',\n",
    " 'Swing Time Percentage (GC %)',\n",
    " 'Stance Time Percentage (GC %)',\n",
    " 'Double Stance Time Percentage (GC %)',\n",
    " 'Single Stance Time Percentage (GC %)',\n",
    " 'Step Width (mm)',\n",
    " 'COM ML GC Range (mm)',\n",
    " 'COM ML Velocity (mm/s)',\n",
    " 'COM ML GC RMS Acc (mm/s2)',\n",
    " 'COM ML Linear Momentum (kg.m/s)']\n",
    "final_df\n",
    "# .loc[final_df['p-value'] <0.06]"
   ]
  },
  {
   "cell_type": "markdown",
   "metadata": {},
   "source": [
    "**resp vs non resp**"
   ]
  },
  {
   "cell_type": "code",
   "execution_count": 3523,
   "metadata": {},
   "outputs": [
    {
     "data": {
      "text/html": [
       "<div>\n",
       "<style scoped>\n",
       "    .dataframe tbody tr th:only-of-type {\n",
       "        vertical-align: middle;\n",
       "    }\n",
       "\n",
       "    .dataframe tbody tr th {\n",
       "        vertical-align: top;\n",
       "    }\n",
       "\n",
       "    .dataframe thead th {\n",
       "        text-align: right;\n",
       "    }\n",
       "</style>\n",
       "<table border=\"1\" class=\"dataframe\">\n",
       "  <thead>\n",
       "    <tr style=\"text-align: right;\">\n",
       "      <th></th>\n",
       "      <th>Variable</th>\n",
       "      <th>non-resp change</th>\n",
       "      <th>resp change</th>\n",
       "      <th>p-value</th>\n",
       "    </tr>\n",
       "  </thead>\n",
       "  <tbody>\n",
       "    <tr>\n",
       "      <th>0</th>\n",
       "      <td>ΔStep Time (s)</td>\n",
       "      <td>0.0 (0.02)</td>\n",
       "      <td>-0.01 (0.01)</td>\n",
       "      <td>0.05</td>\n",
       "    </tr>\n",
       "    <tr>\n",
       "      <th>1</th>\n",
       "      <td>ΔStride Time (s)</td>\n",
       "      <td>0.0 (0.03)</td>\n",
       "      <td>-0.03 (0.02)</td>\n",
       "      <td>0.05</td>\n",
       "    </tr>\n",
       "    <tr>\n",
       "      <th>2</th>\n",
       "      <td>ΔStep Frequency (step/min)</td>\n",
       "      <td>0.0 (2.75)</td>\n",
       "      <td>2.0 (2.0)</td>\n",
       "      <td>0.97</td>\n",
       "    </tr>\n",
       "    <tr>\n",
       "      <th>3</th>\n",
       "      <td>ΔSwing Time (s)</td>\n",
       "      <td>-0.0 (0.01)</td>\n",
       "      <td>-0.01 (0.01)</td>\n",
       "      <td>0.12</td>\n",
       "    </tr>\n",
       "    <tr>\n",
       "      <th>4</th>\n",
       "      <td>ΔStance Time (s)</td>\n",
       "      <td>0.0 (0.02)</td>\n",
       "      <td>-0.02 (0.01)</td>\n",
       "      <td>0.05</td>\n",
       "    </tr>\n",
       "    <tr>\n",
       "      <th>15</th>\n",
       "      <td>ΔStep Length (mm)</td>\n",
       "      <td>1.14 (9.6)</td>\n",
       "      <td>-8.57 (6.13)</td>\n",
       "      <td>0.05</td>\n",
       "    </tr>\n",
       "    <tr>\n",
       "      <th>16</th>\n",
       "      <td>ΔStride Length (mm)</td>\n",
       "      <td>2.3 (19.28)</td>\n",
       "      <td>-17.14 (12.24)</td>\n",
       "      <td>0.05</td>\n",
       "    </tr>\n",
       "    <tr>\n",
       "      <th>6</th>\n",
       "      <td>ΔStep Time Variability (%)</td>\n",
       "      <td>0.06 (0.83)</td>\n",
       "      <td>0.06 (0.7)</td>\n",
       "      <td>0.45</td>\n",
       "    </tr>\n",
       "    <tr>\n",
       "      <th>7</th>\n",
       "      <td>ΔStride Time Variability (%)</td>\n",
       "      <td>-0.24 (1.14)</td>\n",
       "      <td>-0.15 (0.47)</td>\n",
       "      <td>0.73</td>\n",
       "    </tr>\n",
       "    <tr>\n",
       "      <th>8</th>\n",
       "      <td>ΔSwing Time Variability (%)</td>\n",
       "      <td>-0.36 (0.83)</td>\n",
       "      <td>-0.19 (1.22)</td>\n",
       "      <td>0.48</td>\n",
       "    </tr>\n",
       "    <tr>\n",
       "      <th>9</th>\n",
       "      <td>ΔStance Time Variability (%)</td>\n",
       "      <td>-0.13 (0.87)</td>\n",
       "      <td>0.07 (0.52)</td>\n",
       "      <td>0.70</td>\n",
       "    </tr>\n",
       "    <tr>\n",
       "      <th>17</th>\n",
       "      <td>ΔStep Length Variability (%)</td>\n",
       "      <td>0.06 (0.83)</td>\n",
       "      <td>0.06 (0.7)</td>\n",
       "      <td>0.45</td>\n",
       "    </tr>\n",
       "    <tr>\n",
       "      <th>18</th>\n",
       "      <td>ΔStride Length Variability (%)</td>\n",
       "      <td>-0.24 (1.14)</td>\n",
       "      <td>-0.15 (0.47)</td>\n",
       "      <td>0.73</td>\n",
       "    </tr>\n",
       "    <tr>\n",
       "      <th>5</th>\n",
       "      <td>ΔDouble Stance Time (s)</td>\n",
       "      <td>0.0 (0.01)</td>\n",
       "      <td>-0.0 (0.01)</td>\n",
       "      <td>0.20</td>\n",
       "    </tr>\n",
       "    <tr>\n",
       "      <th>10</th>\n",
       "      <td>ΔSwing Time Percentage (GC %)</td>\n",
       "      <td>-0.3 (0.31)</td>\n",
       "      <td>-0.36 (0.6)</td>\n",
       "      <td>0.64</td>\n",
       "    </tr>\n",
       "    <tr>\n",
       "      <th>11</th>\n",
       "      <td>ΔStance Time Percentage (GC %)</td>\n",
       "      <td>0.31 (0.29)</td>\n",
       "      <td>0.34 (0.6)</td>\n",
       "      <td>0.36</td>\n",
       "    </tr>\n",
       "    <tr>\n",
       "      <th>12</th>\n",
       "      <td>ΔDouble Stance Time Percentage (GC %)</td>\n",
       "      <td>0.31 (0.3)</td>\n",
       "      <td>0.34 (0.6)</td>\n",
       "      <td>0.36</td>\n",
       "    </tr>\n",
       "    <tr>\n",
       "      <th>13</th>\n",
       "      <td>ΔSingle Stance Time Percentage (GC %)</td>\n",
       "      <td>-0.31 (0.3)</td>\n",
       "      <td>-0.36 (0.6)</td>\n",
       "      <td>0.64</td>\n",
       "    </tr>\n",
       "    <tr>\n",
       "      <th>14</th>\n",
       "      <td>ΔStep Width (mm)</td>\n",
       "      <td>-18.0 (18.02)</td>\n",
       "      <td>-18.33 (14.69)</td>\n",
       "      <td>0.42</td>\n",
       "    </tr>\n",
       "    <tr>\n",
       "      <th>19</th>\n",
       "      <td>ΔCOM ML GC Range (mm)</td>\n",
       "      <td>-9.37 (7.09)</td>\n",
       "      <td>-11.29 (5.11)</td>\n",
       "      <td>0.42</td>\n",
       "    </tr>\n",
       "    <tr>\n",
       "      <th>20</th>\n",
       "      <td>ΔCOM ML Velocity (mm/s)</td>\n",
       "      <td>-15.82 (14.8)</td>\n",
       "      <td>-14.86 (7.88)</td>\n",
       "      <td>0.58</td>\n",
       "    </tr>\n",
       "    <tr>\n",
       "      <th>21</th>\n",
       "      <td>ΔCOM ML GC RMS Acc (mm/s2)</td>\n",
       "      <td>-89.19 (108.86)</td>\n",
       "      <td>-86.27 (72.57)</td>\n",
       "      <td>0.58</td>\n",
       "    </tr>\n",
       "    <tr>\n",
       "      <th>22</th>\n",
       "      <td>ΔCOM ML Linear Momentum (kg.m/s)</td>\n",
       "      <td>-1.25 (1.15)</td>\n",
       "      <td>-1.12 (0.39)</td>\n",
       "      <td>0.64</td>\n",
       "    </tr>\n",
       "  </tbody>\n",
       "</table>\n",
       "</div>"
      ],
      "text/plain": [
       "                                 Variable  non-resp change     resp change  \\\n",
       "0                          ΔStep Time (s)       0.0 (0.02)    -0.01 (0.01)   \n",
       "1                        ΔStride Time (s)       0.0 (0.03)    -0.03 (0.02)   \n",
       "2              ΔStep Frequency (step/min)       0.0 (2.75)       2.0 (2.0)   \n",
       "3                         ΔSwing Time (s)      -0.0 (0.01)    -0.01 (0.01)   \n",
       "4                        ΔStance Time (s)       0.0 (0.02)    -0.02 (0.01)   \n",
       "15                      ΔStep Length (mm)       1.14 (9.6)    -8.57 (6.13)   \n",
       "16                    ΔStride Length (mm)      2.3 (19.28)  -17.14 (12.24)   \n",
       "6              ΔStep Time Variability (%)      0.06 (0.83)      0.06 (0.7)   \n",
       "7            ΔStride Time Variability (%)     -0.24 (1.14)    -0.15 (0.47)   \n",
       "8             ΔSwing Time Variability (%)     -0.36 (0.83)    -0.19 (1.22)   \n",
       "9            ΔStance Time Variability (%)     -0.13 (0.87)     0.07 (0.52)   \n",
       "17           ΔStep Length Variability (%)      0.06 (0.83)      0.06 (0.7)   \n",
       "18         ΔStride Length Variability (%)     -0.24 (1.14)    -0.15 (0.47)   \n",
       "5                 ΔDouble Stance Time (s)       0.0 (0.01)     -0.0 (0.01)   \n",
       "10          ΔSwing Time Percentage (GC %)      -0.3 (0.31)     -0.36 (0.6)   \n",
       "11         ΔStance Time Percentage (GC %)      0.31 (0.29)      0.34 (0.6)   \n",
       "12  ΔDouble Stance Time Percentage (GC %)       0.31 (0.3)      0.34 (0.6)   \n",
       "13  ΔSingle Stance Time Percentage (GC %)      -0.31 (0.3)     -0.36 (0.6)   \n",
       "14                       ΔStep Width (mm)    -18.0 (18.02)  -18.33 (14.69)   \n",
       "19                  ΔCOM ML GC Range (mm)     -9.37 (7.09)   -11.29 (5.11)   \n",
       "20                ΔCOM ML Velocity (mm/s)    -15.82 (14.8)   -14.86 (7.88)   \n",
       "21             ΔCOM ML GC RMS Acc (mm/s2)  -89.19 (108.86)  -86.27 (72.57)   \n",
       "22       ΔCOM ML Linear Momentum (kg.m/s)     -1.25 (1.15)    -1.12 (0.39)   \n",
       "\n",
       "    p-value  \n",
       "0      0.05  \n",
       "1      0.05  \n",
       "2      0.97  \n",
       "3      0.12  \n",
       "4      0.05  \n",
       "15     0.05  \n",
       "16     0.05  \n",
       "6      0.45  \n",
       "7      0.73  \n",
       "8      0.48  \n",
       "9      0.70  \n",
       "17     0.45  \n",
       "18     0.73  \n",
       "5      0.20  \n",
       "10     0.64  \n",
       "11     0.36  \n",
       "12     0.36  \n",
       "13     0.64  \n",
       "14     0.42  \n",
       "19     0.42  \n",
       "20     0.58  \n",
       "21     0.58  \n",
       "22     0.64  "
      ]
     },
     "execution_count": 3523,
     "metadata": {},
     "output_type": "execute_result"
    }
   ],
   "source": [
    "# import pandas as pd\n",
    "from scipy import stats\n",
    "non_resp_stat = non_resp\n",
    "non_resp_stat_no_exo = non_resp_noexo\n",
    "non_resp_stat.columns = saved_columns\n",
    "non_resp_stat_no_exo.columns = saved_columns\n",
    "non_resp_stat = non_resp_stat[columns_of_interest]\n",
    "non_resp_stat_no_exo = non_resp_stat_no_exo[columns_of_interest]\n",
    "\n",
    "resp_stat = resp\n",
    "resp_stat.columns = saved_columns\n",
    "resp_stat = resp_stat[columns_of_interest]\n",
    "resp_stat_no_exo = resp_noexo\n",
    "resp_stat_no_exo.columns = saved_columns\n",
    "resp_stat_no_exo = resp_stat_no_exo[columns_of_interest]\n",
    "\n",
    "change_resp, change_non_resp = resp_stat_no_exo - resp_stat, non_resp_stat_no_exo - non_resp_stat\n",
    "# Create sample dataframes\n",
    "df1 = change_non_resp\n",
    "\n",
    "df2 = change_resp\n",
    "\n",
    "# Create an empty dataframe to store the results\n",
    "final_df = pd.DataFrame(columns=['Variable', 'non-resp change', 'resp change', 'p-value'])\n",
    "\n",
    "# Iterate over each column\n",
    "for column in df1.columns:\n",
    "    # Calculate mean and standard deviation for resp\n",
    "    mean_group1 = df1[column].median()\n",
    "    std_group1 = df1[column].quantile(0.75) - df1[column].quantile(0.25)\n",
    "\n",
    "    # Calculate mean and standard deviation for non-resp\n",
    "    mean_group2 = df2[column].median()\n",
    "    std_group2 = df2[column].quantile(0.75) - df2[column].quantile(0.25)\n",
    "\n",
    "    # Perform Mann-Whitney U test and get p-value\n",
    "    p_value = round(stats.mannwhitneyu(df1[column], df2[column], alternative= 'greater')[1], 2) #‘two-sided’, ‘less’, ‘greater’\n",
    "\n",
    "    # Append the results to the final dataframe\n",
    "    final_df = final_df.append({'Variable': column,\n",
    "                                'non-resp change': f\"{round(mean_group1, 2)} ({round(std_group1, 2)})\",\n",
    "                                'resp change': f\"{round(mean_group2, 2)} ({round(std_group2, 2)})\",\n",
    "                                'p-value': p_value}, ignore_index=True)\n",
    "\n",
    "final_df\n",
    "# .loc[final_df['p-value'] <0.06]\n",
    "\n",
    "ordered = ['mean_step_time (s)',\n",
    " 'mean_stride_time (s)',\n",
    " 'cadence (step/min)',\n",
    " 'mean_swing_time (s)',\n",
    " 'mean_stance_time (s)',\n",
    " 'mean_step_length (mm)',\n",
    " 'mean_stride_length (mm)',\n",
    " 'cov_step_time (%)',\n",
    " 'cov_stride_time (%)',\n",
    " 'cov_swing_time (%)',\n",
    " 'cov_stance_time (%)',\n",
    " 'cov_step_length (%)',\n",
    " 'cov_stride_length (%)',\n",
    " 'mean_ds_time (s)',\n",
    " 'swing_time_perctg (%)',\n",
    " 'stance_time_perctg (%)',\n",
    " 'ds_time_perctg (%)',\n",
    " 'ss_time_perctg (%)',\n",
    " 'mean_step_width (mm)',\n",
    " 'mean_GC_range_ML (mm)',\n",
    " 'mean_vel_ML (mm/s)',\n",
    " 'mean_GC_rms_acc_ML (mm/s2)',\n",
    " 'linear_momentum_ML (kg.m/s)']\n",
    "final_df = final_df.sort_values(by='Variable', key=lambda x: x.map(dict(zip(ordered, range(len(ordered))))))\n",
    "\n",
    "final_df['Variable'] = ['Step Time (s)',\n",
    " 'Stride Time (s)',\n",
    " 'Step Frequency (step/min)',\n",
    " 'Swing Time (s)',\n",
    " 'Stance Time (s)',\n",
    " 'Step Length (mm)',\n",
    " 'Stride Length (mm)',\n",
    " 'Step Time Variability (%)',\n",
    " 'Stride Time Variability (%)',\n",
    " 'Swing Time Variability (%)',\n",
    " 'Stance Time Variability (%)',\n",
    " 'Step Length Variability (%)',\n",
    " 'Stride Length Variability (%)',\n",
    " 'Double Stance Time (s)',\n",
    " 'Swing Time Percentage (GC %)',\n",
    " 'Stance Time Percentage (GC %)',\n",
    " 'Double Stance Time Percentage (GC %)',\n",
    " 'Single Stance Time Percentage (GC %)',\n",
    " 'Step Width (mm)',\n",
    " 'COM ML GC Range (mm)',\n",
    " 'COM ML Velocity (mm/s)',\n",
    " 'COM ML GC RMS Acc (mm/s2)',\n",
    " 'COM ML Linear Momentum (kg.m/s)']\n",
    "final_df['Variable'] = ['Δ'+i for i in list(final_df['Variable'])]\n",
    "final_df\n",
    "# .loc[final_df['p-value'] <0.06]"
   ]
  },
  {
   "cell_type": "markdown",
   "metadata": {},
   "source": [
    "**Correl Domains with mr reduction (controlling for respondent)**"
   ]
  },
  {
   "cell_type": "code",
   "execution_count": 3524,
   "metadata": {},
   "outputs": [],
   "source": [
    "change = no_exostat - SRCstat\n",
    "# Create sample dataframes\n",
    "df1 = change\n",
    "\n",
    "df2 = change_non_resp[['mean_step_time (s)']]\n",
    "\n",
    "# Create an empty dataframe to store the results\n",
    "final_df = pd.DataFrame(columns=['Variable', 'param change correl with metabolic cost red', 'p-value',])\n",
    "\n",
    "# Iterate over each column\n",
    "for column in df1.columns:\n",
    "    # # Calculate mean and standard deviation for resp\n",
    "    mean_group1 = df1[column].median()\n",
    "    std_group1 = df1[column].quantile(0.75) - df1[column].quantile(0.25)\n",
    "\n",
    "    # # Calculate mean and standard deviation for non-resp\n",
    "    # mean_group2 = df2[column].mean()\n",
    "    # std_group2 = df2[column].std()\n",
    "\n",
    "    # Perform Mann-Whitney U test and get p-value\n",
    "    r1 = spearmanr(df1[column].values, MR_change.red.values)[0]\n",
    "    r2 = spearmanr(df1[column].values, MR_change.red.values)[1]\n",
    "    \n",
    "    # Append the results to the final dataframe\n",
    "    final_df = final_df.append({'Variable': column,\n",
    "                                # 'value': f\"{round(mean_group1, 2)} ({round(std_group1, 2)})\",\n",
    "                                'R': round(r1, 2),\n",
    "                                'p-value': round(r2, 2)}, ignore_index=True)\n",
    "\n",
    "final_df\n",
    "# .loc[final_df['p-value'] <0.06]\n",
    "\n",
    "ordered = ['mean_step_time (s)',\n",
    " 'mean_stride_time (s)',\n",
    " 'cadence (step/min)',\n",
    " 'mean_swing_time (s)',\n",
    " 'mean_stance_time (s)',\n",
    " 'mean_step_length (mm)',\n",
    " 'mean_stride_length (mm)',\n",
    " 'cov_step_time (%)',\n",
    " 'cov_stride_time (%)',\n",
    " 'cov_swing_time (%)',\n",
    " 'cov_stance_time (%)',\n",
    " 'cov_step_length (%)',\n",
    " 'cov_stride_length (%)',\n",
    " 'mean_ds_time (s)',\n",
    " 'swing_time_perctg (%)',\n",
    " 'stance_time_perctg (%)',\n",
    " 'ds_time_perctg (%)',\n",
    " 'ss_time_perctg (%)',\n",
    " 'mean_step_width (mm)',\n",
    " 'mean_GC_range_ML (mm)',\n",
    " 'mean_vel_ML (mm/s)',\n",
    " 'mean_GC_rms_acc_ML (mm/s2)',\n",
    " 'linear_momentum_ML (kg.m/s)']\n",
    "final_df = final_df.sort_values(by='Variable', key=lambda x: x.map(dict(zip(ordered, range(len(ordered))))))\n",
    "\n",
    "final_df['Variable'] = ['Step Time (s)',\n",
    " 'Stride Time (s)',\n",
    " 'Step Frequency (step/min)',\n",
    " 'Swing Time (s)',\n",
    " 'Stance Time (s)',\n",
    " 'Step Length (mm)',\n",
    " 'Stride Length (mm)',\n",
    " 'Step Time Variability (%)',\n",
    " 'Stride Time Variability (%)',\n",
    " 'Swing Time Variability (%)',\n",
    " 'Stance Time Variability (%)',\n",
    " 'Step Length Variability (%)',\n",
    " 'Stride Length Variability (%)',\n",
    " 'Double Stance Time (s)',\n",
    " 'Swing Time Percentage (GC %)',\n",
    " 'Stance Time Percentage (GC %)',\n",
    " 'Double Stance Time Percentage (GC %)',\n",
    " 'Single Stance Time Percentage (GC %)',\n",
    " 'Step Width (mm)',\n",
    " 'COM ML GC Range (mm)',\n",
    " 'COM ML Velocity (mm/s)',\n",
    " 'COM ML GC RMS Acc (mm/s2)',\n",
    " 'COM ML Linear Momentum (kg.m/s)']\n",
    "final_df['Variable'] = ['Δ'+i for i in list(final_df['Variable'])]\n",
    "final_df\n",
    "# .to_excel('/Users/cyrilleetude/Downloads/e_walk_data_analysis/Data_analysis/R.xlsx', index=False)\n",
    "# .loc[final_df['p-value'] <0.06]"
   ]
  },
  {
   "cell_type": "markdown",
   "metadata": {},
   "source": [
    "**Viz**"
   ]
  },
  {
   "cell_type": "code",
   "execution_count": 3525,
   "metadata": {},
   "outputs": [
    {
     "data": {
      "application/vnd.plotly.v1+json": {
       "config": {
        "plotlyServerURL": "https://plot.ly"
       },
       "data": [
        {
         "boxpoints": false,
         "fillcolor": "rgba(0, 0, 0, 0)",
         "jitter": 0,
         "line": {
          "color": "red",
          "width": 1
         },
         "marker": {
          "size": 0
         },
         "name": "Box 1",
         "showlegend": false,
         "type": "box",
         "y": [
          -0.20621574419313676,
          -0.20317889181870305,
          0.31539747090930187,
          -0.16158151432849233,
          -0.08547882462924036,
          0.03397549665154579,
          0.034562170869081275
         ]
        },
        {
         "boxpoints": false,
         "fillcolor": "rgba(0, 0, 0, 0)",
         "jitter": 0,
         "line": {
          "color": "green",
          "width": 1
         },
         "marker": {
          "size": 0
         },
         "name": "Box 2",
         "showlegend": false,
         "type": "box",
         "y": [
          -0.3007142609240033,
          -0.3070645314392449,
          0.31539747090930187,
          -0.2207967740696827,
          0.08298995609731889,
          -0.14924134497166483,
          -0.14806420012833452
         ]
        },
        {
         "boxpoints": false,
         "fillcolor": "rgba(0, 0, 0, 0)",
         "jitter": 0,
         "line": {
          "color": "blue",
          "width": 1
         },
         "marker": {
          "size": 0
         },
         "name": "Box 3",
         "showlegend": false,
         "type": "box",
         "y": [
          -0.6263543867602351,
          -0.6277275020697946,
          0.5759432077474196,
          -0.47609269196957144,
          -0.4473277442376516,
          -0.44653833947048927,
          -0.4463730399533685
         ]
        },
        {
         "boxpoints": false,
         "fillcolor": "rgba(0, 0, 0, 0)",
         "jitter": 0,
         "line": {
          "color": "red",
          "width": 1
         },
         "marker": {
          "size": 0
         },
         "name": "Box 4",
         "showlegend": false,
         "type": "box",
         "y": [
          -0.31719955267101607,
          -0.1890422420070806,
          -0.3465693807482621,
          -0.019578931132173003,
          -0.31719955267101557,
          -0.18904224200708017
         ]
        },
        {
         "boxpoints": false,
         "fillcolor": "rgba(0, 0, 0, 0)",
         "jitter": 0,
         "line": {
          "color": "green",
          "width": 1
         },
         "marker": {
          "size": 0
         },
         "name": "Box 5",
         "showlegend": false,
         "type": "box",
         "y": [
          -0.31437249789789456,
          -0.09959405723762715,
          -0.274570245918666,
          -0.22742404470760985,
          -0.314372497897893,
          -0.09959405723762713
         ]
        },
        {
         "boxpoints": false,
         "fillcolor": "rgba(0, 0, 0, 0)",
         "jitter": 0,
         "line": {
          "color": "blue",
          "width": 1
         },
         "marker": {
          "size": 0
         },
         "name": "Box 6",
         "showlegend": false,
         "type": "box",
         "y": [
          -0.3068914856717876,
          -0.09156923647613369,
          -0.17424236241610175,
          -0.2826652251578598,
          -0.30689148567178814,
          -0.09156923647613367
         ]
        },
        {
         "boxpoints": false,
         "fillcolor": "rgba(0, 0, 0, 0)",
         "jitter": 0,
         "line": {
          "color": "red",
          "width": 1
         },
         "marker": {
          "size": 0
         },
         "name": "Box 7",
         "showlegend": false,
         "type": "box",
         "y": [
          -0.052010306824037685,
          0.15814849739667422,
          -0.1638149431039025,
          -0.1587262090310461,
          0.15928847892098283
         ]
        },
        {
         "boxpoints": false,
         "fillcolor": "rgba(0, 0, 0, 0)",
         "jitter": 0,
         "line": {
          "color": "green",
          "width": 1
         },
         "marker": {
          "size": 0
         },
         "name": "Box 8",
         "showlegend": false,
         "type": "box",
         "y": [
          -0.27460195009896077,
          0.129546679544093,
          -0.13417004009530284,
          -0.1298285198455761,
          0.12927480076803097
         ]
        },
        {
         "boxpoints": false,
         "fillcolor": "rgba(0, 0, 0, 0)",
         "jitter": 0,
         "line": {
          "color": "blue",
          "width": 1
         },
         "marker": {
          "size": 0
         },
         "name": "Box 9",
         "showlegend": false,
         "type": "box",
         "y": [
          -0.2585182753399189,
          0.2941511098148219,
          -0.2836971552767547,
          -0.28979683167278697,
          0.29661136248518255
         ]
        },
        {
         "boxpoints": false,
         "fillcolor": "rgba(0, 0, 0, 0)",
         "jitter": 0,
         "line": {
          "color": "red",
          "width": 1
         },
         "marker": {
          "size": 0
         },
         "name": "Box 10",
         "showlegend": false,
         "type": "box",
         "y": [
          0.18449419541387133,
          0.08331434339995913,
          0.058372571460326476,
          -0.09583071715990985,
          -0.08038504024397243
         ]
        },
        {
         "boxpoints": false,
         "fillcolor": "rgba(0, 0, 0, 0)",
         "jitter": 0,
         "line": {
          "color": "green",
          "width": 1
         },
         "marker": {
          "size": 0
         },
         "name": "Box 11",
         "showlegend": false,
         "type": "box",
         "y": [
          -1.193036257573075,
          -1.172804243498093,
          -1.4377822817446355,
          -1.3945642329395882,
          -0.7874787108729642
         ]
        },
        {
         "boxpoints": false,
         "fillcolor": "rgba(0, 0, 0, 0)",
         "jitter": 0,
         "line": {
          "color": "blue",
          "width": 1
         },
         "marker": {
          "size": 0
         },
         "name": "Box 12",
         "showlegend": false,
         "type": "box",
         "y": [
          -1.0533646564684704,
          -1.1633910788428552,
          -1.2826881107764752,
          -1.1454793106029242,
          -0.872571035867671
         ]
        },
        {
         "line": {
          "color": "black",
          "dash": "dash",
          "width": 1.5
         },
         "mode": "lines",
         "showlegend": false,
         "type": "scatter",
         "x": [
          "Box 1",
          "Box 2",
          "Box 3"
         ],
         "y": [
          -0.08547882462924036,
          -0.14924134497166483,
          -0.4473277442376516
         ]
        },
        {
         "line": {
          "color": "black",
          "dash": "dash",
          "width": 1.5
         },
         "mode": "lines",
         "showlegend": false,
         "type": "scatter",
         "x": [
          "Box 4",
          "Box 5",
          "Box 6"
         ],
         "y": [
          -0.2531208973390481,
          -0.25099714531313794,
          -0.22845379378698077
         ]
        },
        {
         "line": {
          "color": "black",
          "dash": "dash",
          "width": 1.5
         },
         "mode": "lines",
         "showlegend": false,
         "type": "scatter",
         "x": [
          "Box 7",
          "Box 8",
          "Box 9"
         ],
         "y": [
          -0.052010306824037685,
          -0.1298285198455761,
          -0.2585182753399189
         ]
        },
        {
         "line": {
          "color": "black",
          "dash": "dash",
          "width": 1.5
         },
         "mode": "lines",
         "showlegend": false,
         "type": "scatter",
         "x": [
          "Box 10",
          "Box 11",
          "Box 12"
         ],
         "y": [
          0.058372571460326476,
          -1.193036257573075,
          -1.1454793106029242
         ]
        }
       ],
       "layout": {
        "height": 800,
        "showlegend": false,
        "template": {
         "data": {
          "bar": [
           {
            "error_x": {
             "color": "#2a3f5f"
            },
            "error_y": {
             "color": "#2a3f5f"
            },
            "marker": {
             "line": {
              "color": "white",
              "width": 0.5
             },
             "pattern": {
              "fillmode": "overlay",
              "size": 10,
              "solidity": 0.2
             }
            },
            "type": "bar"
           }
          ],
          "barpolar": [
           {
            "marker": {
             "line": {
              "color": "white",
              "width": 0.5
             },
             "pattern": {
              "fillmode": "overlay",
              "size": 10,
              "solidity": 0.2
             }
            },
            "type": "barpolar"
           }
          ],
          "carpet": [
           {
            "aaxis": {
             "endlinecolor": "#2a3f5f",
             "gridcolor": "#C8D4E3",
             "linecolor": "#C8D4E3",
             "minorgridcolor": "#C8D4E3",
             "startlinecolor": "#2a3f5f"
            },
            "baxis": {
             "endlinecolor": "#2a3f5f",
             "gridcolor": "#C8D4E3",
             "linecolor": "#C8D4E3",
             "minorgridcolor": "#C8D4E3",
             "startlinecolor": "#2a3f5f"
            },
            "type": "carpet"
           }
          ],
          "choropleth": [
           {
            "colorbar": {
             "outlinewidth": 0,
             "ticks": ""
            },
            "type": "choropleth"
           }
          ],
          "contour": [
           {
            "colorbar": {
             "outlinewidth": 0,
             "ticks": ""
            },
            "colorscale": [
             [
              0,
              "#0d0887"
             ],
             [
              0.1111111111111111,
              "#46039f"
             ],
             [
              0.2222222222222222,
              "#7201a8"
             ],
             [
              0.3333333333333333,
              "#9c179e"
             ],
             [
              0.4444444444444444,
              "#bd3786"
             ],
             [
              0.5555555555555556,
              "#d8576b"
             ],
             [
              0.6666666666666666,
              "#ed7953"
             ],
             [
              0.7777777777777778,
              "#fb9f3a"
             ],
             [
              0.8888888888888888,
              "#fdca26"
             ],
             [
              1,
              "#f0f921"
             ]
            ],
            "type": "contour"
           }
          ],
          "contourcarpet": [
           {
            "colorbar": {
             "outlinewidth": 0,
             "ticks": ""
            },
            "type": "contourcarpet"
           }
          ],
          "heatmap": [
           {
            "colorbar": {
             "outlinewidth": 0,
             "ticks": ""
            },
            "colorscale": [
             [
              0,
              "#0d0887"
             ],
             [
              0.1111111111111111,
              "#46039f"
             ],
             [
              0.2222222222222222,
              "#7201a8"
             ],
             [
              0.3333333333333333,
              "#9c179e"
             ],
             [
              0.4444444444444444,
              "#bd3786"
             ],
             [
              0.5555555555555556,
              "#d8576b"
             ],
             [
              0.6666666666666666,
              "#ed7953"
             ],
             [
              0.7777777777777778,
              "#fb9f3a"
             ],
             [
              0.8888888888888888,
              "#fdca26"
             ],
             [
              1,
              "#f0f921"
             ]
            ],
            "type": "heatmap"
           }
          ],
          "heatmapgl": [
           {
            "colorbar": {
             "outlinewidth": 0,
             "ticks": ""
            },
            "colorscale": [
             [
              0,
              "#0d0887"
             ],
             [
              0.1111111111111111,
              "#46039f"
             ],
             [
              0.2222222222222222,
              "#7201a8"
             ],
             [
              0.3333333333333333,
              "#9c179e"
             ],
             [
              0.4444444444444444,
              "#bd3786"
             ],
             [
              0.5555555555555556,
              "#d8576b"
             ],
             [
              0.6666666666666666,
              "#ed7953"
             ],
             [
              0.7777777777777778,
              "#fb9f3a"
             ],
             [
              0.8888888888888888,
              "#fdca26"
             ],
             [
              1,
              "#f0f921"
             ]
            ],
            "type": "heatmapgl"
           }
          ],
          "histogram": [
           {
            "marker": {
             "pattern": {
              "fillmode": "overlay",
              "size": 10,
              "solidity": 0.2
             }
            },
            "type": "histogram"
           }
          ],
          "histogram2d": [
           {
            "colorbar": {
             "outlinewidth": 0,
             "ticks": ""
            },
            "colorscale": [
             [
              0,
              "#0d0887"
             ],
             [
              0.1111111111111111,
              "#46039f"
             ],
             [
              0.2222222222222222,
              "#7201a8"
             ],
             [
              0.3333333333333333,
              "#9c179e"
             ],
             [
              0.4444444444444444,
              "#bd3786"
             ],
             [
              0.5555555555555556,
              "#d8576b"
             ],
             [
              0.6666666666666666,
              "#ed7953"
             ],
             [
              0.7777777777777778,
              "#fb9f3a"
             ],
             [
              0.8888888888888888,
              "#fdca26"
             ],
             [
              1,
              "#f0f921"
             ]
            ],
            "type": "histogram2d"
           }
          ],
          "histogram2dcontour": [
           {
            "colorbar": {
             "outlinewidth": 0,
             "ticks": ""
            },
            "colorscale": [
             [
              0,
              "#0d0887"
             ],
             [
              0.1111111111111111,
              "#46039f"
             ],
             [
              0.2222222222222222,
              "#7201a8"
             ],
             [
              0.3333333333333333,
              "#9c179e"
             ],
             [
              0.4444444444444444,
              "#bd3786"
             ],
             [
              0.5555555555555556,
              "#d8576b"
             ],
             [
              0.6666666666666666,
              "#ed7953"
             ],
             [
              0.7777777777777778,
              "#fb9f3a"
             ],
             [
              0.8888888888888888,
              "#fdca26"
             ],
             [
              1,
              "#f0f921"
             ]
            ],
            "type": "histogram2dcontour"
           }
          ],
          "mesh3d": [
           {
            "colorbar": {
             "outlinewidth": 0,
             "ticks": ""
            },
            "type": "mesh3d"
           }
          ],
          "parcoords": [
           {
            "line": {
             "colorbar": {
              "outlinewidth": 0,
              "ticks": ""
             }
            },
            "type": "parcoords"
           }
          ],
          "pie": [
           {
            "automargin": true,
            "type": "pie"
           }
          ],
          "scatter": [
           {
            "fillpattern": {
             "fillmode": "overlay",
             "size": 10,
             "solidity": 0.2
            },
            "type": "scatter"
           }
          ],
          "scatter3d": [
           {
            "line": {
             "colorbar": {
              "outlinewidth": 0,
              "ticks": ""
             }
            },
            "marker": {
             "colorbar": {
              "outlinewidth": 0,
              "ticks": ""
             }
            },
            "type": "scatter3d"
           }
          ],
          "scattercarpet": [
           {
            "marker": {
             "colorbar": {
              "outlinewidth": 0,
              "ticks": ""
             }
            },
            "type": "scattercarpet"
           }
          ],
          "scattergeo": [
           {
            "marker": {
             "colorbar": {
              "outlinewidth": 0,
              "ticks": ""
             }
            },
            "type": "scattergeo"
           }
          ],
          "scattergl": [
           {
            "marker": {
             "colorbar": {
              "outlinewidth": 0,
              "ticks": ""
             }
            },
            "type": "scattergl"
           }
          ],
          "scattermapbox": [
           {
            "marker": {
             "colorbar": {
              "outlinewidth": 0,
              "ticks": ""
             }
            },
            "type": "scattermapbox"
           }
          ],
          "scatterpolar": [
           {
            "marker": {
             "colorbar": {
              "outlinewidth": 0,
              "ticks": ""
             }
            },
            "type": "scatterpolar"
           }
          ],
          "scatterpolargl": [
           {
            "marker": {
             "colorbar": {
              "outlinewidth": 0,
              "ticks": ""
             }
            },
            "type": "scatterpolargl"
           }
          ],
          "scatterternary": [
           {
            "marker": {
             "colorbar": {
              "outlinewidth": 0,
              "ticks": ""
             }
            },
            "type": "scatterternary"
           }
          ],
          "surface": [
           {
            "colorbar": {
             "outlinewidth": 0,
             "ticks": ""
            },
            "colorscale": [
             [
              0,
              "#0d0887"
             ],
             [
              0.1111111111111111,
              "#46039f"
             ],
             [
              0.2222222222222222,
              "#7201a8"
             ],
             [
              0.3333333333333333,
              "#9c179e"
             ],
             [
              0.4444444444444444,
              "#bd3786"
             ],
             [
              0.5555555555555556,
              "#d8576b"
             ],
             [
              0.6666666666666666,
              "#ed7953"
             ],
             [
              0.7777777777777778,
              "#fb9f3a"
             ],
             [
              0.8888888888888888,
              "#fdca26"
             ],
             [
              1,
              "#f0f921"
             ]
            ],
            "type": "surface"
           }
          ],
          "table": [
           {
            "cells": {
             "fill": {
              "color": "#EBF0F8"
             },
             "line": {
              "color": "white"
             }
            },
            "header": {
             "fill": {
              "color": "#C8D4E3"
             },
             "line": {
              "color": "white"
             }
            },
            "type": "table"
           }
          ]
         },
         "layout": {
          "annotationdefaults": {
           "arrowcolor": "#2a3f5f",
           "arrowhead": 0,
           "arrowwidth": 1
          },
          "autotypenumbers": "strict",
          "coloraxis": {
           "colorbar": {
            "outlinewidth": 0,
            "ticks": ""
           }
          },
          "colorscale": {
           "diverging": [
            [
             0,
             "#8e0152"
            ],
            [
             0.1,
             "#c51b7d"
            ],
            [
             0.2,
             "#de77ae"
            ],
            [
             0.3,
             "#f1b6da"
            ],
            [
             0.4,
             "#fde0ef"
            ],
            [
             0.5,
             "#f7f7f7"
            ],
            [
             0.6,
             "#e6f5d0"
            ],
            [
             0.7,
             "#b8e186"
            ],
            [
             0.8,
             "#7fbc41"
            ],
            [
             0.9,
             "#4d9221"
            ],
            [
             1,
             "#276419"
            ]
           ],
           "sequential": [
            [
             0,
             "#0d0887"
            ],
            [
             0.1111111111111111,
             "#46039f"
            ],
            [
             0.2222222222222222,
             "#7201a8"
            ],
            [
             0.3333333333333333,
             "#9c179e"
            ],
            [
             0.4444444444444444,
             "#bd3786"
            ],
            [
             0.5555555555555556,
             "#d8576b"
            ],
            [
             0.6666666666666666,
             "#ed7953"
            ],
            [
             0.7777777777777778,
             "#fb9f3a"
            ],
            [
             0.8888888888888888,
             "#fdca26"
            ],
            [
             1,
             "#f0f921"
            ]
           ],
           "sequentialminus": [
            [
             0,
             "#0d0887"
            ],
            [
             0.1111111111111111,
             "#46039f"
            ],
            [
             0.2222222222222222,
             "#7201a8"
            ],
            [
             0.3333333333333333,
             "#9c179e"
            ],
            [
             0.4444444444444444,
             "#bd3786"
            ],
            [
             0.5555555555555556,
             "#d8576b"
            ],
            [
             0.6666666666666666,
             "#ed7953"
            ],
            [
             0.7777777777777778,
             "#fb9f3a"
            ],
            [
             0.8888888888888888,
             "#fdca26"
            ],
            [
             1,
             "#f0f921"
            ]
           ]
          },
          "colorway": [
           "#636efa",
           "#EF553B",
           "#00cc96",
           "#ab63fa",
           "#FFA15A",
           "#19d3f3",
           "#FF6692",
           "#B6E880",
           "#FF97FF",
           "#FECB52"
          ],
          "font": {
           "color": "#2a3f5f"
          },
          "geo": {
           "bgcolor": "white",
           "lakecolor": "white",
           "landcolor": "white",
           "showlakes": true,
           "showland": true,
           "subunitcolor": "#C8D4E3"
          },
          "hoverlabel": {
           "align": "left"
          },
          "hovermode": "closest",
          "mapbox": {
           "style": "light"
          },
          "paper_bgcolor": "white",
          "plot_bgcolor": "white",
          "polar": {
           "angularaxis": {
            "gridcolor": "#EBF0F8",
            "linecolor": "#EBF0F8",
            "ticks": ""
           },
           "bgcolor": "white",
           "radialaxis": {
            "gridcolor": "#EBF0F8",
            "linecolor": "#EBF0F8",
            "ticks": ""
           }
          },
          "scene": {
           "xaxis": {
            "backgroundcolor": "white",
            "gridcolor": "#DFE8F3",
            "gridwidth": 2,
            "linecolor": "#EBF0F8",
            "showbackground": true,
            "ticks": "",
            "zerolinecolor": "#EBF0F8"
           },
           "yaxis": {
            "backgroundcolor": "white",
            "gridcolor": "#DFE8F3",
            "gridwidth": 2,
            "linecolor": "#EBF0F8",
            "showbackground": true,
            "ticks": "",
            "zerolinecolor": "#EBF0F8"
           },
           "zaxis": {
            "backgroundcolor": "white",
            "gridcolor": "#DFE8F3",
            "gridwidth": 2,
            "linecolor": "#EBF0F8",
            "showbackground": true,
            "ticks": "",
            "zerolinecolor": "#EBF0F8"
           }
          },
          "shapedefaults": {
           "line": {
            "color": "#2a3f5f"
           }
          },
          "ternary": {
           "aaxis": {
            "gridcolor": "#DFE8F3",
            "linecolor": "#A2B1C6",
            "ticks": ""
           },
           "baxis": {
            "gridcolor": "#DFE8F3",
            "linecolor": "#A2B1C6",
            "ticks": ""
           },
           "bgcolor": "white",
           "caxis": {
            "gridcolor": "#DFE8F3",
            "linecolor": "#A2B1C6",
            "ticks": ""
           }
          },
          "title": {
           "x": 0.05
          },
          "xaxis": {
           "automargin": true,
           "gridcolor": "#EBF0F8",
           "linecolor": "#EBF0F8",
           "ticks": "",
           "title": {
            "standoff": 15
           },
           "zerolinecolor": "#EBF0F8",
           "zerolinewidth": 2
          },
          "yaxis": {
           "automargin": true,
           "gridcolor": "#EBF0F8",
           "linecolor": "#EBF0F8",
           "ticks": "",
           "title": {
            "standoff": 15
           },
           "zerolinecolor": "#EBF0F8",
           "zerolinewidth": 2
          }
         }
        },
        "title": {
         "text": "Box Plot SRC vs HPT"
        },
        "width": 1400,
        "xaxis": {
         "showticklabels": false
        },
        "yaxis": {
         "showticklabels": true,
         "title": {
          "text": "Z-Scores"
         }
        }
       }
      }
     },
     "metadata": {},
     "output_type": "display_data"
    },
    {
     "data": {
      "application/vnd.plotly.v1+json": {
       "config": {
        "plotlyServerURL": "https://plot.ly"
       },
       "data": [
        {
         "fill": "toself",
         "fillcolor": "rgba(255, 0, 0, 0.05)",
         "line": {
          "color": "red",
          "dash": "dash",
          "width": 0
         },
         "marker": {
          "color": "red",
          "opacity": 0.5,
          "size": 5
         },
         "mode": "markers",
         "name": "No Exo",
         "r": [
          0.20621574419313676,
          0.20317889181870305,
          -0.31539747090930187,
          0.16158151432849233,
          0.08547882462924036,
          -0.03397549665154579,
          -0.034562170869081275,
          -0.31719955267101607,
          -0.1890422420070806,
          -0.3465693807482621,
          -0.019578931132173003,
          -0.31719955267101557,
          -0.18904224200708017,
          -0.052010306824037685,
          0.15814849739667422,
          -0.1638149431039025,
          -0.1587262090310461,
          0.15928847892098283,
          -0.18449419541387133,
          -0.08331434339995913,
          -0.058372571460326476,
          0.09583071715990985,
          0.08038504024397243
         ],
         "theta": [
          "Step Time (s)",
          "Stride Time (s)",
          "Step Frequency (step/min)",
          "Swing Time (s)",
          "Stance Time (s)",
          "Step Length (mm)",
          "Stride Length (mm)",
          "Step Time Variability (%)",
          "Stride Time Variability (%)",
          "Swing Time Variability (%)",
          "Stance Time Variability (%)",
          "Step Length Variability (%)",
          "Stride Length Variability (%)",
          "Double Stance Time (s)",
          "Swing Time Percentage (GC %)",
          "Stance Time Percentage (GC %)",
          "Double Stance Time Percentage (GC %)",
          "Single Stance Time Percentage (GC %)",
          "Step Width (mm)",
          "COM ML GC Range (mm)",
          "COM ML Velocity (mm/s)",
          "COM ML GC RMS Acc (mm/s2)",
          "COM ML Linear Momentum (kg.m/s)"
         ],
         "type": "scatterpolar"
        },
        {
         "fill": "toself",
         "fillcolor": "rgba(0, 128, 0, 0.15)",
         "line": {
          "color": "green",
          "width": 0
         },
         "marker": {
          "color": "green",
          "opacity": 0.5,
          "size": 5
         },
         "mode": "markers",
         "name": "HPT",
         "r": [
          0.3007142609240033,
          0.3070645314392449,
          -0.31539747090930187,
          0.2207967740696827,
          -0.08298995609731889,
          0.14924134497166483,
          0.14806420012833452,
          -0.31437249789789456,
          -0.09959405723762715,
          -0.274570245918666,
          -0.22742404470760985,
          -0.314372497897893,
          -0.09959405723762713,
          -0.27460195009896077,
          0.129546679544093,
          -0.13417004009530284,
          -0.1298285198455761,
          0.12927480076803097,
          1.193036257573075,
          1.172804243498093,
          1.4377822817446355,
          1.3945642329395882,
          0.7874787108729642
         ],
         "theta": [
          "Step Time (s)",
          "Stride Time (s)",
          "Step Frequency (step/min)",
          "Swing Time (s)",
          "Stance Time (s)",
          "Step Length (mm)",
          "Stride Length (mm)",
          "Step Time Variability (%)",
          "Stride Time Variability (%)",
          "Swing Time Variability (%)",
          "Stance Time Variability (%)",
          "Step Length Variability (%)",
          "Stride Length Variability (%)",
          "Double Stance Time (s)",
          "Swing Time Percentage (GC %)",
          "Stance Time Percentage (GC %)",
          "Double Stance Time Percentage (GC %)",
          "Single Stance Time Percentage (GC %)",
          "Step Width (mm)",
          "COM ML GC Range (mm)",
          "COM ML Velocity (mm/s)",
          "COM ML GC RMS Acc (mm/s2)",
          "COM ML Linear Momentum (kg.m/s)"
         ],
         "type": "scatterpolar"
        },
        {
         "fill": "toself",
         "fillcolor": "rgba(0, 0, 255, 0.15)",
         "line": {
          "color": "blue",
          "width": 0
         },
         "marker": {
          "color": "blue",
          "opacity": 0.5,
          "size": 5
         },
         "mode": "markers",
         "name": "SRC",
         "r": [
          0.6263543867602351,
          0.6277275020697946,
          -0.5759432077474196,
          0.47609269196957144,
          0.4473277442376516,
          0.44653833947048927,
          0.4463730399533685,
          -0.3068914856717876,
          -0.09156923647613369,
          -0.17424236241610175,
          -0.2826652251578598,
          -0.30689148567178814,
          -0.09156923647613367,
          -0.2585182753399189,
          0.2941511098148219,
          -0.2836971552767547,
          -0.28979683167278697,
          0.29661136248518255,
          1.0533646564684704,
          1.1633910788428552,
          1.2826881107764752,
          1.1454793106029242,
          0.872571035867671
         ],
         "theta": [
          "Step Time (s)",
          "Stride Time (s)",
          "Step Frequency (step/min)",
          "Swing Time (s)",
          "Stance Time (s)",
          "Step Length (mm)",
          "Stride Length (mm)",
          "Step Time Variability (%)",
          "Stride Time Variability (%)",
          "Swing Time Variability (%)",
          "Stance Time Variability (%)",
          "Step Length Variability (%)",
          "Stride Length Variability (%)",
          "Double Stance Time (s)",
          "Swing Time Percentage (GC %)",
          "Stance Time Percentage (GC %)",
          "Double Stance Time Percentage (GC %)",
          "Single Stance Time Percentage (GC %)",
          "Step Width (mm)",
          "COM ML GC Range (mm)",
          "COM ML Velocity (mm/s)",
          "COM ML GC RMS Acc (mm/s2)",
          "COM ML Linear Momentum (kg.m/s)"
         ],
         "type": "scatterpolar"
        }
       ],
       "layout": {
        "height": 1300,
        "polar": {
         "radialaxis": {
          "range": [
           -0.5,
           1.5
          ],
          "visible": true
         }
        },
        "showlegend": false,
        "template": {
         "data": {
          "bar": [
           {
            "error_x": {
             "color": "#2a3f5f"
            },
            "error_y": {
             "color": "#2a3f5f"
            },
            "marker": {
             "line": {
              "color": "white",
              "width": 0.5
             },
             "pattern": {
              "fillmode": "overlay",
              "size": 10,
              "solidity": 0.2
             }
            },
            "type": "bar"
           }
          ],
          "barpolar": [
           {
            "marker": {
             "line": {
              "color": "white",
              "width": 0.5
             },
             "pattern": {
              "fillmode": "overlay",
              "size": 10,
              "solidity": 0.2
             }
            },
            "type": "barpolar"
           }
          ],
          "carpet": [
           {
            "aaxis": {
             "endlinecolor": "#2a3f5f",
             "gridcolor": "#C8D4E3",
             "linecolor": "#C8D4E3",
             "minorgridcolor": "#C8D4E3",
             "startlinecolor": "#2a3f5f"
            },
            "baxis": {
             "endlinecolor": "#2a3f5f",
             "gridcolor": "#C8D4E3",
             "linecolor": "#C8D4E3",
             "minorgridcolor": "#C8D4E3",
             "startlinecolor": "#2a3f5f"
            },
            "type": "carpet"
           }
          ],
          "choropleth": [
           {
            "colorbar": {
             "outlinewidth": 0,
             "ticks": ""
            },
            "type": "choropleth"
           }
          ],
          "contour": [
           {
            "colorbar": {
             "outlinewidth": 0,
             "ticks": ""
            },
            "colorscale": [
             [
              0,
              "#0d0887"
             ],
             [
              0.1111111111111111,
              "#46039f"
             ],
             [
              0.2222222222222222,
              "#7201a8"
             ],
             [
              0.3333333333333333,
              "#9c179e"
             ],
             [
              0.4444444444444444,
              "#bd3786"
             ],
             [
              0.5555555555555556,
              "#d8576b"
             ],
             [
              0.6666666666666666,
              "#ed7953"
             ],
             [
              0.7777777777777778,
              "#fb9f3a"
             ],
             [
              0.8888888888888888,
              "#fdca26"
             ],
             [
              1,
              "#f0f921"
             ]
            ],
            "type": "contour"
           }
          ],
          "contourcarpet": [
           {
            "colorbar": {
             "outlinewidth": 0,
             "ticks": ""
            },
            "type": "contourcarpet"
           }
          ],
          "heatmap": [
           {
            "colorbar": {
             "outlinewidth": 0,
             "ticks": ""
            },
            "colorscale": [
             [
              0,
              "#0d0887"
             ],
             [
              0.1111111111111111,
              "#46039f"
             ],
             [
              0.2222222222222222,
              "#7201a8"
             ],
             [
              0.3333333333333333,
              "#9c179e"
             ],
             [
              0.4444444444444444,
              "#bd3786"
             ],
             [
              0.5555555555555556,
              "#d8576b"
             ],
             [
              0.6666666666666666,
              "#ed7953"
             ],
             [
              0.7777777777777778,
              "#fb9f3a"
             ],
             [
              0.8888888888888888,
              "#fdca26"
             ],
             [
              1,
              "#f0f921"
             ]
            ],
            "type": "heatmap"
           }
          ],
          "heatmapgl": [
           {
            "colorbar": {
             "outlinewidth": 0,
             "ticks": ""
            },
            "colorscale": [
             [
              0,
              "#0d0887"
             ],
             [
              0.1111111111111111,
              "#46039f"
             ],
             [
              0.2222222222222222,
              "#7201a8"
             ],
             [
              0.3333333333333333,
              "#9c179e"
             ],
             [
              0.4444444444444444,
              "#bd3786"
             ],
             [
              0.5555555555555556,
              "#d8576b"
             ],
             [
              0.6666666666666666,
              "#ed7953"
             ],
             [
              0.7777777777777778,
              "#fb9f3a"
             ],
             [
              0.8888888888888888,
              "#fdca26"
             ],
             [
              1,
              "#f0f921"
             ]
            ],
            "type": "heatmapgl"
           }
          ],
          "histogram": [
           {
            "marker": {
             "pattern": {
              "fillmode": "overlay",
              "size": 10,
              "solidity": 0.2
             }
            },
            "type": "histogram"
           }
          ],
          "histogram2d": [
           {
            "colorbar": {
             "outlinewidth": 0,
             "ticks": ""
            },
            "colorscale": [
             [
              0,
              "#0d0887"
             ],
             [
              0.1111111111111111,
              "#46039f"
             ],
             [
              0.2222222222222222,
              "#7201a8"
             ],
             [
              0.3333333333333333,
              "#9c179e"
             ],
             [
              0.4444444444444444,
              "#bd3786"
             ],
             [
              0.5555555555555556,
              "#d8576b"
             ],
             [
              0.6666666666666666,
              "#ed7953"
             ],
             [
              0.7777777777777778,
              "#fb9f3a"
             ],
             [
              0.8888888888888888,
              "#fdca26"
             ],
             [
              1,
              "#f0f921"
             ]
            ],
            "type": "histogram2d"
           }
          ],
          "histogram2dcontour": [
           {
            "colorbar": {
             "outlinewidth": 0,
             "ticks": ""
            },
            "colorscale": [
             [
              0,
              "#0d0887"
             ],
             [
              0.1111111111111111,
              "#46039f"
             ],
             [
              0.2222222222222222,
              "#7201a8"
             ],
             [
              0.3333333333333333,
              "#9c179e"
             ],
             [
              0.4444444444444444,
              "#bd3786"
             ],
             [
              0.5555555555555556,
              "#d8576b"
             ],
             [
              0.6666666666666666,
              "#ed7953"
             ],
             [
              0.7777777777777778,
              "#fb9f3a"
             ],
             [
              0.8888888888888888,
              "#fdca26"
             ],
             [
              1,
              "#f0f921"
             ]
            ],
            "type": "histogram2dcontour"
           }
          ],
          "mesh3d": [
           {
            "colorbar": {
             "outlinewidth": 0,
             "ticks": ""
            },
            "type": "mesh3d"
           }
          ],
          "parcoords": [
           {
            "line": {
             "colorbar": {
              "outlinewidth": 0,
              "ticks": ""
             }
            },
            "type": "parcoords"
           }
          ],
          "pie": [
           {
            "automargin": true,
            "type": "pie"
           }
          ],
          "scatter": [
           {
            "fillpattern": {
             "fillmode": "overlay",
             "size": 10,
             "solidity": 0.2
            },
            "type": "scatter"
           }
          ],
          "scatter3d": [
           {
            "line": {
             "colorbar": {
              "outlinewidth": 0,
              "ticks": ""
             }
            },
            "marker": {
             "colorbar": {
              "outlinewidth": 0,
              "ticks": ""
             }
            },
            "type": "scatter3d"
           }
          ],
          "scattercarpet": [
           {
            "marker": {
             "colorbar": {
              "outlinewidth": 0,
              "ticks": ""
             }
            },
            "type": "scattercarpet"
           }
          ],
          "scattergeo": [
           {
            "marker": {
             "colorbar": {
              "outlinewidth": 0,
              "ticks": ""
             }
            },
            "type": "scattergeo"
           }
          ],
          "scattergl": [
           {
            "marker": {
             "colorbar": {
              "outlinewidth": 0,
              "ticks": ""
             }
            },
            "type": "scattergl"
           }
          ],
          "scattermapbox": [
           {
            "marker": {
             "colorbar": {
              "outlinewidth": 0,
              "ticks": ""
             }
            },
            "type": "scattermapbox"
           }
          ],
          "scatterpolar": [
           {
            "marker": {
             "colorbar": {
              "outlinewidth": 0,
              "ticks": ""
             }
            },
            "type": "scatterpolar"
           }
          ],
          "scatterpolargl": [
           {
            "marker": {
             "colorbar": {
              "outlinewidth": 0,
              "ticks": ""
             }
            },
            "type": "scatterpolargl"
           }
          ],
          "scatterternary": [
           {
            "marker": {
             "colorbar": {
              "outlinewidth": 0,
              "ticks": ""
             }
            },
            "type": "scatterternary"
           }
          ],
          "surface": [
           {
            "colorbar": {
             "outlinewidth": 0,
             "ticks": ""
            },
            "colorscale": [
             [
              0,
              "#0d0887"
             ],
             [
              0.1111111111111111,
              "#46039f"
             ],
             [
              0.2222222222222222,
              "#7201a8"
             ],
             [
              0.3333333333333333,
              "#9c179e"
             ],
             [
              0.4444444444444444,
              "#bd3786"
             ],
             [
              0.5555555555555556,
              "#d8576b"
             ],
             [
              0.6666666666666666,
              "#ed7953"
             ],
             [
              0.7777777777777778,
              "#fb9f3a"
             ],
             [
              0.8888888888888888,
              "#fdca26"
             ],
             [
              1,
              "#f0f921"
             ]
            ],
            "type": "surface"
           }
          ],
          "table": [
           {
            "cells": {
             "fill": {
              "color": "#EBF0F8"
             },
             "line": {
              "color": "white"
             }
            },
            "header": {
             "fill": {
              "color": "#C8D4E3"
             },
             "line": {
              "color": "white"
             }
            },
            "type": "table"
           }
          ]
         },
         "layout": {
          "annotationdefaults": {
           "arrowcolor": "#2a3f5f",
           "arrowhead": 0,
           "arrowwidth": 1
          },
          "autotypenumbers": "strict",
          "coloraxis": {
           "colorbar": {
            "outlinewidth": 0,
            "ticks": ""
           }
          },
          "colorscale": {
           "diverging": [
            [
             0,
             "#8e0152"
            ],
            [
             0.1,
             "#c51b7d"
            ],
            [
             0.2,
             "#de77ae"
            ],
            [
             0.3,
             "#f1b6da"
            ],
            [
             0.4,
             "#fde0ef"
            ],
            [
             0.5,
             "#f7f7f7"
            ],
            [
             0.6,
             "#e6f5d0"
            ],
            [
             0.7,
             "#b8e186"
            ],
            [
             0.8,
             "#7fbc41"
            ],
            [
             0.9,
             "#4d9221"
            ],
            [
             1,
             "#276419"
            ]
           ],
           "sequential": [
            [
             0,
             "#0d0887"
            ],
            [
             0.1111111111111111,
             "#46039f"
            ],
            [
             0.2222222222222222,
             "#7201a8"
            ],
            [
             0.3333333333333333,
             "#9c179e"
            ],
            [
             0.4444444444444444,
             "#bd3786"
            ],
            [
             0.5555555555555556,
             "#d8576b"
            ],
            [
             0.6666666666666666,
             "#ed7953"
            ],
            [
             0.7777777777777778,
             "#fb9f3a"
            ],
            [
             0.8888888888888888,
             "#fdca26"
            ],
            [
             1,
             "#f0f921"
            ]
           ],
           "sequentialminus": [
            [
             0,
             "#0d0887"
            ],
            [
             0.1111111111111111,
             "#46039f"
            ],
            [
             0.2222222222222222,
             "#7201a8"
            ],
            [
             0.3333333333333333,
             "#9c179e"
            ],
            [
             0.4444444444444444,
             "#bd3786"
            ],
            [
             0.5555555555555556,
             "#d8576b"
            ],
            [
             0.6666666666666666,
             "#ed7953"
            ],
            [
             0.7777777777777778,
             "#fb9f3a"
            ],
            [
             0.8888888888888888,
             "#fdca26"
            ],
            [
             1,
             "#f0f921"
            ]
           ]
          },
          "colorway": [
           "#636efa",
           "#EF553B",
           "#00cc96",
           "#ab63fa",
           "#FFA15A",
           "#19d3f3",
           "#FF6692",
           "#B6E880",
           "#FF97FF",
           "#FECB52"
          ],
          "font": {
           "color": "#2a3f5f"
          },
          "geo": {
           "bgcolor": "white",
           "lakecolor": "white",
           "landcolor": "white",
           "showlakes": true,
           "showland": true,
           "subunitcolor": "#C8D4E3"
          },
          "hoverlabel": {
           "align": "left"
          },
          "hovermode": "closest",
          "mapbox": {
           "style": "light"
          },
          "paper_bgcolor": "white",
          "plot_bgcolor": "white",
          "polar": {
           "angularaxis": {
            "gridcolor": "#EBF0F8",
            "linecolor": "#EBF0F8",
            "ticks": ""
           },
           "bgcolor": "white",
           "radialaxis": {
            "gridcolor": "#EBF0F8",
            "linecolor": "#EBF0F8",
            "ticks": ""
           }
          },
          "scene": {
           "xaxis": {
            "backgroundcolor": "white",
            "gridcolor": "#DFE8F3",
            "gridwidth": 2,
            "linecolor": "#EBF0F8",
            "showbackground": true,
            "ticks": "",
            "zerolinecolor": "#EBF0F8"
           },
           "yaxis": {
            "backgroundcolor": "white",
            "gridcolor": "#DFE8F3",
            "gridwidth": 2,
            "linecolor": "#EBF0F8",
            "showbackground": true,
            "ticks": "",
            "zerolinecolor": "#EBF0F8"
           },
           "zaxis": {
            "backgroundcolor": "white",
            "gridcolor": "#DFE8F3",
            "gridwidth": 2,
            "linecolor": "#EBF0F8",
            "showbackground": true,
            "ticks": "",
            "zerolinecolor": "#EBF0F8"
           }
          },
          "shapedefaults": {
           "line": {
            "color": "#2a3f5f"
           }
          },
          "ternary": {
           "aaxis": {
            "gridcolor": "#DFE8F3",
            "linecolor": "#A2B1C6",
            "ticks": ""
           },
           "baxis": {
            "gridcolor": "#DFE8F3",
            "linecolor": "#A2B1C6",
            "ticks": ""
           },
           "bgcolor": "white",
           "caxis": {
            "gridcolor": "#DFE8F3",
            "linecolor": "#A2B1C6",
            "ticks": ""
           }
          },
          "title": {
           "x": 0.05
          },
          "xaxis": {
           "automargin": true,
           "gridcolor": "#EBF0F8",
           "linecolor": "#EBF0F8",
           "ticks": "",
           "title": {
            "standoff": 15
           },
           "zerolinecolor": "#EBF0F8",
           "zerolinewidth": 2
          },
          "yaxis": {
           "automargin": true,
           "gridcolor": "#EBF0F8",
           "linecolor": "#EBF0F8",
           "ticks": "",
           "title": {
            "standoff": 15
           },
           "zerolinecolor": "#EBF0F8",
           "zerolinewidth": 2
          }
         }
        },
        "width": 1600
       }
      }
     },
     "metadata": {},
     "output_type": "display_data"
    }
   ],
   "source": [
    "# Normalization for radar and boxplots\n",
    "\n",
    "\n",
    "\n",
    "#SRCvsHPT\n",
    "\n",
    "no_exostat = no_exostat[['mean_step_time (s)',\n",
    " 'mean_stride_time (s)',\n",
    " 'cadence (step/min)',\n",
    " 'mean_swing_time (s)',\n",
    " 'mean_stance_time (s)',\n",
    " 'mean_step_length (mm)',\n",
    " 'mean_stride_length (mm)',\n",
    " 'cov_step_time (%)',\n",
    " 'cov_stride_time (%)',\n",
    " 'cov_swing_time (%)',\n",
    " 'cov_stance_time (%)',\n",
    " 'cov_step_length (%)',\n",
    " 'cov_stride_length (%)',\n",
    " 'mean_ds_time (s)',\n",
    " 'swing_time_perctg (%)',\n",
    " 'stance_time_perctg (%)',\n",
    " 'ds_time_perctg (%)',\n",
    " 'ss_time_perctg (%)',\n",
    " 'mean_step_width (mm)',\n",
    " 'mean_GC_range_ML (mm)',\n",
    " 'mean_vel_ML (mm/s)',\n",
    " 'mean_GC_rms_acc_ML (mm/s2)',\n",
    " 'linear_momentum_ML (kg.m/s)']]\n",
    "no_exostat.columns = ['Step Time (s)',\n",
    " 'Stride Time (s)',\n",
    " 'Step Frequency (step/min)',\n",
    " 'Swing Time (s)',\n",
    " 'Stance Time (s)',\n",
    " 'Step Length (mm)',\n",
    " 'Stride Length (mm)',\n",
    " 'Step Time Variability (%)',\n",
    " 'Stride Time Variability (%)',\n",
    " 'Swing Time Variability (%)',\n",
    " 'Stance Time Variability (%)',\n",
    " 'Step Length Variability (%)',\n",
    " 'Stride Length Variability (%)',\n",
    " 'Double Stance Time (s)',\n",
    " 'Swing Time Percentage (GC %)',\n",
    " 'Stance Time Percentage (GC %)',\n",
    " 'Double Stance Time Percentage (GC %)',\n",
    " 'Single Stance Time Percentage (GC %)',\n",
    " 'Step Width (mm)',\n",
    " 'COM ML GC Range (mm)',\n",
    " 'COM ML Velocity (mm/s)',\n",
    " 'COM ML GC RMS Acc (mm/s2)',\n",
    " 'COM ML Linear Momentum (kg.m/s)']\n",
    "\n",
    "\n",
    "\n",
    "# normalizing features into z scores\n",
    "no_exostat_norm = (no_exostat - no_exostat.mean(axis=0))/no_exostat.std(axis=0)\n",
    "\n",
    "SRCstat  = SRCstat[['mean_step_time (s)',\n",
    " 'mean_stride_time (s)',\n",
    " 'cadence (step/min)',\n",
    " 'mean_swing_time (s)',\n",
    " 'mean_stance_time (s)',\n",
    " 'mean_step_length (mm)',\n",
    " 'mean_stride_length (mm)',\n",
    " 'cov_step_time (%)',\n",
    " 'cov_stride_time (%)',\n",
    " 'cov_swing_time (%)',\n",
    " 'cov_stance_time (%)',\n",
    " 'cov_step_length (%)',\n",
    " 'cov_stride_length (%)',\n",
    " 'mean_ds_time (s)',\n",
    " 'swing_time_perctg (%)',\n",
    " 'stance_time_perctg (%)',\n",
    " 'ds_time_perctg (%)',\n",
    " 'ss_time_perctg (%)',\n",
    " 'mean_step_width (mm)',\n",
    " 'mean_GC_range_ML (mm)',\n",
    " 'mean_vel_ML (mm/s)',\n",
    " 'mean_GC_rms_acc_ML (mm/s2)',\n",
    " 'linear_momentum_ML (kg.m/s)']]\n",
    "SRCstat.columns = ['Step Time (s)',\n",
    " 'Stride Time (s)',\n",
    " 'Step Frequency (step/min)',\n",
    " 'Swing Time (s)',\n",
    " 'Stance Time (s)',\n",
    " 'Step Length (mm)',\n",
    " 'Stride Length (mm)',\n",
    " 'Step Time Variability (%)',\n",
    " 'Stride Time Variability (%)',\n",
    " 'Swing Time Variability (%)',\n",
    " 'Stance Time Variability (%)',\n",
    " 'Step Length Variability (%)',\n",
    " 'Stride Length Variability (%)',\n",
    " 'Double Stance Time (s)',\n",
    " 'Swing Time Percentage (GC %)',\n",
    " 'Stance Time Percentage (GC %)',\n",
    " 'Double Stance Time Percentage (GC %)',\n",
    " 'Single Stance Time Percentage (GC %)',\n",
    " 'Step Width (mm)',\n",
    " 'COM ML GC Range (mm)',\n",
    " 'COM ML Velocity (mm/s)',\n",
    " 'COM ML GC RMS Acc (mm/s2)',\n",
    " 'COM ML Linear Momentum (kg.m/s)']\n",
    "\n",
    "\n",
    "\n",
    "# normalizing features into z scores\n",
    "SRCstat_norm = (SRCstat - no_exostat.mean(axis=0))/no_exostat.std(axis=0)\n",
    "\n",
    "\n",
    "HPTstat  = HPTstat[['mean_step_time (s)',\n",
    " 'mean_stride_time (s)',\n",
    " 'cadence (step/min)',\n",
    " 'mean_swing_time (s)',\n",
    " 'mean_stance_time (s)',\n",
    " 'mean_step_length (mm)',\n",
    " 'mean_stride_length (mm)',\n",
    " 'cov_step_time (%)',\n",
    " 'cov_stride_time (%)',\n",
    " 'cov_swing_time (%)',\n",
    " 'cov_stance_time (%)',\n",
    " 'cov_step_length (%)',\n",
    " 'cov_stride_length (%)',\n",
    " 'mean_ds_time (s)',\n",
    " 'swing_time_perctg (%)',\n",
    " 'stance_time_perctg (%)',\n",
    " 'ds_time_perctg (%)',\n",
    " 'ss_time_perctg (%)',\n",
    " 'mean_step_width (mm)',\n",
    " 'mean_GC_range_ML (mm)',\n",
    " 'mean_vel_ML (mm/s)',\n",
    " 'mean_GC_rms_acc_ML (mm/s2)',\n",
    " 'linear_momentum_ML (kg.m/s)']]\n",
    "HPTstat.columns = ['Step Time (s)',\n",
    " 'Stride Time (s)',\n",
    " 'Step Frequency (step/min)',\n",
    " 'Swing Time (s)',\n",
    " 'Stance Time (s)',\n",
    " 'Step Length (mm)',\n",
    " 'Stride Length (mm)',\n",
    " 'Step Time Variability (%)',\n",
    " 'Stride Time Variability (%)',\n",
    " 'Swing Time Variability (%)',\n",
    " 'Stance Time Variability (%)',\n",
    " 'Step Length Variability (%)',\n",
    " 'Stride Length Variability (%)',\n",
    " 'Double Stance Time (s)',\n",
    " 'Swing Time Percentage (GC %)',\n",
    " 'Stance Time Percentage (GC %)',\n",
    " 'Double Stance Time Percentage (GC %)',\n",
    " 'Single Stance Time Percentage (GC %)',\n",
    " 'Step Width (mm)',\n",
    " 'COM ML GC Range (mm)',\n",
    " 'COM ML Velocity (mm/s)',\n",
    " 'COM ML GC RMS Acc (mm/s2)',\n",
    " 'COM ML Linear Momentum (kg.m/s)']\n",
    "\n",
    "\n",
    "\n",
    "# normalizing features into z scores\n",
    "HPTstat_norm = (HPTstat - no_exostat.mean(axis=0))/no_exostat.std(axis=0)\n",
    "\n",
    "#get domain df\n",
    "rythm_no_exo = no_exostat_norm.iloc[:, 0:7]\n",
    "rythm_SRC = SRCstat_norm.iloc[:, 0:7]\n",
    "rythm_HPT = HPTstat_norm.iloc[:, 0:7]\n",
    "\n",
    "efficiency_no_exo = no_exostat_norm.iloc[:, 7:13]\n",
    "efficiency_SRC = SRCstat_norm.iloc[:, 7:13]\n",
    "efficiency_HPT = HPTstat_norm.iloc[:, 7:13]\n",
    "\n",
    "body_weight_support_no_exo = no_exostat_norm.iloc[:, 13:18]\n",
    "body_weight_support_SRC = SRCstat_norm.iloc[:, 13:18]\n",
    "body_weight_support_HPT = HPTstat_norm.iloc[:, 13:18]\n",
    "\n",
    "dynamic_stability_no_exo = no_exostat_norm.iloc[:, 18:23]\n",
    "dynamic_stability_SRC = SRCstat_norm.iloc[:, 18:23]\n",
    "dynamic_stability_HPT = HPTstat_norm.iloc[:, 18:23]\n",
    "\n",
    "#Get arrays for box plot (then will be used for radar by concatenaining by condition)\n",
    "rythm_no_exo_array = np.array(rythm_no_exo.median())\n",
    "bws_no_exo_array = np.array(body_weight_support_no_exo.median())\n",
    "efficiency_no_exo_array = np.array(efficiency_no_exo.median())\n",
    "stability_no_exo_array = np.array(dynamic_stability_no_exo.median())\n",
    "\n",
    "\n",
    "rythm_SRC_array = np.array(rythm_SRC.median())\n",
    "bws_SRC_array = np.array(body_weight_support_SRC.median())\n",
    "efficiency_SRC_array = np.array(efficiency_SRC.median())\n",
    "stability_SRC_array = np.array(dynamic_stability_SRC.median())\n",
    "\n",
    "\n",
    "rythm_HPT_array = np.array(rythm_HPT.median())\n",
    "bws_HPT_array = np.array(body_weight_support_HPT.median())\n",
    "efficiency_HPT_array = np.array(efficiency_HPT.median())\n",
    "stability_HPT_array = np.array(dynamic_stability_HPT.median())\n",
    "\n",
    "import plotly.graph_objects as go\n",
    "import numpy as np\n",
    "\n",
    "# Generate or use your existing arrays\n",
    "array1 = np.random.randn(100)\n",
    "array2 = np.random.randn(100)\n",
    "array3 = np.random.randn(100)\n",
    "array4 = np.random.randn(100)\n",
    "array5 = np.random.randn(100)\n",
    "array6 = np.random.randn(100)\n",
    "\n",
    "data = [-rythm_no_exo_array, -rythm_HPT_array, -rythm_SRC_array, efficiency_no_exo_array, efficiency_HPT_array, efficiency_SRC_array,\n",
    "bws_no_exo_array, bws_HPT_array, bws_SRC_array, -stability_no_exo_array, -stability_HPT_array, -stability_SRC_array]\n",
    "labels = ['Box 1', 'Box 2', 'Box 3', 'Box 4', 'Box 5', 'Box 6', 'Box 7', 'Box 8', 'Box 9', 'Box 10', 'Box 11', 'Box 12']\n",
    "\n",
    "# Define the colors for the boxes\n",
    "colors = ['red', 'green', 'blue', 'red', 'green', 'blue', 'red', 'green', 'blue', 'red', 'green', 'blue']\n",
    "\n",
    "traces = []\n",
    "for i in range(len(data)):\n",
    "    trace = go.Box(\n",
    "        y=data[i],\n",
    "        name=labels[i],\n",
    "        showlegend=False, \n",
    "        fillcolor='rgba(0, 0, 0, 0)',  # Make the box transparent\n",
    "        line=dict(color=colors[i], width=1),  # Set the border color and width\n",
    "    \n",
    "        marker=dict(size=0),  # Set marker size to 0\n",
    "        boxpoints=False,  # Disable individual data points\n",
    "        jitter=0  )# Set jitter to 0\n",
    "    traces.append(trace)\n",
    "\n",
    "# Calculate medians of the first three boxes\n",
    "medians = [np.median(i) for i in data]\n",
    "median1 = np.median(array1)\n",
    "median2 = np.median(array2)\n",
    "median3 = np.median(array3)\n",
    "\n",
    "# Calculate medians of the last three boxes\n",
    "median4 = np.median(array4)\n",
    "median5 = np.median(array5)\n",
    "median6 = np.median(array6)\n",
    "\n",
    "# Create dashed black lines connecting the medians\n",
    "traces.append(go.Scatter(x=labels[:3], y=medians[:3],\n",
    "                         mode='lines', showlegend=False,  line=dict(color='black', dash='dash', width = 1.5)))\n",
    "\n",
    "traces.append(go.Scatter(x=labels[3:6], y=medians[3:6],\n",
    "                         mode='lines', showlegend=False,  line=dict(color='black', dash='dash', width = 1.5)))\n",
    "\n",
    "traces.append(go.Scatter(x=labels[6:9], y=medians[6:9],\n",
    "                         mode='lines', showlegend=False,  line=dict(color='black', dash='dash', width = 1.5)))\n",
    "\n",
    "traces.append(go.Scatter(x=labels[9:12], y=medians[9:12],\n",
    "                         mode='lines', showlegend=False,  line=dict(color='black', dash='dash', width = 1.5)))\n",
    "\n",
    "layout = go.Layout(\n",
    "    title='Box Plot SRC vs HPT',\n",
    "    yaxis=dict(title='Z-Scores', showticklabels=True),\n",
    "    xaxis=dict(showticklabels=False)\n",
    ")\n",
    "\n",
    "fig = go.Figure(data=traces, layout=layout)\n",
    "\n",
    "fig.update_layout(template = 'plotly_white', height=800, width=1400, showlegend=False)\n",
    "# fig.update_yaxes(range = [-10*10**(-15),15*10**(-15)])\n",
    "\n",
    "fig.show()\n",
    "\n",
    "\n",
    "\n",
    "#Radar plot\n",
    "no_exo_array = np.concatenate((rythm_no_exo_array, efficiency_no_exo_array, bws_no_exo_array, stability_no_exo_array))\n",
    "HPT_array = np.concatenate((rythm_HPT_array, efficiency_HPT_array, bws_HPT_array, stability_HPT_array))\n",
    "SRC_array = np.concatenate((rythm_SRC_array, efficiency_SRC_array, bws_SRC_array, stability_SRC_array))\n",
    "# Define the columns for labeling\n",
    "categories = ['Step Time (s)', 'Stride Time (s)', 'Step Frequency (step/min)', 'Swing Time (s)', 'Stance Time (s)',\n",
    "           'Step Length (mm)', 'Stride Length (mm)', 'Step Time Variability (%)', 'Stride Time Variability (%)',\n",
    "           'Swing Time Variability (%)', 'Stance Time Variability (%)', 'Step Length Variability (%)',\n",
    "           'Stride Length Variability (%)', 'Double Stance Time (s)', 'Swing Time Percentage (GC %)',\n",
    "           'Stance Time Percentage (GC %)', 'Double Stance Time Percentage (GC %)',\n",
    "           'Single Stance Time Percentage (GC %)', 'Step Width (mm)', 'COM ML GC Range (mm)', 'COM ML Velocity (mm/s)',\n",
    "           'COM ML GC RMS Acc (mm/s2)', 'COM ML Linear Momentum (kg.m/s)']\n",
    "\n",
    "fig = go.Figure()\n",
    "\n",
    "fig.add_trace(go.Scatterpolar(\n",
    "      r=no_exo_array,\n",
    "      theta=categories,\n",
    "      mode='markers',  # Add markers for each data point\n",
    "      marker=dict(color='red', size=5, opacity = 0.5),  # Set the marker color and size\n",
    "      fill='toself',\n",
    "      name='No Exo',\n",
    "      fillcolor='rgba(255, 0, 0, 0.05)',\n",
    "      line=dict(color='red', dash='dash', width = 0)\n",
    "))\n",
    "fig.add_trace(go.Scatterpolar(\n",
    "      r=HPT_array,\n",
    "      theta=categories,\n",
    "      mode='markers',  # Add markers for each data point\n",
    "      marker=dict(color='green', size=5, opacity = 0.5),  # Set the marker color and size\n",
    "      fill='toself',\n",
    "      name='HPT',\n",
    "      fillcolor='rgba(0, 128, 0, 0.15)',\n",
    "      line=dict(color='green', width = 0)\n",
    "))\n",
    "fig.add_trace(go.Scatterpolar(\n",
    "      r=SRC_array,\n",
    "      theta=categories,\n",
    "      mode='markers',  # Add markers for each data point\n",
    "      marker=dict(color='blue', size=5, opacity = 0.5),  # Set the marker color and size\n",
    "      fill='toself',\n",
    "      name='SRC',\n",
    "      fillcolor='rgba(0, 0, 255, 0.15)',\n",
    "      line=dict(color='blue', width = 0)\n",
    "))\n",
    "\n",
    "fig.update_layout(\n",
    "  polar=dict(\n",
    "    radialaxis=dict(\n",
    "      visible=True,\n",
    "      range=[-0.5, 1.5]\n",
    "    )),\n",
    "  showlegend=False\n",
    ")\n",
    "fig.update_layout(template = 'plotly_white', height=1300, width=1600, showlegend=False)\n",
    "fig.show()\n",
    "\n"
   ]
  },
  {
   "cell_type": "code",
   "execution_count": 3526,
   "metadata": {},
   "outputs": [],
   "source": [
    "\n",
    "# # Calculate medians of the first three boxes\n",
    "# medians = [np.median(i) for i in data]\n",
    "# median1 = np.median(array1)\n",
    "# median2 = np.median(array2)\n",
    "# median3 = np.median(array3)\n",
    "\n",
    "# # Calculate medians of the last three boxes\n",
    "# median4 = np.median(array4)\n",
    "# median5 = np.median(array5)\n",
    "# median6 = np.median(array6)\n",
    "\n",
    "# # Create dashed black lines connecting the medians\n",
    "# traces.append(go.Scatter(x=labels[:3], y=medians[:3],\n",
    "#                          mode='lines', showlegend=False,  line=dict(color='black', dash='dash', width = 1.5)))\n",
    "\n",
    "# traces.append(go.Scatter(x=labels[3:6], y=medians[3:6],\n",
    "#                          mode='lines', showlegend=False,  line=dict(color='black', dash='dash', width = 1.5)))\n",
    "\n",
    "# traces.append(go.Scatter(x=labels[6:9], y=medians[6:9],\n",
    "#                          mode='lines', showlegend=False,  line=dict(color='black', dash='dash', width = 1.5)))\n",
    "\n",
    "# traces.append(go.Scatter(x=labels[9:12], y=medians[9:12],\n",
    "#                          mode='lines', showlegend=False,  line=dict(color='black', dash='dash', width = 1.5)))\n"
   ]
  },
  {
   "cell_type": "code",
   "execution_count": 3527,
   "metadata": {},
   "outputs": [
    {
     "data": {
      "application/vnd.plotly.v1+json": {
       "config": {
        "plotlyServerURL": "https://plot.ly"
       },
       "data": [
        {
         "boxpoints": false,
         "fillcolor": "rgba(0, 0, 0, 0)",
         "jitter": 0,
         "line": {
          "color": "red",
          "width": 1
         },
         "marker": {
          "size": 0
         },
         "name": "Box 1",
         "showlegend": false,
         "type": "box",
         "y": [
          2.7895370075242907,
          2.6594505788279794,
          2.918301585694446,
          3.4574773302469137,
          2.8570207354591837,
          2.5768892162865153,
          2.661864448286723,
          2.7440717145061724,
          2.5851601519607836,
          3.098579050316914,
          2.350156149444445,
          2.1908140846419757,
          2.443892598163454,
          2.646391600933579,
          2.0269082276662735,
          3.058032512101536,
          2.4677901822737995,
          3.038004042001972,
          3.1796821524943315
         ]
        },
        {
         "boxpoints": false,
         "fillcolor": "rgba(0, 0, 0, 0)",
         "jitter": 0,
         "line": {
          "color": "green",
          "width": 1
         },
         "marker": {
          "size": 0
         },
         "name": "Box 2",
         "showlegend": false,
         "type": "box",
         "y": [
          2.3925258845030037,
          2.176321844181459,
          3.0262855406336104,
          2.796710686224492,
          3.3250150659677917,
          2.867509599649887,
          2.919927918199003,
          2.1490556133702152,
          2.969661770629087,
          3.05465403457597,
          1.9688732210884357,
          2.2260467059834195,
          2.128416849108368,
          2.800394543917567,
          2.038590540092594,
          2.9806710486592602,
          2.605980378943759,
          2.624959042088973,
          3.4720210094491613
         ]
        },
        {
         "boxpoints": false,
         "fillcolor": "rgba(0, 0, 0, 0)",
         "jitter": 0,
         "line": {
          "color": "blue",
          "width": 1
         },
         "marker": {
          "size": 0
         },
         "name": "Box 3",
         "showlegend": false,
         "type": "box",
         "y": [
          2.415986733427951,
          1.8857110733481255,
          2.339469190939946,
          2.6113747485827665,
          3.259492825612244,
          2.7819999824263038,
          3.2825792272727274,
          2.045193507765648,
          2.393514076003088,
          2.6406173353254907,
          2.0047531765685482,
          2.001245677238403,
          1.9975520957781983,
          2.405737720388155,
          1.662690581481481,
          2.97902499027504,
          2.4995559506024714,
          2.342065375158729,
          2.6840827390540003
         ]
        },
        {
         "line": {
          "color": "black",
          "dash": "dash",
          "width": 1.5
         },
         "mode": "lines",
         "showlegend": false,
         "type": "scatter",
         "x": [
          "Box 1",
          "Box 2",
          "Box 3"
         ],
         "y": [
          2.661864448286723,
          2.796710686224492,
          2.405737720388155
         ]
        }
       ],
       "layout": {
        "height": 800,
        "showlegend": false,
        "template": {
         "data": {
          "bar": [
           {
            "error_x": {
             "color": "#2a3f5f"
            },
            "error_y": {
             "color": "#2a3f5f"
            },
            "marker": {
             "line": {
              "color": "white",
              "width": 0.5
             },
             "pattern": {
              "fillmode": "overlay",
              "size": 10,
              "solidity": 0.2
             }
            },
            "type": "bar"
           }
          ],
          "barpolar": [
           {
            "marker": {
             "line": {
              "color": "white",
              "width": 0.5
             },
             "pattern": {
              "fillmode": "overlay",
              "size": 10,
              "solidity": 0.2
             }
            },
            "type": "barpolar"
           }
          ],
          "carpet": [
           {
            "aaxis": {
             "endlinecolor": "#2a3f5f",
             "gridcolor": "#C8D4E3",
             "linecolor": "#C8D4E3",
             "minorgridcolor": "#C8D4E3",
             "startlinecolor": "#2a3f5f"
            },
            "baxis": {
             "endlinecolor": "#2a3f5f",
             "gridcolor": "#C8D4E3",
             "linecolor": "#C8D4E3",
             "minorgridcolor": "#C8D4E3",
             "startlinecolor": "#2a3f5f"
            },
            "type": "carpet"
           }
          ],
          "choropleth": [
           {
            "colorbar": {
             "outlinewidth": 0,
             "ticks": ""
            },
            "type": "choropleth"
           }
          ],
          "contour": [
           {
            "colorbar": {
             "outlinewidth": 0,
             "ticks": ""
            },
            "colorscale": [
             [
              0,
              "#0d0887"
             ],
             [
              0.1111111111111111,
              "#46039f"
             ],
             [
              0.2222222222222222,
              "#7201a8"
             ],
             [
              0.3333333333333333,
              "#9c179e"
             ],
             [
              0.4444444444444444,
              "#bd3786"
             ],
             [
              0.5555555555555556,
              "#d8576b"
             ],
             [
              0.6666666666666666,
              "#ed7953"
             ],
             [
              0.7777777777777778,
              "#fb9f3a"
             ],
             [
              0.8888888888888888,
              "#fdca26"
             ],
             [
              1,
              "#f0f921"
             ]
            ],
            "type": "contour"
           }
          ],
          "contourcarpet": [
           {
            "colorbar": {
             "outlinewidth": 0,
             "ticks": ""
            },
            "type": "contourcarpet"
           }
          ],
          "heatmap": [
           {
            "colorbar": {
             "outlinewidth": 0,
             "ticks": ""
            },
            "colorscale": [
             [
              0,
              "#0d0887"
             ],
             [
              0.1111111111111111,
              "#46039f"
             ],
             [
              0.2222222222222222,
              "#7201a8"
             ],
             [
              0.3333333333333333,
              "#9c179e"
             ],
             [
              0.4444444444444444,
              "#bd3786"
             ],
             [
              0.5555555555555556,
              "#d8576b"
             ],
             [
              0.6666666666666666,
              "#ed7953"
             ],
             [
              0.7777777777777778,
              "#fb9f3a"
             ],
             [
              0.8888888888888888,
              "#fdca26"
             ],
             [
              1,
              "#f0f921"
             ]
            ],
            "type": "heatmap"
           }
          ],
          "heatmapgl": [
           {
            "colorbar": {
             "outlinewidth": 0,
             "ticks": ""
            },
            "colorscale": [
             [
              0,
              "#0d0887"
             ],
             [
              0.1111111111111111,
              "#46039f"
             ],
             [
              0.2222222222222222,
              "#7201a8"
             ],
             [
              0.3333333333333333,
              "#9c179e"
             ],
             [
              0.4444444444444444,
              "#bd3786"
             ],
             [
              0.5555555555555556,
              "#d8576b"
             ],
             [
              0.6666666666666666,
              "#ed7953"
             ],
             [
              0.7777777777777778,
              "#fb9f3a"
             ],
             [
              0.8888888888888888,
              "#fdca26"
             ],
             [
              1,
              "#f0f921"
             ]
            ],
            "type": "heatmapgl"
           }
          ],
          "histogram": [
           {
            "marker": {
             "pattern": {
              "fillmode": "overlay",
              "size": 10,
              "solidity": 0.2
             }
            },
            "type": "histogram"
           }
          ],
          "histogram2d": [
           {
            "colorbar": {
             "outlinewidth": 0,
             "ticks": ""
            },
            "colorscale": [
             [
              0,
              "#0d0887"
             ],
             [
              0.1111111111111111,
              "#46039f"
             ],
             [
              0.2222222222222222,
              "#7201a8"
             ],
             [
              0.3333333333333333,
              "#9c179e"
             ],
             [
              0.4444444444444444,
              "#bd3786"
             ],
             [
              0.5555555555555556,
              "#d8576b"
             ],
             [
              0.6666666666666666,
              "#ed7953"
             ],
             [
              0.7777777777777778,
              "#fb9f3a"
             ],
             [
              0.8888888888888888,
              "#fdca26"
             ],
             [
              1,
              "#f0f921"
             ]
            ],
            "type": "histogram2d"
           }
          ],
          "histogram2dcontour": [
           {
            "colorbar": {
             "outlinewidth": 0,
             "ticks": ""
            },
            "colorscale": [
             [
              0,
              "#0d0887"
             ],
             [
              0.1111111111111111,
              "#46039f"
             ],
             [
              0.2222222222222222,
              "#7201a8"
             ],
             [
              0.3333333333333333,
              "#9c179e"
             ],
             [
              0.4444444444444444,
              "#bd3786"
             ],
             [
              0.5555555555555556,
              "#d8576b"
             ],
             [
              0.6666666666666666,
              "#ed7953"
             ],
             [
              0.7777777777777778,
              "#fb9f3a"
             ],
             [
              0.8888888888888888,
              "#fdca26"
             ],
             [
              1,
              "#f0f921"
             ]
            ],
            "type": "histogram2dcontour"
           }
          ],
          "mesh3d": [
           {
            "colorbar": {
             "outlinewidth": 0,
             "ticks": ""
            },
            "type": "mesh3d"
           }
          ],
          "parcoords": [
           {
            "line": {
             "colorbar": {
              "outlinewidth": 0,
              "ticks": ""
             }
            },
            "type": "parcoords"
           }
          ],
          "pie": [
           {
            "automargin": true,
            "type": "pie"
           }
          ],
          "scatter": [
           {
            "fillpattern": {
             "fillmode": "overlay",
             "size": 10,
             "solidity": 0.2
            },
            "type": "scatter"
           }
          ],
          "scatter3d": [
           {
            "line": {
             "colorbar": {
              "outlinewidth": 0,
              "ticks": ""
             }
            },
            "marker": {
             "colorbar": {
              "outlinewidth": 0,
              "ticks": ""
             }
            },
            "type": "scatter3d"
           }
          ],
          "scattercarpet": [
           {
            "marker": {
             "colorbar": {
              "outlinewidth": 0,
              "ticks": ""
             }
            },
            "type": "scattercarpet"
           }
          ],
          "scattergeo": [
           {
            "marker": {
             "colorbar": {
              "outlinewidth": 0,
              "ticks": ""
             }
            },
            "type": "scattergeo"
           }
          ],
          "scattergl": [
           {
            "marker": {
             "colorbar": {
              "outlinewidth": 0,
              "ticks": ""
             }
            },
            "type": "scattergl"
           }
          ],
          "scattermapbox": [
           {
            "marker": {
             "colorbar": {
              "outlinewidth": 0,
              "ticks": ""
             }
            },
            "type": "scattermapbox"
           }
          ],
          "scatterpolar": [
           {
            "marker": {
             "colorbar": {
              "outlinewidth": 0,
              "ticks": ""
             }
            },
            "type": "scatterpolar"
           }
          ],
          "scatterpolargl": [
           {
            "marker": {
             "colorbar": {
              "outlinewidth": 0,
              "ticks": ""
             }
            },
            "type": "scatterpolargl"
           }
          ],
          "scatterternary": [
           {
            "marker": {
             "colorbar": {
              "outlinewidth": 0,
              "ticks": ""
             }
            },
            "type": "scatterternary"
           }
          ],
          "surface": [
           {
            "colorbar": {
             "outlinewidth": 0,
             "ticks": ""
            },
            "colorscale": [
             [
              0,
              "#0d0887"
             ],
             [
              0.1111111111111111,
              "#46039f"
             ],
             [
              0.2222222222222222,
              "#7201a8"
             ],
             [
              0.3333333333333333,
              "#9c179e"
             ],
             [
              0.4444444444444444,
              "#bd3786"
             ],
             [
              0.5555555555555556,
              "#d8576b"
             ],
             [
              0.6666666666666666,
              "#ed7953"
             ],
             [
              0.7777777777777778,
              "#fb9f3a"
             ],
             [
              0.8888888888888888,
              "#fdca26"
             ],
             [
              1,
              "#f0f921"
             ]
            ],
            "type": "surface"
           }
          ],
          "table": [
           {
            "cells": {
             "fill": {
              "color": "#EBF0F8"
             },
             "line": {
              "color": "white"
             }
            },
            "header": {
             "fill": {
              "color": "#C8D4E3"
             },
             "line": {
              "color": "white"
             }
            },
            "type": "table"
           }
          ]
         },
         "layout": {
          "annotationdefaults": {
           "arrowcolor": "#2a3f5f",
           "arrowhead": 0,
           "arrowwidth": 1
          },
          "autotypenumbers": "strict",
          "coloraxis": {
           "colorbar": {
            "outlinewidth": 0,
            "ticks": ""
           }
          },
          "colorscale": {
           "diverging": [
            [
             0,
             "#8e0152"
            ],
            [
             0.1,
             "#c51b7d"
            ],
            [
             0.2,
             "#de77ae"
            ],
            [
             0.3,
             "#f1b6da"
            ],
            [
             0.4,
             "#fde0ef"
            ],
            [
             0.5,
             "#f7f7f7"
            ],
            [
             0.6,
             "#e6f5d0"
            ],
            [
             0.7,
             "#b8e186"
            ],
            [
             0.8,
             "#7fbc41"
            ],
            [
             0.9,
             "#4d9221"
            ],
            [
             1,
             "#276419"
            ]
           ],
           "sequential": [
            [
             0,
             "#0d0887"
            ],
            [
             0.1111111111111111,
             "#46039f"
            ],
            [
             0.2222222222222222,
             "#7201a8"
            ],
            [
             0.3333333333333333,
             "#9c179e"
            ],
            [
             0.4444444444444444,
             "#bd3786"
            ],
            [
             0.5555555555555556,
             "#d8576b"
            ],
            [
             0.6666666666666666,
             "#ed7953"
            ],
            [
             0.7777777777777778,
             "#fb9f3a"
            ],
            [
             0.8888888888888888,
             "#fdca26"
            ],
            [
             1,
             "#f0f921"
            ]
           ],
           "sequentialminus": [
            [
             0,
             "#0d0887"
            ],
            [
             0.1111111111111111,
             "#46039f"
            ],
            [
             0.2222222222222222,
             "#7201a8"
            ],
            [
             0.3333333333333333,
             "#9c179e"
            ],
            [
             0.4444444444444444,
             "#bd3786"
            ],
            [
             0.5555555555555556,
             "#d8576b"
            ],
            [
             0.6666666666666666,
             "#ed7953"
            ],
            [
             0.7777777777777778,
             "#fb9f3a"
            ],
            [
             0.8888888888888888,
             "#fdca26"
            ],
            [
             1,
             "#f0f921"
            ]
           ]
          },
          "colorway": [
           "#636efa",
           "#EF553B",
           "#00cc96",
           "#ab63fa",
           "#FFA15A",
           "#19d3f3",
           "#FF6692",
           "#B6E880",
           "#FF97FF",
           "#FECB52"
          ],
          "font": {
           "color": "#2a3f5f"
          },
          "geo": {
           "bgcolor": "white",
           "lakecolor": "white",
           "landcolor": "white",
           "showlakes": true,
           "showland": true,
           "subunitcolor": "#C8D4E3"
          },
          "hoverlabel": {
           "align": "left"
          },
          "hovermode": "closest",
          "mapbox": {
           "style": "light"
          },
          "paper_bgcolor": "white",
          "plot_bgcolor": "white",
          "polar": {
           "angularaxis": {
            "gridcolor": "#EBF0F8",
            "linecolor": "#EBF0F8",
            "ticks": ""
           },
           "bgcolor": "white",
           "radialaxis": {
            "gridcolor": "#EBF0F8",
            "linecolor": "#EBF0F8",
            "ticks": ""
           }
          },
          "scene": {
           "xaxis": {
            "backgroundcolor": "white",
            "gridcolor": "#DFE8F3",
            "gridwidth": 2,
            "linecolor": "#EBF0F8",
            "showbackground": true,
            "ticks": "",
            "zerolinecolor": "#EBF0F8"
           },
           "yaxis": {
            "backgroundcolor": "white",
            "gridcolor": "#DFE8F3",
            "gridwidth": 2,
            "linecolor": "#EBF0F8",
            "showbackground": true,
            "ticks": "",
            "zerolinecolor": "#EBF0F8"
           },
           "zaxis": {
            "backgroundcolor": "white",
            "gridcolor": "#DFE8F3",
            "gridwidth": 2,
            "linecolor": "#EBF0F8",
            "showbackground": true,
            "ticks": "",
            "zerolinecolor": "#EBF0F8"
           }
          },
          "shapedefaults": {
           "line": {
            "color": "#2a3f5f"
           }
          },
          "ternary": {
           "aaxis": {
            "gridcolor": "#DFE8F3",
            "linecolor": "#A2B1C6",
            "ticks": ""
           },
           "baxis": {
            "gridcolor": "#DFE8F3",
            "linecolor": "#A2B1C6",
            "ticks": ""
           },
           "bgcolor": "white",
           "caxis": {
            "gridcolor": "#DFE8F3",
            "linecolor": "#A2B1C6",
            "ticks": ""
           }
          },
          "title": {
           "x": 0.05
          },
          "xaxis": {
           "automargin": true,
           "gridcolor": "#EBF0F8",
           "linecolor": "#EBF0F8",
           "ticks": "",
           "title": {
            "standoff": 15
           },
           "zerolinecolor": "#EBF0F8",
           "zerolinewidth": 2
          },
          "yaxis": {
           "automargin": true,
           "gridcolor": "#EBF0F8",
           "linecolor": "#EBF0F8",
           "ticks": "",
           "title": {
            "standoff": 15
           },
           "zerolinecolor": "#EBF0F8",
           "zerolinewidth": 2
          }
         }
        },
        "title": {
         "text": "Box Plot SRC vs HPT MR"
        },
        "width": 1000,
        "xaxis": {
         "showticklabels": false
        },
        "yaxis": {
         "range": [
          1,
          4
         ],
         "showticklabels": true,
         "title": {
          "text": "Net MR [W/kg]"
         }
        }
       }
      }
     },
     "metadata": {},
     "output_type": "display_data"
    }
   ],
   "source": [
    "data = [MR_no_exo['Net MR [W/kg]'].values, MR_HPT['Net MR [W/kg]'].values, MR_SRC['Net MR [W/kg]'].values]\n",
    "labels = ['Box 1', 'Box 2', 'Box 3']\n",
    "\n",
    "# Define the colors for the boxes\n",
    "colors = ['red', 'green', 'blue']\n",
    "\n",
    "traces = []\n",
    "for i in range(len(data)):\n",
    "    trace = go.Box(\n",
    "        y=data[i],\n",
    "        name=labels[i],\n",
    "        showlegend=False, \n",
    "        fillcolor='rgba(0, 0, 0, 0)',  # Make the box transparent\n",
    "        line=dict(color=colors[i], width=1),  # Set the border color and width\n",
    "    \n",
    "        marker=dict(size=0),  # Set marker size to 0\n",
    "        boxpoints=False,  # Disable individual data points\n",
    "        jitter=0  )# Set jitter to 0\n",
    "    traces.append(trace)\n",
    "\n",
    "\n",
    "    # # Add dots for each box\n",
    "    # dot_trace = go.Scatter(\n",
    "    #     x=[i + 1] * len(data[i]),\n",
    "    #     y=data[i],\n",
    "    #     mode='markers',\n",
    "    #     name=labels[i],\n",
    "    #     marker=dict(color=colors[i], size=8, opacity = 0.4)\n",
    "    # )\n",
    "    # traces.append(dot_trace)\n",
    "\n",
    "# Calculate medians of the first three boxes\n",
    "medians = [np.median(i) for i in data]\n",
    "\n",
    "# Create dashed black lines connecting the medians\n",
    "traces.append(go.Scatter(x=labels[:3], y=medians[:3],\n",
    "                         mode='lines', showlegend=False,  line=dict(color='black', dash='dash', width = 1.5)))\n",
    "layout = go.Layout(\n",
    "    title='Box Plot SRC vs HPT MR',\n",
    "    yaxis=dict(title='Net MR [W/kg]', showticklabels=True),\n",
    "    xaxis=dict(showticklabels=False)\n",
    ")\n",
    "\n",
    "fig = go.Figure(data=traces, layout=layout)\n",
    "\n",
    "fig.update_layout(template = 'plotly_white', height=800, width=1000, showlegend=False)\n",
    "fig.update_yaxes(range = [1,4])\n",
    "\n",
    "fig.show()"
   ]
  },
  {
   "cell_type": "code",
   "execution_count": 3528,
   "metadata": {},
   "outputs": [
    {
     "data": {
      "application/vnd.plotly.v1+json": {
       "config": {
        "plotlyServerURL": "https://plot.ly"
       },
       "data": [
        {
         "boxpoints": false,
         "fillcolor": "rgba(0, 0, 0, 0)",
         "jitter": 0,
         "line": {
          "color": "rgba(0, 0, 0, 0.5)",
          "width": 1
         },
         "marker": {
          "size": 0
         },
         "name": "Box 1",
         "showlegend": false,
         "type": "box",
         "y": [
          -0.12692518906125866,
          -0.12197867170753444,
          0.37455547914624565,
          0.07091844271881338,
          0.06998584454579655,
          -0.02119544762634793,
          -0.01626484309207551
         ]
        },
        {
         "boxpoints": false,
         "fillcolor": "rgba(0, 0, 0, 0)",
         "jitter": 0,
         "line": {
          "color": "orange",
          "width": 1
         },
         "marker": {
          "size": 0
         },
         "name": "Box 2",
         "showlegend": false,
         "type": "box",
         "y": [
          -2.0537894043822673,
          -2.044849554212671,
          2.0225995873897262,
          -1.09923251446748,
          -1.6223678340853194,
          -2.1349838503689327,
          -2.125182069044553
         ]
        },
        {
         "boxpoints": false,
         "fillcolor": "rgba(0, 0, 0, 0)",
         "jitter": 0,
         "line": {
          "color": "rgba(0, 0, 0, 0.5)",
          "width": 1
         },
         "marker": {
          "size": 0
         },
         "name": "Box 3",
         "showlegend": false,
         "type": "box",
         "y": [
          0.006390290432244103,
          0.12017930905454063,
          0.0970848169931066,
          -0.0008559164335871819,
          0.006390290432244222,
          0.12017930905454112
         ]
        },
        {
         "boxpoints": false,
         "fillcolor": "rgba(0, 0, 0, 0)",
         "jitter": 0,
         "line": {
          "color": "orange",
          "width": 1
         },
         "marker": {
          "size": 0
         },
         "name": "Box 4",
         "showlegend": false,
         "type": "box",
         "y": [
          0.0033318634250035367,
          0.23073583131109549,
          0.1899997739502421,
          0.20969600350899253,
          0.003331863425003828,
          0.23073583131109532
         ]
        },
        {
         "boxpoints": false,
         "fillcolor": "rgba(0, 0, 0, 0)",
         "jitter": 0,
         "line": {
          "color": "rgba(0, 0, 0, 0.5)",
          "width": 1
         },
         "marker": {
          "size": 0
         },
         "name": "Box 5",
         "showlegend": false,
         "type": "box",
         "y": [
          -0.12303895905293914,
          0.3830479500707041,
          -0.3645185710279126,
          -0.35768667780163926,
          0.38565673693617347
         ]
        },
        {
         "boxpoints": false,
         "fillcolor": "rgba(0, 0, 0, 0)",
         "jitter": 0,
         "line": {
          "color": "orange",
          "width": 1
         },
         "marker": {
          "size": 0
         },
         "name": "Box 6",
         "showlegend": false,
         "type": "box",
         "y": [
          -0.6158841420933316,
          0.28703482844283923,
          -0.306031244036595,
          -0.2966796160000825,
          0.28677726457667463
         ]
        },
        {
         "boxpoints": false,
         "fillcolor": "rgba(0, 0, 0, 0)",
         "jitter": 0,
         "line": {
          "color": "rgba(0, 0, 0, 0.5)",
          "width": 1
         },
         "marker": {
          "size": 0
         },
         "name": "Box 7",
         "showlegend": false,
         "type": "box",
         "y": [
          -0.1328127184864564,
          0.010874371432084216,
          -0.3645690436510161,
          -0.26799573653861714,
          -0.20774166161481702
         ]
        },
        {
         "boxpoints": false,
         "fillcolor": "rgba(0, 0, 0, 0)",
         "jitter": 0,
         "line": {
          "color": "orange",
          "width": 1
         },
         "marker": {
          "size": 0
         },
         "name": "Box 8",
         "showlegend": false,
         "type": "box",
         "y": [
          -0.1711307953695975,
          -0.4562753663882507,
          -0.23032378489335575,
          -0.21046782129849917,
          0.026141595710563202
         ]
        },
        {
         "line": {
          "color": "black",
          "dash": "dash",
          "width": 1.5
         },
         "mode": "lines",
         "showlegend": false,
         "type": "scatter",
         "x": [
          "Box 1",
          "Box 2"
         ],
         "y": [
          -0.01626484309207551,
          -2.044849554212671
         ]
        },
        {
         "line": {
          "color": "black",
          "dash": "dash",
          "width": 1.5
         },
         "mode": "lines",
         "showlegend": false,
         "type": "scatter",
         "x": [
          "Box 3",
          "Box 4"
         ],
         "y": [
          0.05173755371267541,
          0.1998478887296173
         ]
        },
        {
         "line": {
          "color": "black",
          "dash": "dash",
          "width": 1.5
         },
         "mode": "lines",
         "showlegend": false,
         "type": "scatter",
         "x": [
          "Box 5",
          "Box 6"
         ],
         "y": [
          -0.12303895905293914,
          -0.2966796160000825
         ]
        },
        {
         "line": {
          "color": "black",
          "dash": "dash",
          "width": 1.5
         },
         "mode": "lines",
         "showlegend": false,
         "type": "scatter",
         "x": [
          "Box 7",
          "Box 8"
         ],
         "y": [
          -0.20774166161481702,
          -0.21046782129849917
         ]
        }
       ],
       "layout": {
        "height": 600,
        "showlegend": false,
        "template": {
         "data": {
          "bar": [
           {
            "error_x": {
             "color": "#2a3f5f"
            },
            "error_y": {
             "color": "#2a3f5f"
            },
            "marker": {
             "line": {
              "color": "white",
              "width": 0.5
             },
             "pattern": {
              "fillmode": "overlay",
              "size": 10,
              "solidity": 0.2
             }
            },
            "type": "bar"
           }
          ],
          "barpolar": [
           {
            "marker": {
             "line": {
              "color": "white",
              "width": 0.5
             },
             "pattern": {
              "fillmode": "overlay",
              "size": 10,
              "solidity": 0.2
             }
            },
            "type": "barpolar"
           }
          ],
          "carpet": [
           {
            "aaxis": {
             "endlinecolor": "#2a3f5f",
             "gridcolor": "#C8D4E3",
             "linecolor": "#C8D4E3",
             "minorgridcolor": "#C8D4E3",
             "startlinecolor": "#2a3f5f"
            },
            "baxis": {
             "endlinecolor": "#2a3f5f",
             "gridcolor": "#C8D4E3",
             "linecolor": "#C8D4E3",
             "minorgridcolor": "#C8D4E3",
             "startlinecolor": "#2a3f5f"
            },
            "type": "carpet"
           }
          ],
          "choropleth": [
           {
            "colorbar": {
             "outlinewidth": 0,
             "ticks": ""
            },
            "type": "choropleth"
           }
          ],
          "contour": [
           {
            "colorbar": {
             "outlinewidth": 0,
             "ticks": ""
            },
            "colorscale": [
             [
              0,
              "#0d0887"
             ],
             [
              0.1111111111111111,
              "#46039f"
             ],
             [
              0.2222222222222222,
              "#7201a8"
             ],
             [
              0.3333333333333333,
              "#9c179e"
             ],
             [
              0.4444444444444444,
              "#bd3786"
             ],
             [
              0.5555555555555556,
              "#d8576b"
             ],
             [
              0.6666666666666666,
              "#ed7953"
             ],
             [
              0.7777777777777778,
              "#fb9f3a"
             ],
             [
              0.8888888888888888,
              "#fdca26"
             ],
             [
              1,
              "#f0f921"
             ]
            ],
            "type": "contour"
           }
          ],
          "contourcarpet": [
           {
            "colorbar": {
             "outlinewidth": 0,
             "ticks": ""
            },
            "type": "contourcarpet"
           }
          ],
          "heatmap": [
           {
            "colorbar": {
             "outlinewidth": 0,
             "ticks": ""
            },
            "colorscale": [
             [
              0,
              "#0d0887"
             ],
             [
              0.1111111111111111,
              "#46039f"
             ],
             [
              0.2222222222222222,
              "#7201a8"
             ],
             [
              0.3333333333333333,
              "#9c179e"
             ],
             [
              0.4444444444444444,
              "#bd3786"
             ],
             [
              0.5555555555555556,
              "#d8576b"
             ],
             [
              0.6666666666666666,
              "#ed7953"
             ],
             [
              0.7777777777777778,
              "#fb9f3a"
             ],
             [
              0.8888888888888888,
              "#fdca26"
             ],
             [
              1,
              "#f0f921"
             ]
            ],
            "type": "heatmap"
           }
          ],
          "heatmapgl": [
           {
            "colorbar": {
             "outlinewidth": 0,
             "ticks": ""
            },
            "colorscale": [
             [
              0,
              "#0d0887"
             ],
             [
              0.1111111111111111,
              "#46039f"
             ],
             [
              0.2222222222222222,
              "#7201a8"
             ],
             [
              0.3333333333333333,
              "#9c179e"
             ],
             [
              0.4444444444444444,
              "#bd3786"
             ],
             [
              0.5555555555555556,
              "#d8576b"
             ],
             [
              0.6666666666666666,
              "#ed7953"
             ],
             [
              0.7777777777777778,
              "#fb9f3a"
             ],
             [
              0.8888888888888888,
              "#fdca26"
             ],
             [
              1,
              "#f0f921"
             ]
            ],
            "type": "heatmapgl"
           }
          ],
          "histogram": [
           {
            "marker": {
             "pattern": {
              "fillmode": "overlay",
              "size": 10,
              "solidity": 0.2
             }
            },
            "type": "histogram"
           }
          ],
          "histogram2d": [
           {
            "colorbar": {
             "outlinewidth": 0,
             "ticks": ""
            },
            "colorscale": [
             [
              0,
              "#0d0887"
             ],
             [
              0.1111111111111111,
              "#46039f"
             ],
             [
              0.2222222222222222,
              "#7201a8"
             ],
             [
              0.3333333333333333,
              "#9c179e"
             ],
             [
              0.4444444444444444,
              "#bd3786"
             ],
             [
              0.5555555555555556,
              "#d8576b"
             ],
             [
              0.6666666666666666,
              "#ed7953"
             ],
             [
              0.7777777777777778,
              "#fb9f3a"
             ],
             [
              0.8888888888888888,
              "#fdca26"
             ],
             [
              1,
              "#f0f921"
             ]
            ],
            "type": "histogram2d"
           }
          ],
          "histogram2dcontour": [
           {
            "colorbar": {
             "outlinewidth": 0,
             "ticks": ""
            },
            "colorscale": [
             [
              0,
              "#0d0887"
             ],
             [
              0.1111111111111111,
              "#46039f"
             ],
             [
              0.2222222222222222,
              "#7201a8"
             ],
             [
              0.3333333333333333,
              "#9c179e"
             ],
             [
              0.4444444444444444,
              "#bd3786"
             ],
             [
              0.5555555555555556,
              "#d8576b"
             ],
             [
              0.6666666666666666,
              "#ed7953"
             ],
             [
              0.7777777777777778,
              "#fb9f3a"
             ],
             [
              0.8888888888888888,
              "#fdca26"
             ],
             [
              1,
              "#f0f921"
             ]
            ],
            "type": "histogram2dcontour"
           }
          ],
          "mesh3d": [
           {
            "colorbar": {
             "outlinewidth": 0,
             "ticks": ""
            },
            "type": "mesh3d"
           }
          ],
          "parcoords": [
           {
            "line": {
             "colorbar": {
              "outlinewidth": 0,
              "ticks": ""
             }
            },
            "type": "parcoords"
           }
          ],
          "pie": [
           {
            "automargin": true,
            "type": "pie"
           }
          ],
          "scatter": [
           {
            "fillpattern": {
             "fillmode": "overlay",
             "size": 10,
             "solidity": 0.2
            },
            "type": "scatter"
           }
          ],
          "scatter3d": [
           {
            "line": {
             "colorbar": {
              "outlinewidth": 0,
              "ticks": ""
             }
            },
            "marker": {
             "colorbar": {
              "outlinewidth": 0,
              "ticks": ""
             }
            },
            "type": "scatter3d"
           }
          ],
          "scattercarpet": [
           {
            "marker": {
             "colorbar": {
              "outlinewidth": 0,
              "ticks": ""
             }
            },
            "type": "scattercarpet"
           }
          ],
          "scattergeo": [
           {
            "marker": {
             "colorbar": {
              "outlinewidth": 0,
              "ticks": ""
             }
            },
            "type": "scattergeo"
           }
          ],
          "scattergl": [
           {
            "marker": {
             "colorbar": {
              "outlinewidth": 0,
              "ticks": ""
             }
            },
            "type": "scattergl"
           }
          ],
          "scattermapbox": [
           {
            "marker": {
             "colorbar": {
              "outlinewidth": 0,
              "ticks": ""
             }
            },
            "type": "scattermapbox"
           }
          ],
          "scatterpolar": [
           {
            "marker": {
             "colorbar": {
              "outlinewidth": 0,
              "ticks": ""
             }
            },
            "type": "scatterpolar"
           }
          ],
          "scatterpolargl": [
           {
            "marker": {
             "colorbar": {
              "outlinewidth": 0,
              "ticks": ""
             }
            },
            "type": "scatterpolargl"
           }
          ],
          "scatterternary": [
           {
            "marker": {
             "colorbar": {
              "outlinewidth": 0,
              "ticks": ""
             }
            },
            "type": "scatterternary"
           }
          ],
          "surface": [
           {
            "colorbar": {
             "outlinewidth": 0,
             "ticks": ""
            },
            "colorscale": [
             [
              0,
              "#0d0887"
             ],
             [
              0.1111111111111111,
              "#46039f"
             ],
             [
              0.2222222222222222,
              "#7201a8"
             ],
             [
              0.3333333333333333,
              "#9c179e"
             ],
             [
              0.4444444444444444,
              "#bd3786"
             ],
             [
              0.5555555555555556,
              "#d8576b"
             ],
             [
              0.6666666666666666,
              "#ed7953"
             ],
             [
              0.7777777777777778,
              "#fb9f3a"
             ],
             [
              0.8888888888888888,
              "#fdca26"
             ],
             [
              1,
              "#f0f921"
             ]
            ],
            "type": "surface"
           }
          ],
          "table": [
           {
            "cells": {
             "fill": {
              "color": "#EBF0F8"
             },
             "line": {
              "color": "white"
             }
            },
            "header": {
             "fill": {
              "color": "#C8D4E3"
             },
             "line": {
              "color": "white"
             }
            },
            "type": "table"
           }
          ]
         },
         "layout": {
          "annotationdefaults": {
           "arrowcolor": "#2a3f5f",
           "arrowhead": 0,
           "arrowwidth": 1
          },
          "autotypenumbers": "strict",
          "coloraxis": {
           "colorbar": {
            "outlinewidth": 0,
            "ticks": ""
           }
          },
          "colorscale": {
           "diverging": [
            [
             0,
             "#8e0152"
            ],
            [
             0.1,
             "#c51b7d"
            ],
            [
             0.2,
             "#de77ae"
            ],
            [
             0.3,
             "#f1b6da"
            ],
            [
             0.4,
             "#fde0ef"
            ],
            [
             0.5,
             "#f7f7f7"
            ],
            [
             0.6,
             "#e6f5d0"
            ],
            [
             0.7,
             "#b8e186"
            ],
            [
             0.8,
             "#7fbc41"
            ],
            [
             0.9,
             "#4d9221"
            ],
            [
             1,
             "#276419"
            ]
           ],
           "sequential": [
            [
             0,
             "#0d0887"
            ],
            [
             0.1111111111111111,
             "#46039f"
            ],
            [
             0.2222222222222222,
             "#7201a8"
            ],
            [
             0.3333333333333333,
             "#9c179e"
            ],
            [
             0.4444444444444444,
             "#bd3786"
            ],
            [
             0.5555555555555556,
             "#d8576b"
            ],
            [
             0.6666666666666666,
             "#ed7953"
            ],
            [
             0.7777777777777778,
             "#fb9f3a"
            ],
            [
             0.8888888888888888,
             "#fdca26"
            ],
            [
             1,
             "#f0f921"
            ]
           ],
           "sequentialminus": [
            [
             0,
             "#0d0887"
            ],
            [
             0.1111111111111111,
             "#46039f"
            ],
            [
             0.2222222222222222,
             "#7201a8"
            ],
            [
             0.3333333333333333,
             "#9c179e"
            ],
            [
             0.4444444444444444,
             "#bd3786"
            ],
            [
             0.5555555555555556,
             "#d8576b"
            ],
            [
             0.6666666666666666,
             "#ed7953"
            ],
            [
             0.7777777777777778,
             "#fb9f3a"
            ],
            [
             0.8888888888888888,
             "#fdca26"
            ],
            [
             1,
             "#f0f921"
            ]
           ]
          },
          "colorway": [
           "#636efa",
           "#EF553B",
           "#00cc96",
           "#ab63fa",
           "#FFA15A",
           "#19d3f3",
           "#FF6692",
           "#B6E880",
           "#FF97FF",
           "#FECB52"
          ],
          "font": {
           "color": "#2a3f5f"
          },
          "geo": {
           "bgcolor": "white",
           "lakecolor": "white",
           "landcolor": "white",
           "showlakes": true,
           "showland": true,
           "subunitcolor": "#C8D4E3"
          },
          "hoverlabel": {
           "align": "left"
          },
          "hovermode": "closest",
          "mapbox": {
           "style": "light"
          },
          "paper_bgcolor": "white",
          "plot_bgcolor": "white",
          "polar": {
           "angularaxis": {
            "gridcolor": "#EBF0F8",
            "linecolor": "#EBF0F8",
            "ticks": ""
           },
           "bgcolor": "white",
           "radialaxis": {
            "gridcolor": "#EBF0F8",
            "linecolor": "#EBF0F8",
            "ticks": ""
           }
          },
          "scene": {
           "xaxis": {
            "backgroundcolor": "white",
            "gridcolor": "#DFE8F3",
            "gridwidth": 2,
            "linecolor": "#EBF0F8",
            "showbackground": true,
            "ticks": "",
            "zerolinecolor": "#EBF0F8"
           },
           "yaxis": {
            "backgroundcolor": "white",
            "gridcolor": "#DFE8F3",
            "gridwidth": 2,
            "linecolor": "#EBF0F8",
            "showbackground": true,
            "ticks": "",
            "zerolinecolor": "#EBF0F8"
           },
           "zaxis": {
            "backgroundcolor": "white",
            "gridcolor": "#DFE8F3",
            "gridwidth": 2,
            "linecolor": "#EBF0F8",
            "showbackground": true,
            "ticks": "",
            "zerolinecolor": "#EBF0F8"
           }
          },
          "shapedefaults": {
           "line": {
            "color": "#2a3f5f"
           }
          },
          "ternary": {
           "aaxis": {
            "gridcolor": "#DFE8F3",
            "linecolor": "#A2B1C6",
            "ticks": ""
           },
           "baxis": {
            "gridcolor": "#DFE8F3",
            "linecolor": "#A2B1C6",
            "ticks": ""
           },
           "bgcolor": "white",
           "caxis": {
            "gridcolor": "#DFE8F3",
            "linecolor": "#A2B1C6",
            "ticks": ""
           }
          },
          "title": {
           "x": 0.05
          },
          "xaxis": {
           "automargin": true,
           "gridcolor": "#EBF0F8",
           "linecolor": "#EBF0F8",
           "ticks": "",
           "title": {
            "standoff": 15
           },
           "zerolinecolor": "#EBF0F8",
           "zerolinewidth": 2
          },
          "yaxis": {
           "automargin": true,
           "gridcolor": "#EBF0F8",
           "linecolor": "#EBF0F8",
           "ticks": "",
           "title": {
            "standoff": 15
           },
           "zerolinecolor": "#EBF0F8",
           "zerolinewidth": 2
          }
         }
        },
        "title": {
         "text": "Box Plot Resp vs non Resp"
        },
        "width": 1000,
        "xaxis": {
         "showticklabels": false
        },
        "yaxis": {
         "showticklabels": true,
         "title": {
          "text": "Z-Scores"
         }
        }
       }
      }
     },
     "metadata": {},
     "output_type": "display_data"
    }
   ],
   "source": [
    "# Normalization for radar and boxplots\n",
    "\n",
    "\n",
    "\n",
    "#no_resp vs resp\n",
    "\n",
    "change_resp  = change_resp[['mean_step_time (s)',\n",
    " 'mean_stride_time (s)',\n",
    " 'cadence (step/min)',\n",
    " 'mean_swing_time (s)',\n",
    " 'mean_stance_time (s)',\n",
    " 'mean_step_length (mm)',\n",
    " 'mean_stride_length (mm)',\n",
    " 'cov_step_time (%)',\n",
    " 'cov_stride_time (%)',\n",
    " 'cov_swing_time (%)',\n",
    " 'cov_stance_time (%)',\n",
    " 'cov_step_length (%)',\n",
    " 'cov_stride_length (%)',\n",
    " 'mean_ds_time (s)',\n",
    " 'swing_time_perctg (%)',\n",
    " 'stance_time_perctg (%)',\n",
    " 'ds_time_perctg (%)',\n",
    " 'ss_time_perctg (%)',\n",
    " 'mean_step_width (mm)',\n",
    " 'mean_GC_range_ML (mm)',\n",
    " 'mean_vel_ML (mm/s)',\n",
    " 'mean_GC_rms_acc_ML (mm/s2)',\n",
    " 'linear_momentum_ML (kg.m/s)']]\n",
    "change_resp.columns = ['Step Time (s)',\n",
    " 'Stride Time (s)',\n",
    " 'Step Frequency (step/min)',\n",
    " 'Swing Time (s)',\n",
    " 'Stance Time (s)',\n",
    " 'Step Length (mm)',\n",
    " 'Stride Length (mm)',\n",
    " 'Step Time Variability (%)',\n",
    " 'Stride Time Variability (%)',\n",
    " 'Swing Time Variability (%)',\n",
    " 'Stance Time Variability (%)',\n",
    " 'Step Length Variability (%)',\n",
    " 'Stride Length Variability (%)',\n",
    " 'Double Stance Time (s)',\n",
    " 'Swing Time Percentage (GC %)',\n",
    " 'Stance Time Percentage (GC %)',\n",
    " 'Double Stance Time Percentage (GC %)',\n",
    " 'Single Stance Time Percentage (GC %)',\n",
    " 'Step Width (mm)',\n",
    " 'COM ML GC Range (mm)',\n",
    " 'COM ML Velocity (mm/s)',\n",
    " 'COM ML GC RMS Acc (mm/s2)',\n",
    " 'COM ML Linear Momentum (kg.m/s)']\n",
    "\n",
    "\n",
    "\n",
    "# normalizing features into z scores\n",
    "change_resp_norm = (change_resp - change_resp.mean(axis=0))/change_resp.std(axis=0)\n",
    "\n",
    "change_non_resp  = change_non_resp[['mean_step_time (s)',\n",
    " 'mean_stride_time (s)',\n",
    " 'cadence (step/min)',\n",
    " 'mean_swing_time (s)',\n",
    " 'mean_stance_time (s)',\n",
    " 'mean_step_length (mm)',\n",
    " 'mean_stride_length (mm)',\n",
    " 'cov_step_time (%)',\n",
    " 'cov_stride_time (%)',\n",
    " 'cov_swing_time (%)',\n",
    " 'cov_stance_time (%)',\n",
    " 'cov_step_length (%)',\n",
    " 'cov_stride_length (%)',\n",
    " 'mean_ds_time (s)',\n",
    " 'swing_time_perctg (%)',\n",
    " 'stance_time_perctg (%)',\n",
    " 'ds_time_perctg (%)',\n",
    " 'ss_time_perctg (%)',\n",
    " 'mean_step_width (mm)',\n",
    " 'mean_GC_range_ML (mm)',\n",
    " 'mean_vel_ML (mm/s)',\n",
    " 'mean_GC_rms_acc_ML (mm/s2)',\n",
    " 'linear_momentum_ML (kg.m/s)']]\n",
    "change_non_resp.columns = ['Step Time (s)',\n",
    " 'Stride Time (s)',\n",
    " 'Step Frequency (step/min)',\n",
    " 'Swing Time (s)',\n",
    " 'Stance Time (s)',\n",
    " 'Step Length (mm)',\n",
    " 'Stride Length (mm)',\n",
    " 'Step Time Variability (%)',\n",
    " 'Stride Time Variability (%)',\n",
    " 'Swing Time Variability (%)',\n",
    " 'Stance Time Variability (%)',\n",
    " 'Step Length Variability (%)',\n",
    " 'Stride Length Variability (%)',\n",
    " 'Double Stance Time (s)',\n",
    " 'Swing Time Percentage (GC %)',\n",
    " 'Stance Time Percentage (GC %)',\n",
    " 'Double Stance Time Percentage (GC %)',\n",
    " 'Single Stance Time Percentage (GC %)',\n",
    " 'Step Width (mm)',\n",
    " 'COM ML GC Range (mm)',\n",
    " 'COM ML Velocity (mm/s)',\n",
    " 'COM ML GC RMS Acc (mm/s2)',\n",
    " 'COM ML Linear Momentum (kg.m/s)']\n",
    "\n",
    "\n",
    "\n",
    "# normalizing features into z scores\n",
    "change_non_resp_norm = (change_non_resp - change_resp.mean(axis=0))/change_resp.std(axis=0)\n",
    "\n",
    "\n",
    "\n",
    "\n",
    "#get domain df\n",
    "rythm_change_resp = change_resp_norm.iloc[:, 0:7]\n",
    "efficiency_change_resp = change_resp_norm.iloc[:, 7:13]\n",
    "body_weight_support_change_resp = change_resp_norm.iloc[:, 13:18]\n",
    "dynamic_stability_change_resp = change_resp_norm.iloc[:, 18:23]\n",
    "\n",
    "#Get arrays for box plot (then will be used for radar by concatenaining by condition)\n",
    "rythm_change_resp_array = np.array(rythm_change_resp.median())\n",
    "bws_change_resp_array = np.array(body_weight_support_change_resp.median())\n",
    "efficiency_change_resp_array = np.array(efficiency_change_resp.median())\n",
    "stability_change_resp_array = np.array(dynamic_stability_change_resp.median())\n",
    "\n",
    "#get domain df\n",
    "rythm_change_non_resp = change_non_resp_norm.iloc[:, 0:7]\n",
    "efficiency_change_non_resp = change_non_resp_norm.iloc[:, 7:13]\n",
    "body_weight_support_change_non_resp = change_non_resp_norm.iloc[:, 13:18]\n",
    "dynamic_stability_change_non_resp = change_non_resp_norm.iloc[:, 18:23]\n",
    "\n",
    "#Get arrays for box plot (then will be used for radar by concatenaining by condition)\n",
    "rythm_change_non_resp_array = np.array(rythm_change_non_resp.median())\n",
    "bws_change_non_resp_array = np.array(body_weight_support_change_non_resp.median())\n",
    "efficiency_change_non_resp_array = np.array(efficiency_change_non_resp.median())\n",
    "stability_change_non_resp_array = np.array(dynamic_stability_change_non_resp.median())\n",
    "\n",
    "\n",
    "\n",
    "import plotly.graph_objects as go\n",
    "import numpy as np\n",
    "\n",
    "data = [rythm_change_resp_array, rythm_change_non_resp_array, efficiency_change_resp_array, efficiency_change_non_resp_array,\n",
    "bws_change_resp_array, bws_change_non_resp_array, stability_change_resp_array, stability_change_non_resp_array]\n",
    "data = [-i for i in data]\n",
    "labels = ['Box 1', 'Box 2', 'Box 3', 'Box 4', 'Box 5', 'Box 6', 'Box 7', 'Box 8']\n",
    "\n",
    "# Define the colors for the boxes\n",
    "colors = ['rgba(0, 0, 0, 0.5)', 'orange', 'rgba(0, 0, 0, 0.5)', 'orange', 'rgba(0, 0, 0, 0.5)', 'orange', 'rgba(0, 0, 0, 0.5)', 'orange']\n",
    "\n",
    "traces = []\n",
    "for i in range(len(data)):\n",
    "    trace = go.Box(\n",
    "        y=data[i],\n",
    "        name=labels[i],\n",
    "        showlegend=False, \n",
    "        fillcolor='rgba(0, 0, 0, 0)',  # Make the box transparent\n",
    "        line=dict(color=colors[i], width=1),  # Set the border color and width\n",
    "    \n",
    "        marker=dict(size=0),  # Set marker size to 0\n",
    "        boxpoints=False,  # Disable individual data points\n",
    "        jitter=0  )# Set jitter to 0\n",
    "    traces.append(trace)\n",
    "\n",
    "# Calculate medians of the first three boxes\n",
    "medians = [np.median(i) for i in data]\n",
    "\n",
    "# Calculate medians of the last three boxes\n",
    "\n",
    "# Create dashed black lines connecting the medians\n",
    "traces.append(go.Scatter(x=labels[:2], y=medians[:2],\n",
    "                         mode='lines', showlegend=False,  line=dict(color='black', dash='dash', width = 1.5)))\n",
    "\n",
    "traces.append(go.Scatter(x=labels[2:4], y=medians[2:4],\n",
    "                         mode='lines', showlegend=False,  line=dict(color='black', dash='dash', width = 1.5)))\n",
    "\n",
    "traces.append(go.Scatter(x=labels[4:6], y=medians[4:6],\n",
    "                         mode='lines', showlegend=False,  line=dict(color='black', dash='dash', width = 1.5)))\n",
    "\n",
    "traces.append(go.Scatter(x=labels[6:8], y=medians[6:8],\n",
    "                         mode='lines', showlegend=False,  line=dict(color='black', dash='dash', width = 1.5)))\n",
    "\n",
    "layout = go.Layout(\n",
    "    title='Box Plot Resp vs non Resp',\n",
    "    yaxis=dict(title='Z-Scores', showticklabels=True),\n",
    "    xaxis=dict(showticklabels=False)\n",
    ")\n",
    "\n",
    "fig = go.Figure(data=traces, layout=layout)\n",
    "\n",
    "fig.update_layout(template = 'plotly_white', height=600, width=1000, showlegend=False)\n",
    "# fig.update_yaxes(range = [-10*10**(-15),15*10**(-15)])\n",
    "\n",
    "fig.show()\n",
    "\n",
    "\n",
    "\n",
    "# #Radar plot\n",
    "# change_resp_array = np.concatenate((rythm_change_resp_array, efficiency_change_resp_array, bws_change_resp_array, stability_change_resp_array))\n",
    "# change_non_resp_array = np.concatenate((rythm_change_non_resp_array, efficiency_change_non_resp_array, bws_change_non_resp_array, stability_change_non_resp_array))\n",
    "# # Define the columns for labeling\n",
    "# categories = ['ΔStep Time (s)', 'ΔStride Time (s)', 'ΔStep Frequency (step/min)',\n",
    "#        'ΔSwing Time (s)', 'ΔStance Time (s)', 'ΔStep Length (mm)',\n",
    "#        'ΔStride Length (mm)', 'ΔStep Time Variability (%)',\n",
    "#        'ΔStride Time Variability (%)', 'ΔSwing Time Variability (%)',\n",
    "#        'ΔStance Time Variability (%)', 'ΔStep Length Variability (%)',\n",
    "#        'ΔStride Length Variability (%)', 'ΔDouble Stance Time (s)',\n",
    "#        'ΔSwing Time Percentage (GC %)', 'ΔStance Time Percentage (GC %)',\n",
    "#        'ΔDouble Stance Time Percentage (GC %)',\n",
    "#        'ΔSingle Stance Time Percentage (GC %)', 'ΔStep Width (mm)',\n",
    "#        'ΔCOM ML GC Range (mm)', 'ΔCOM ML Velocity (mm/s)',\n",
    "#        'ΔCOM ML GC RMS Acc (mm/s2)', 'ΔCOM ML Linear Momentum (kg.m/s)']\n",
    "\n",
    "# fig = go.Figure()\n",
    "\n",
    "# fig.add_trace(go.Scatterpolar(\n",
    "#       r=change_resp_array,\n",
    "#       theta=categories,\n",
    "#       mode='markers',  # Add markers for each data point\n",
    "#       marker=dict(color='black', size=5, opacity = 0.5),  # Set the marker color and size\n",
    "#       fill='toself',\n",
    "#       name='resp',\n",
    "#       fillcolor='rgba(0, 0, 0, 0.15)',\n",
    "#       line=dict(color='black', dash='dash', width = 0)\n",
    "# ))\n",
    "# fig.add_trace(go.Scatterpolar(\n",
    "#       r=change_non_resp_array,\n",
    "#       theta=categories,\n",
    "#       mode='markers',  # Add markers for each data point\n",
    "#       marker=dict(color='orange', size=5, opacity = 0.5),  # Set the marker color and size\n",
    "#       fill='toself',\n",
    "#       name='non-resp',\n",
    "#       fillcolor='rgba(255, 165, 0, 0.5)',\n",
    "#       line=dict(color='orange', width = 0)\n",
    "# ))\n",
    "\n",
    "# fig.update_layout(\n",
    "#   polar=dict(\n",
    "#     radialaxis=dict(\n",
    "#       visible=True,\n",
    "#       range=[-0.5, 2.2]\n",
    "#     )),\n",
    "#   showlegend=False\n",
    "# )\n",
    "# fig.update_layout(template = 'plotly_white', height=1300, width=1600, showlegend=False)\n",
    "# fig.show()\n",
    "\n"
   ]
  },
  {
   "cell_type": "code",
   "execution_count": 3529,
   "metadata": {},
   "outputs": [],
   "source": [
    "change_norm  = change.reindex(columns =['mean_step_time (s)',\n",
    " 'mean_stride_time (s)',\n",
    " 'cadence (step/min)',\n",
    " 'mean_swing_time (s)',\n",
    " 'mean_stance_time (s)',\n",
    " 'mean_step_length (mm)',\n",
    " 'mean_stride_length (mm)',\n",
    " 'cov_step_time (%)',\n",
    " 'cov_stride_time (%)',\n",
    " 'cov_swing_time (%)',\n",
    " 'cov_stance_time (%)',\n",
    " 'cov_step_length (%)',\n",
    " 'cov_stride_length (%)',\n",
    " 'mean_ds_time (s)',\n",
    " 'swing_time_perctg (%)',\n",
    " 'stance_time_perctg (%)',\n",
    " 'ds_time_perctg (%)',\n",
    " 'ss_time_perctg (%)',\n",
    " 'mean_step_width (mm)',\n",
    " 'mean_GC_range_ML (mm)',\n",
    " 'mean_vel_ML (mm/s)',\n",
    " 'mean_GC_rms_acc_ML (mm/s2)',\n",
    " 'linear_momentum_ML (kg.m/s)'])\n",
    "change_norm.columns = ['Step Time (s)',\n",
    " 'Stride Time (s)',\n",
    " 'Step Frequency (step/min)',\n",
    " 'Swing Time (s)',\n",
    " 'Stance Time (s)',\n",
    " 'Step Length (mm)',\n",
    " 'Stride Length (mm)',\n",
    " 'Step Time Variability (%)',\n",
    " 'Stride Time Variability (%)',\n",
    " 'Swing Time Variability (%)',\n",
    " 'Stance Time Variability (%)',\n",
    " 'Step Length Variability (%)',\n",
    " 'Stride Length Variability (%)',\n",
    " 'Double Stance Time (s)',\n",
    " 'Swing Time Percentage (GC %)',\n",
    " 'Stance Time Percentage (GC %)',\n",
    " 'Double Stance Time Percentage (GC %)',\n",
    " 'Single Stance Time Percentage (GC %)',\n",
    " 'Step Width (mm)',\n",
    " 'COM ML GC Range (mm)',\n",
    " 'COM ML Velocity (mm/s)',\n",
    " 'COM ML GC RMS Acc (mm/s2)',\n",
    " 'COM ML Linear Momentum (kg.m/s)']\n"
   ]
  },
  {
   "cell_type": "code",
   "execution_count": 3530,
   "metadata": {},
   "outputs": [
    {
     "data": {
      "application/vnd.plotly.v1+json": {
       "config": {
        "plotlyServerURL": "https://plot.ly"
       },
       "data": [
        {
         "line": {
          "color": "blue",
          "width": 4
         },
         "mode": "lines",
         "type": "scatter",
         "x": [
          0,
          10,
          20,
          20,
          40,
          60,
          80,
          80,
          90,
          100
         ],
         "y": [
          -2,
          -4,
          -4,
          0,
          0,
          4,
          4,
          0,
          0,
          -2
         ]
        }
       ],
       "layout": {
        "height": 400,
        "showlegend": false,
        "template": {
         "data": {
          "bar": [
           {
            "error_x": {
             "color": "#2a3f5f"
            },
            "error_y": {
             "color": "#2a3f5f"
            },
            "marker": {
             "line": {
              "color": "white",
              "width": 0.5
             },
             "pattern": {
              "fillmode": "overlay",
              "size": 10,
              "solidity": 0.2
             }
            },
            "type": "bar"
           }
          ],
          "barpolar": [
           {
            "marker": {
             "line": {
              "color": "white",
              "width": 0.5
             },
             "pattern": {
              "fillmode": "overlay",
              "size": 10,
              "solidity": 0.2
             }
            },
            "type": "barpolar"
           }
          ],
          "carpet": [
           {
            "aaxis": {
             "endlinecolor": "#2a3f5f",
             "gridcolor": "#C8D4E3",
             "linecolor": "#C8D4E3",
             "minorgridcolor": "#C8D4E3",
             "startlinecolor": "#2a3f5f"
            },
            "baxis": {
             "endlinecolor": "#2a3f5f",
             "gridcolor": "#C8D4E3",
             "linecolor": "#C8D4E3",
             "minorgridcolor": "#C8D4E3",
             "startlinecolor": "#2a3f5f"
            },
            "type": "carpet"
           }
          ],
          "choropleth": [
           {
            "colorbar": {
             "outlinewidth": 0,
             "ticks": ""
            },
            "type": "choropleth"
           }
          ],
          "contour": [
           {
            "colorbar": {
             "outlinewidth": 0,
             "ticks": ""
            },
            "colorscale": [
             [
              0,
              "#0d0887"
             ],
             [
              0.1111111111111111,
              "#46039f"
             ],
             [
              0.2222222222222222,
              "#7201a8"
             ],
             [
              0.3333333333333333,
              "#9c179e"
             ],
             [
              0.4444444444444444,
              "#bd3786"
             ],
             [
              0.5555555555555556,
              "#d8576b"
             ],
             [
              0.6666666666666666,
              "#ed7953"
             ],
             [
              0.7777777777777778,
              "#fb9f3a"
             ],
             [
              0.8888888888888888,
              "#fdca26"
             ],
             [
              1,
              "#f0f921"
             ]
            ],
            "type": "contour"
           }
          ],
          "contourcarpet": [
           {
            "colorbar": {
             "outlinewidth": 0,
             "ticks": ""
            },
            "type": "contourcarpet"
           }
          ],
          "heatmap": [
           {
            "colorbar": {
             "outlinewidth": 0,
             "ticks": ""
            },
            "colorscale": [
             [
              0,
              "#0d0887"
             ],
             [
              0.1111111111111111,
              "#46039f"
             ],
             [
              0.2222222222222222,
              "#7201a8"
             ],
             [
              0.3333333333333333,
              "#9c179e"
             ],
             [
              0.4444444444444444,
              "#bd3786"
             ],
             [
              0.5555555555555556,
              "#d8576b"
             ],
             [
              0.6666666666666666,
              "#ed7953"
             ],
             [
              0.7777777777777778,
              "#fb9f3a"
             ],
             [
              0.8888888888888888,
              "#fdca26"
             ],
             [
              1,
              "#f0f921"
             ]
            ],
            "type": "heatmap"
           }
          ],
          "heatmapgl": [
           {
            "colorbar": {
             "outlinewidth": 0,
             "ticks": ""
            },
            "colorscale": [
             [
              0,
              "#0d0887"
             ],
             [
              0.1111111111111111,
              "#46039f"
             ],
             [
              0.2222222222222222,
              "#7201a8"
             ],
             [
              0.3333333333333333,
              "#9c179e"
             ],
             [
              0.4444444444444444,
              "#bd3786"
             ],
             [
              0.5555555555555556,
              "#d8576b"
             ],
             [
              0.6666666666666666,
              "#ed7953"
             ],
             [
              0.7777777777777778,
              "#fb9f3a"
             ],
             [
              0.8888888888888888,
              "#fdca26"
             ],
             [
              1,
              "#f0f921"
             ]
            ],
            "type": "heatmapgl"
           }
          ],
          "histogram": [
           {
            "marker": {
             "pattern": {
              "fillmode": "overlay",
              "size": 10,
              "solidity": 0.2
             }
            },
            "type": "histogram"
           }
          ],
          "histogram2d": [
           {
            "colorbar": {
             "outlinewidth": 0,
             "ticks": ""
            },
            "colorscale": [
             [
              0,
              "#0d0887"
             ],
             [
              0.1111111111111111,
              "#46039f"
             ],
             [
              0.2222222222222222,
              "#7201a8"
             ],
             [
              0.3333333333333333,
              "#9c179e"
             ],
             [
              0.4444444444444444,
              "#bd3786"
             ],
             [
              0.5555555555555556,
              "#d8576b"
             ],
             [
              0.6666666666666666,
              "#ed7953"
             ],
             [
              0.7777777777777778,
              "#fb9f3a"
             ],
             [
              0.8888888888888888,
              "#fdca26"
             ],
             [
              1,
              "#f0f921"
             ]
            ],
            "type": "histogram2d"
           }
          ],
          "histogram2dcontour": [
           {
            "colorbar": {
             "outlinewidth": 0,
             "ticks": ""
            },
            "colorscale": [
             [
              0,
              "#0d0887"
             ],
             [
              0.1111111111111111,
              "#46039f"
             ],
             [
              0.2222222222222222,
              "#7201a8"
             ],
             [
              0.3333333333333333,
              "#9c179e"
             ],
             [
              0.4444444444444444,
              "#bd3786"
             ],
             [
              0.5555555555555556,
              "#d8576b"
             ],
             [
              0.6666666666666666,
              "#ed7953"
             ],
             [
              0.7777777777777778,
              "#fb9f3a"
             ],
             [
              0.8888888888888888,
              "#fdca26"
             ],
             [
              1,
              "#f0f921"
             ]
            ],
            "type": "histogram2dcontour"
           }
          ],
          "mesh3d": [
           {
            "colorbar": {
             "outlinewidth": 0,
             "ticks": ""
            },
            "type": "mesh3d"
           }
          ],
          "parcoords": [
           {
            "line": {
             "colorbar": {
              "outlinewidth": 0,
              "ticks": ""
             }
            },
            "type": "parcoords"
           }
          ],
          "pie": [
           {
            "automargin": true,
            "type": "pie"
           }
          ],
          "scatter": [
           {
            "fillpattern": {
             "fillmode": "overlay",
             "size": 10,
             "solidity": 0.2
            },
            "type": "scatter"
           }
          ],
          "scatter3d": [
           {
            "line": {
             "colorbar": {
              "outlinewidth": 0,
              "ticks": ""
             }
            },
            "marker": {
             "colorbar": {
              "outlinewidth": 0,
              "ticks": ""
             }
            },
            "type": "scatter3d"
           }
          ],
          "scattercarpet": [
           {
            "marker": {
             "colorbar": {
              "outlinewidth": 0,
              "ticks": ""
             }
            },
            "type": "scattercarpet"
           }
          ],
          "scattergeo": [
           {
            "marker": {
             "colorbar": {
              "outlinewidth": 0,
              "ticks": ""
             }
            },
            "type": "scattergeo"
           }
          ],
          "scattergl": [
           {
            "marker": {
             "colorbar": {
              "outlinewidth": 0,
              "ticks": ""
             }
            },
            "type": "scattergl"
           }
          ],
          "scattermapbox": [
           {
            "marker": {
             "colorbar": {
              "outlinewidth": 0,
              "ticks": ""
             }
            },
            "type": "scattermapbox"
           }
          ],
          "scatterpolar": [
           {
            "marker": {
             "colorbar": {
              "outlinewidth": 0,
              "ticks": ""
             }
            },
            "type": "scatterpolar"
           }
          ],
          "scatterpolargl": [
           {
            "marker": {
             "colorbar": {
              "outlinewidth": 0,
              "ticks": ""
             }
            },
            "type": "scatterpolargl"
           }
          ],
          "scatterternary": [
           {
            "marker": {
             "colorbar": {
              "outlinewidth": 0,
              "ticks": ""
             }
            },
            "type": "scatterternary"
           }
          ],
          "surface": [
           {
            "colorbar": {
             "outlinewidth": 0,
             "ticks": ""
            },
            "colorscale": [
             [
              0,
              "#0d0887"
             ],
             [
              0.1111111111111111,
              "#46039f"
             ],
             [
              0.2222222222222222,
              "#7201a8"
             ],
             [
              0.3333333333333333,
              "#9c179e"
             ],
             [
              0.4444444444444444,
              "#bd3786"
             ],
             [
              0.5555555555555556,
              "#d8576b"
             ],
             [
              0.6666666666666666,
              "#ed7953"
             ],
             [
              0.7777777777777778,
              "#fb9f3a"
             ],
             [
              0.8888888888888888,
              "#fdca26"
             ],
             [
              1,
              "#f0f921"
             ]
            ],
            "type": "surface"
           }
          ],
          "table": [
           {
            "cells": {
             "fill": {
              "color": "#EBF0F8"
             },
             "line": {
              "color": "white"
             }
            },
            "header": {
             "fill": {
              "color": "#C8D4E3"
             },
             "line": {
              "color": "white"
             }
            },
            "type": "table"
           }
          ]
         },
         "layout": {
          "annotationdefaults": {
           "arrowcolor": "#2a3f5f",
           "arrowhead": 0,
           "arrowwidth": 1
          },
          "autotypenumbers": "strict",
          "coloraxis": {
           "colorbar": {
            "outlinewidth": 0,
            "ticks": ""
           }
          },
          "colorscale": {
           "diverging": [
            [
             0,
             "#8e0152"
            ],
            [
             0.1,
             "#c51b7d"
            ],
            [
             0.2,
             "#de77ae"
            ],
            [
             0.3,
             "#f1b6da"
            ],
            [
             0.4,
             "#fde0ef"
            ],
            [
             0.5,
             "#f7f7f7"
            ],
            [
             0.6,
             "#e6f5d0"
            ],
            [
             0.7,
             "#b8e186"
            ],
            [
             0.8,
             "#7fbc41"
            ],
            [
             0.9,
             "#4d9221"
            ],
            [
             1,
             "#276419"
            ]
           ],
           "sequential": [
            [
             0,
             "#0d0887"
            ],
            [
             0.1111111111111111,
             "#46039f"
            ],
            [
             0.2222222222222222,
             "#7201a8"
            ],
            [
             0.3333333333333333,
             "#9c179e"
            ],
            [
             0.4444444444444444,
             "#bd3786"
            ],
            [
             0.5555555555555556,
             "#d8576b"
            ],
            [
             0.6666666666666666,
             "#ed7953"
            ],
            [
             0.7777777777777778,
             "#fb9f3a"
            ],
            [
             0.8888888888888888,
             "#fdca26"
            ],
            [
             1,
             "#f0f921"
            ]
           ],
           "sequentialminus": [
            [
             0,
             "#0d0887"
            ],
            [
             0.1111111111111111,
             "#46039f"
            ],
            [
             0.2222222222222222,
             "#7201a8"
            ],
            [
             0.3333333333333333,
             "#9c179e"
            ],
            [
             0.4444444444444444,
             "#bd3786"
            ],
            [
             0.5555555555555556,
             "#d8576b"
            ],
            [
             0.6666666666666666,
             "#ed7953"
            ],
            [
             0.7777777777777778,
             "#fb9f3a"
            ],
            [
             0.8888888888888888,
             "#fdca26"
            ],
            [
             1,
             "#f0f921"
            ]
           ]
          },
          "colorway": [
           "#636efa",
           "#EF553B",
           "#00cc96",
           "#ab63fa",
           "#FFA15A",
           "#19d3f3",
           "#FF6692",
           "#B6E880",
           "#FF97FF",
           "#FECB52"
          ],
          "font": {
           "color": "#2a3f5f"
          },
          "geo": {
           "bgcolor": "white",
           "lakecolor": "white",
           "landcolor": "white",
           "showlakes": true,
           "showland": true,
           "subunitcolor": "#C8D4E3"
          },
          "hoverlabel": {
           "align": "left"
          },
          "hovermode": "closest",
          "mapbox": {
           "style": "light"
          },
          "paper_bgcolor": "white",
          "plot_bgcolor": "white",
          "polar": {
           "angularaxis": {
            "gridcolor": "#EBF0F8",
            "linecolor": "#EBF0F8",
            "ticks": ""
           },
           "bgcolor": "white",
           "radialaxis": {
            "gridcolor": "#EBF0F8",
            "linecolor": "#EBF0F8",
            "ticks": ""
           }
          },
          "scene": {
           "xaxis": {
            "backgroundcolor": "white",
            "gridcolor": "#DFE8F3",
            "gridwidth": 2,
            "linecolor": "#EBF0F8",
            "showbackground": true,
            "ticks": "",
            "zerolinecolor": "#EBF0F8"
           },
           "yaxis": {
            "backgroundcolor": "white",
            "gridcolor": "#DFE8F3",
            "gridwidth": 2,
            "linecolor": "#EBF0F8",
            "showbackground": true,
            "ticks": "",
            "zerolinecolor": "#EBF0F8"
           },
           "zaxis": {
            "backgroundcolor": "white",
            "gridcolor": "#DFE8F3",
            "gridwidth": 2,
            "linecolor": "#EBF0F8",
            "showbackground": true,
            "ticks": "",
            "zerolinecolor": "#EBF0F8"
           }
          },
          "shapedefaults": {
           "line": {
            "color": "#2a3f5f"
           }
          },
          "ternary": {
           "aaxis": {
            "gridcolor": "#DFE8F3",
            "linecolor": "#A2B1C6",
            "ticks": ""
           },
           "baxis": {
            "gridcolor": "#DFE8F3",
            "linecolor": "#A2B1C6",
            "ticks": ""
           },
           "bgcolor": "white",
           "caxis": {
            "gridcolor": "#DFE8F3",
            "linecolor": "#A2B1C6",
            "ticks": ""
           }
          },
          "title": {
           "x": 0.05
          },
          "xaxis": {
           "automargin": true,
           "gridcolor": "#EBF0F8",
           "linecolor": "#EBF0F8",
           "ticks": "",
           "title": {
            "standoff": 15
           },
           "zerolinecolor": "#EBF0F8",
           "zerolinewidth": 2
          },
          "yaxis": {
           "automargin": true,
           "gridcolor": "#EBF0F8",
           "linecolor": "#EBF0F8",
           "ticks": "",
           "title": {
            "standoff": 15
           },
           "zerolinecolor": "#EBF0F8",
           "zerolinewidth": 2
          }
         }
        },
        "title": {
         "text": ""
        },
        "width": 800,
        "xaxis": {
         "dtick": 20,
         "title": {
          "text": "GC%"
         }
        },
        "yaxis": {
         "tickvals": [
          0
         ],
         "title": {
          "text": ""
         }
        }
       }
      }
     },
     "metadata": {},
     "output_type": "display_data"
    }
   ],
   "source": [
    "# HPT controller\n",
    "\n",
    "import plotly.graph_objects as go\n",
    "import numpy as np\n",
    "\n",
    "Torque = np.array([-2, -4, -4, 0, 0, 4, 4, 0, 0, -2])\n",
    "GC = np.array([0, 10, 20, 20, 40, 60, 80, 80, 90, 100])\n",
    "\n",
    "fig = go.Figure()\n",
    "fig.add_trace(go.Scatter(\n",
    "    x=GC,\n",
    "    y=Torque,\n",
    "    mode='lines',\n",
    "    line=dict(color='blue', width=4),\n",
    "))\n",
    "\n",
    "for template in [\"plotly_white\"]:\n",
    "    fig.update_layout(template=template, title_text='')\n",
    "\n",
    "fig.update_layout(showlegend=False)\n",
    "\n",
    "# Hide y-axis graduations except 0\n",
    "fig.update_yaxes(tickvals=[0])\n",
    "\n",
    "# Display x-axis with intervals of 10\n",
    "fig.update_xaxes(dtick=20)\n",
    "\n",
    "fig.update_yaxes(title_text=\"\")\n",
    "fig.update_xaxes(title_text=\"GC%\")\n",
    "fig.update_layout(width=800, height=400)\n",
    "# Show the plot\n",
    "fig.show()\n"
   ]
  },
  {
   "cell_type": "code",
   "execution_count": 3531,
   "metadata": {},
   "outputs": [
    {
     "data": {
      "application/vnd.plotly.v1+json": {
       "config": {
        "plotlyServerURL": "https://plot.ly"
       },
       "data": [
        {
         "line": {
          "color": "blue",
          "width": 4
         },
         "mode": "lines",
         "type": "scatter",
         "x": [
          0,
          15,
          50,
          60,
          100
         ],
         "y": [
          4,
          -4,
          -4,
          4,
          4
         ]
        }
       ],
       "layout": {
        "height": 400,
        "showlegend": false,
        "template": {
         "data": {
          "bar": [
           {
            "error_x": {
             "color": "#2a3f5f"
            },
            "error_y": {
             "color": "#2a3f5f"
            },
            "marker": {
             "line": {
              "color": "white",
              "width": 0.5
             },
             "pattern": {
              "fillmode": "overlay",
              "size": 10,
              "solidity": 0.2
             }
            },
            "type": "bar"
           }
          ],
          "barpolar": [
           {
            "marker": {
             "line": {
              "color": "white",
              "width": 0.5
             },
             "pattern": {
              "fillmode": "overlay",
              "size": 10,
              "solidity": 0.2
             }
            },
            "type": "barpolar"
           }
          ],
          "carpet": [
           {
            "aaxis": {
             "endlinecolor": "#2a3f5f",
             "gridcolor": "#C8D4E3",
             "linecolor": "#C8D4E3",
             "minorgridcolor": "#C8D4E3",
             "startlinecolor": "#2a3f5f"
            },
            "baxis": {
             "endlinecolor": "#2a3f5f",
             "gridcolor": "#C8D4E3",
             "linecolor": "#C8D4E3",
             "minorgridcolor": "#C8D4E3",
             "startlinecolor": "#2a3f5f"
            },
            "type": "carpet"
           }
          ],
          "choropleth": [
           {
            "colorbar": {
             "outlinewidth": 0,
             "ticks": ""
            },
            "type": "choropleth"
           }
          ],
          "contour": [
           {
            "colorbar": {
             "outlinewidth": 0,
             "ticks": ""
            },
            "colorscale": [
             [
              0,
              "#0d0887"
             ],
             [
              0.1111111111111111,
              "#46039f"
             ],
             [
              0.2222222222222222,
              "#7201a8"
             ],
             [
              0.3333333333333333,
              "#9c179e"
             ],
             [
              0.4444444444444444,
              "#bd3786"
             ],
             [
              0.5555555555555556,
              "#d8576b"
             ],
             [
              0.6666666666666666,
              "#ed7953"
             ],
             [
              0.7777777777777778,
              "#fb9f3a"
             ],
             [
              0.8888888888888888,
              "#fdca26"
             ],
             [
              1,
              "#f0f921"
             ]
            ],
            "type": "contour"
           }
          ],
          "contourcarpet": [
           {
            "colorbar": {
             "outlinewidth": 0,
             "ticks": ""
            },
            "type": "contourcarpet"
           }
          ],
          "heatmap": [
           {
            "colorbar": {
             "outlinewidth": 0,
             "ticks": ""
            },
            "colorscale": [
             [
              0,
              "#0d0887"
             ],
             [
              0.1111111111111111,
              "#46039f"
             ],
             [
              0.2222222222222222,
              "#7201a8"
             ],
             [
              0.3333333333333333,
              "#9c179e"
             ],
             [
              0.4444444444444444,
              "#bd3786"
             ],
             [
              0.5555555555555556,
              "#d8576b"
             ],
             [
              0.6666666666666666,
              "#ed7953"
             ],
             [
              0.7777777777777778,
              "#fb9f3a"
             ],
             [
              0.8888888888888888,
              "#fdca26"
             ],
             [
              1,
              "#f0f921"
             ]
            ],
            "type": "heatmap"
           }
          ],
          "heatmapgl": [
           {
            "colorbar": {
             "outlinewidth": 0,
             "ticks": ""
            },
            "colorscale": [
             [
              0,
              "#0d0887"
             ],
             [
              0.1111111111111111,
              "#46039f"
             ],
             [
              0.2222222222222222,
              "#7201a8"
             ],
             [
              0.3333333333333333,
              "#9c179e"
             ],
             [
              0.4444444444444444,
              "#bd3786"
             ],
             [
              0.5555555555555556,
              "#d8576b"
             ],
             [
              0.6666666666666666,
              "#ed7953"
             ],
             [
              0.7777777777777778,
              "#fb9f3a"
             ],
             [
              0.8888888888888888,
              "#fdca26"
             ],
             [
              1,
              "#f0f921"
             ]
            ],
            "type": "heatmapgl"
           }
          ],
          "histogram": [
           {
            "marker": {
             "pattern": {
              "fillmode": "overlay",
              "size": 10,
              "solidity": 0.2
             }
            },
            "type": "histogram"
           }
          ],
          "histogram2d": [
           {
            "colorbar": {
             "outlinewidth": 0,
             "ticks": ""
            },
            "colorscale": [
             [
              0,
              "#0d0887"
             ],
             [
              0.1111111111111111,
              "#46039f"
             ],
             [
              0.2222222222222222,
              "#7201a8"
             ],
             [
              0.3333333333333333,
              "#9c179e"
             ],
             [
              0.4444444444444444,
              "#bd3786"
             ],
             [
              0.5555555555555556,
              "#d8576b"
             ],
             [
              0.6666666666666666,
              "#ed7953"
             ],
             [
              0.7777777777777778,
              "#fb9f3a"
             ],
             [
              0.8888888888888888,
              "#fdca26"
             ],
             [
              1,
              "#f0f921"
             ]
            ],
            "type": "histogram2d"
           }
          ],
          "histogram2dcontour": [
           {
            "colorbar": {
             "outlinewidth": 0,
             "ticks": ""
            },
            "colorscale": [
             [
              0,
              "#0d0887"
             ],
             [
              0.1111111111111111,
              "#46039f"
             ],
             [
              0.2222222222222222,
              "#7201a8"
             ],
             [
              0.3333333333333333,
              "#9c179e"
             ],
             [
              0.4444444444444444,
              "#bd3786"
             ],
             [
              0.5555555555555556,
              "#d8576b"
             ],
             [
              0.6666666666666666,
              "#ed7953"
             ],
             [
              0.7777777777777778,
              "#fb9f3a"
             ],
             [
              0.8888888888888888,
              "#fdca26"
             ],
             [
              1,
              "#f0f921"
             ]
            ],
            "type": "histogram2dcontour"
           }
          ],
          "mesh3d": [
           {
            "colorbar": {
             "outlinewidth": 0,
             "ticks": ""
            },
            "type": "mesh3d"
           }
          ],
          "parcoords": [
           {
            "line": {
             "colorbar": {
              "outlinewidth": 0,
              "ticks": ""
             }
            },
            "type": "parcoords"
           }
          ],
          "pie": [
           {
            "automargin": true,
            "type": "pie"
           }
          ],
          "scatter": [
           {
            "fillpattern": {
             "fillmode": "overlay",
             "size": 10,
             "solidity": 0.2
            },
            "type": "scatter"
           }
          ],
          "scatter3d": [
           {
            "line": {
             "colorbar": {
              "outlinewidth": 0,
              "ticks": ""
             }
            },
            "marker": {
             "colorbar": {
              "outlinewidth": 0,
              "ticks": ""
             }
            },
            "type": "scatter3d"
           }
          ],
          "scattercarpet": [
           {
            "marker": {
             "colorbar": {
              "outlinewidth": 0,
              "ticks": ""
             }
            },
            "type": "scattercarpet"
           }
          ],
          "scattergeo": [
           {
            "marker": {
             "colorbar": {
              "outlinewidth": 0,
              "ticks": ""
             }
            },
            "type": "scattergeo"
           }
          ],
          "scattergl": [
           {
            "marker": {
             "colorbar": {
              "outlinewidth": 0,
              "ticks": ""
             }
            },
            "type": "scattergl"
           }
          ],
          "scattermapbox": [
           {
            "marker": {
             "colorbar": {
              "outlinewidth": 0,
              "ticks": ""
             }
            },
            "type": "scattermapbox"
           }
          ],
          "scatterpolar": [
           {
            "marker": {
             "colorbar": {
              "outlinewidth": 0,
              "ticks": ""
             }
            },
            "type": "scatterpolar"
           }
          ],
          "scatterpolargl": [
           {
            "marker": {
             "colorbar": {
              "outlinewidth": 0,
              "ticks": ""
             }
            },
            "type": "scatterpolargl"
           }
          ],
          "scatterternary": [
           {
            "marker": {
             "colorbar": {
              "outlinewidth": 0,
              "ticks": ""
             }
            },
            "type": "scatterternary"
           }
          ],
          "surface": [
           {
            "colorbar": {
             "outlinewidth": 0,
             "ticks": ""
            },
            "colorscale": [
             [
              0,
              "#0d0887"
             ],
             [
              0.1111111111111111,
              "#46039f"
             ],
             [
              0.2222222222222222,
              "#7201a8"
             ],
             [
              0.3333333333333333,
              "#9c179e"
             ],
             [
              0.4444444444444444,
              "#bd3786"
             ],
             [
              0.5555555555555556,
              "#d8576b"
             ],
             [
              0.6666666666666666,
              "#ed7953"
             ],
             [
              0.7777777777777778,
              "#fb9f3a"
             ],
             [
              0.8888888888888888,
              "#fdca26"
             ],
             [
              1,
              "#f0f921"
             ]
            ],
            "type": "surface"
           }
          ],
          "table": [
           {
            "cells": {
             "fill": {
              "color": "#EBF0F8"
             },
             "line": {
              "color": "white"
             }
            },
            "header": {
             "fill": {
              "color": "#C8D4E3"
             },
             "line": {
              "color": "white"
             }
            },
            "type": "table"
           }
          ]
         },
         "layout": {
          "annotationdefaults": {
           "arrowcolor": "#2a3f5f",
           "arrowhead": 0,
           "arrowwidth": 1
          },
          "autotypenumbers": "strict",
          "coloraxis": {
           "colorbar": {
            "outlinewidth": 0,
            "ticks": ""
           }
          },
          "colorscale": {
           "diverging": [
            [
             0,
             "#8e0152"
            ],
            [
             0.1,
             "#c51b7d"
            ],
            [
             0.2,
             "#de77ae"
            ],
            [
             0.3,
             "#f1b6da"
            ],
            [
             0.4,
             "#fde0ef"
            ],
            [
             0.5,
             "#f7f7f7"
            ],
            [
             0.6,
             "#e6f5d0"
            ],
            [
             0.7,
             "#b8e186"
            ],
            [
             0.8,
             "#7fbc41"
            ],
            [
             0.9,
             "#4d9221"
            ],
            [
             1,
             "#276419"
            ]
           ],
           "sequential": [
            [
             0,
             "#0d0887"
            ],
            [
             0.1111111111111111,
             "#46039f"
            ],
            [
             0.2222222222222222,
             "#7201a8"
            ],
            [
             0.3333333333333333,
             "#9c179e"
            ],
            [
             0.4444444444444444,
             "#bd3786"
            ],
            [
             0.5555555555555556,
             "#d8576b"
            ],
            [
             0.6666666666666666,
             "#ed7953"
            ],
            [
             0.7777777777777778,
             "#fb9f3a"
            ],
            [
             0.8888888888888888,
             "#fdca26"
            ],
            [
             1,
             "#f0f921"
            ]
           ],
           "sequentialminus": [
            [
             0,
             "#0d0887"
            ],
            [
             0.1111111111111111,
             "#46039f"
            ],
            [
             0.2222222222222222,
             "#7201a8"
            ],
            [
             0.3333333333333333,
             "#9c179e"
            ],
            [
             0.4444444444444444,
             "#bd3786"
            ],
            [
             0.5555555555555556,
             "#d8576b"
            ],
            [
             0.6666666666666666,
             "#ed7953"
            ],
            [
             0.7777777777777778,
             "#fb9f3a"
            ],
            [
             0.8888888888888888,
             "#fdca26"
            ],
            [
             1,
             "#f0f921"
            ]
           ]
          },
          "colorway": [
           "#636efa",
           "#EF553B",
           "#00cc96",
           "#ab63fa",
           "#FFA15A",
           "#19d3f3",
           "#FF6692",
           "#B6E880",
           "#FF97FF",
           "#FECB52"
          ],
          "font": {
           "color": "#2a3f5f"
          },
          "geo": {
           "bgcolor": "white",
           "lakecolor": "white",
           "landcolor": "white",
           "showlakes": true,
           "showland": true,
           "subunitcolor": "#C8D4E3"
          },
          "hoverlabel": {
           "align": "left"
          },
          "hovermode": "closest",
          "mapbox": {
           "style": "light"
          },
          "paper_bgcolor": "white",
          "plot_bgcolor": "white",
          "polar": {
           "angularaxis": {
            "gridcolor": "#EBF0F8",
            "linecolor": "#EBF0F8",
            "ticks": ""
           },
           "bgcolor": "white",
           "radialaxis": {
            "gridcolor": "#EBF0F8",
            "linecolor": "#EBF0F8",
            "ticks": ""
           }
          },
          "scene": {
           "xaxis": {
            "backgroundcolor": "white",
            "gridcolor": "#DFE8F3",
            "gridwidth": 2,
            "linecolor": "#EBF0F8",
            "showbackground": true,
            "ticks": "",
            "zerolinecolor": "#EBF0F8"
           },
           "yaxis": {
            "backgroundcolor": "white",
            "gridcolor": "#DFE8F3",
            "gridwidth": 2,
            "linecolor": "#EBF0F8",
            "showbackground": true,
            "ticks": "",
            "zerolinecolor": "#EBF0F8"
           },
           "zaxis": {
            "backgroundcolor": "white",
            "gridcolor": "#DFE8F3",
            "gridwidth": 2,
            "linecolor": "#EBF0F8",
            "showbackground": true,
            "ticks": "",
            "zerolinecolor": "#EBF0F8"
           }
          },
          "shapedefaults": {
           "line": {
            "color": "#2a3f5f"
           }
          },
          "ternary": {
           "aaxis": {
            "gridcolor": "#DFE8F3",
            "linecolor": "#A2B1C6",
            "ticks": ""
           },
           "baxis": {
            "gridcolor": "#DFE8F3",
            "linecolor": "#A2B1C6",
            "ticks": ""
           },
           "bgcolor": "white",
           "caxis": {
            "gridcolor": "#DFE8F3",
            "linecolor": "#A2B1C6",
            "ticks": ""
           }
          },
          "title": {
           "x": 0.05
          },
          "xaxis": {
           "automargin": true,
           "gridcolor": "#EBF0F8",
           "linecolor": "#EBF0F8",
           "ticks": "",
           "title": {
            "standoff": 15
           },
           "zerolinecolor": "#EBF0F8",
           "zerolinewidth": 2
          },
          "yaxis": {
           "automargin": true,
           "gridcolor": "#EBF0F8",
           "linecolor": "#EBF0F8",
           "ticks": "",
           "title": {
            "standoff": 15
           },
           "zerolinecolor": "#EBF0F8",
           "zerolinewidth": 2
          }
         }
        },
        "title": {
         "text": ""
        },
        "width": 800,
        "xaxis": {
         "dtick": 20,
         "title": {
          "text": "GC%"
         }
        },
        "yaxis": {
         "tickvals": [
          0
         ],
         "title": {
          "text": ""
         }
        }
       }
      }
     },
     "metadata": {},
     "output_type": "display_data"
    }
   ],
   "source": [
    "# SRC controller\n",
    "\n",
    "import plotly.graph_objects as go\n",
    "import numpy as np\n",
    "\n",
    "Torque = np.array([4, -4, -4, 4, 4])\n",
    "GC = np.array([0, 15, 50, 60, 100])\n",
    "\n",
    "fig = go.Figure()\n",
    "fig.add_trace(go.Scatter(\n",
    "    x=GC,\n",
    "    y=Torque,\n",
    "    mode='lines',\n",
    "    line=dict(color='blue', width=4),\n",
    "))\n",
    "\n",
    "for template in [\"plotly_white\"]:\n",
    "    fig.update_layout(template=template, title_text='')\n",
    "\n",
    "fig.update_layout(showlegend=False)\n",
    "\n",
    "# Hide y-axis graduations except 0\n",
    "fig.update_yaxes(tickvals=[0])\n",
    "\n",
    "# Display x-axis with intervals of 10\n",
    "fig.update_xaxes(dtick=20)\n",
    "\n",
    "fig.update_yaxes(title_text=\"\")\n",
    "fig.update_xaxes(title_text=\"GC%\")\n",
    "fig.update_layout(width=800, height=400)\n",
    "# Show the plot\n",
    "fig.show()\n"
   ]
  }
 ],
 "metadata": {
  "interpreter": {
   "hash": "aee8b7b246df8f9039afb4144a1f6fd8d2ca17a180786b69acc140d282b71a49"
  },
  "kernelspec": {
   "display_name": "Python 3.10.4 64-bit",
   "language": "python",
   "name": "python3"
  },
  "language_info": {
   "codemirror_mode": {
    "name": "ipython",
    "version": 3
   },
   "file_extension": ".py",
   "mimetype": "text/x-python",
   "name": "python",
   "nbconvert_exporter": "python",
   "pygments_lexer": "ipython3",
   "version": "3.10.4"
  },
  "orig_nbformat": 4
 },
 "nbformat": 4,
 "nbformat_minor": 2
}
